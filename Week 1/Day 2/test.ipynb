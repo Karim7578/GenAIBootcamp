{
 "cells": [
  {
   "cell_type": "code",
   "execution_count": 1,
   "id": "bdd8382b",
   "metadata": {},
   "outputs": [
    {
     "data": {
      "text/plain": [
       "'PYTHON IS FUN!'"
      ]
     },
     "execution_count": 1,
     "metadata": {},
     "output_type": "execute_result"
    }
   ],
   "source": [
    "text = \"Python is Fun!\"\n",
    "text.upper()"
   ]
  },
  {
   "cell_type": "code",
   "execution_count": 2,
   "id": "8f532ddf",
   "metadata": {},
   "outputs": [
    {
     "data": {
      "text/plain": [
       "'Python is fun!'"
      ]
     },
     "execution_count": 2,
     "metadata": {},
     "output_type": "execute_result"
    }
   ],
   "source": [
    "text.capitalize()"
   ]
  },
  {
   "cell_type": "code",
   "execution_count": 3,
   "id": "e2e5da1f",
   "metadata": {},
   "outputs": [
    {
     "data": {
      "text/plain": [
       "'Python Is Fun!'"
      ]
     },
     "execution_count": 3,
     "metadata": {},
     "output_type": "execute_result"
    }
   ],
   "source": [
    "text.title()"
   ]
  },
  {
   "cell_type": "code",
   "execution_count": 4,
   "id": "a8f3ac01",
   "metadata": {},
   "outputs": [
    {
     "data": {
      "text/plain": [
       "10"
      ]
     },
     "execution_count": 4,
     "metadata": {},
     "output_type": "execute_result"
    }
   ],
   "source": [
    "text.find('F')"
   ]
  },
  {
   "cell_type": "code",
   "execution_count": 5,
   "id": "f5a2a76f",
   "metadata": {},
   "outputs": [
    {
     "data": {
      "text/plain": [
       "-1"
      ]
     },
     "execution_count": 5,
     "metadata": {},
     "output_type": "execute_result"
    }
   ],
   "source": [
    "text.find('f')"
   ]
  },
  {
   "cell_type": "code",
   "execution_count": 6,
   "id": "410743bd",
   "metadata": {},
   "outputs": [
    {
     "data": {
      "text/plain": [
       "7"
      ]
     },
     "execution_count": 6,
     "metadata": {},
     "output_type": "execute_result"
    }
   ],
   "source": [
    "text.find('is')"
   ]
  },
  {
   "cell_type": "code",
   "execution_count": 9,
   "id": "2f43991f",
   "metadata": {},
   "outputs": [],
   "source": [
    "fruits = [\"apple\", \"banana\", \"cherry\", \"date\", \"elderberry\"]"
   ]
  },
  {
   "cell_type": "code",
   "execution_count": 10,
   "id": "719a78e8",
   "metadata": {},
   "outputs": [
    {
     "name": "stdout",
     "output_type": "stream",
     "text": [
      "apple\n"
     ]
    }
   ],
   "source": [
    "print(fruits[0])"
   ]
  },
  {
   "cell_type": "code",
   "execution_count": 11,
   "id": "cc735d5d",
   "metadata": {},
   "outputs": [
    {
     "ename": "IndexError",
     "evalue": "list index out of range",
     "output_type": "error",
     "traceback": [
      "\u001b[31m---------------------------------------------------------------------------\u001b[39m",
      "\u001b[31mIndexError\u001b[39m                                Traceback (most recent call last)",
      "\u001b[36mCell\u001b[39m\u001b[36m \u001b[39m\u001b[32mIn[11]\u001b[39m\u001b[32m, line 1\u001b[39m\n\u001b[32m----> \u001b[39m\u001b[32m1\u001b[39m \u001b[38;5;28mprint\u001b[39m(\u001b[43mfruits\u001b[49m\u001b[43m[\u001b[49m\u001b[32;43m6\u001b[39;49m\u001b[43m]\u001b[49m)\n",
      "\u001b[31mIndexError\u001b[39m: list index out of range"
     ]
    }
   ],
   "source": [
    "print(fruits[6])\n"
   ]
  },
  {
   "cell_type": "code",
   "execution_count": 12,
   "id": "6e0aed67",
   "metadata": {},
   "outputs": [
    {
     "name": "stdout",
     "output_type": "stream",
     "text": [
      "blueberry\n"
     ]
    }
   ],
   "source": [
    "fruits[1] = \"blueberry\"\n",
    "print(fruits[1])"
   ]
  },
  {
   "cell_type": "code",
   "execution_count": 14,
   "id": "e35454e3",
   "metadata": {},
   "outputs": [],
   "source": [
    "fruits = [\"apple\", \"banana\", \"cherry\", \"date\", \"elderberry\"]"
   ]
  },
  {
   "cell_type": "code",
   "execution_count": 17,
   "id": "7f8918ad",
   "metadata": {},
   "outputs": [
    {
     "name": "stdout",
     "output_type": "stream",
     "text": [
      "['apple', 'banana', 'cherry', 'date', 'elderberry', 'fig', 'fig', 'fig']\n"
     ]
    }
   ],
   "source": [
    "fruits.append(\"fig\")\n",
    "print(fruits)"
   ]
  },
  {
   "cell_type": "code",
   "execution_count": 18,
   "id": "73bf96f7",
   "metadata": {},
   "outputs": [
    {
     "name": "stdout",
     "output_type": "stream",
     "text": [
      "['grape', 'apple', 'banana', 'cherry', 'date', 'elderberry', 'fig', 'fig', 'fig']\n"
     ]
    }
   ],
   "source": [
    "fruits.insert(0, 'grape') \n",
    "print(fruits)"
   ]
  },
  {
   "cell_type": "code",
   "execution_count": 19,
   "id": "5a413e49",
   "metadata": {},
   "outputs": [
    {
     "name": "stdout",
     "output_type": "stream",
     "text": [
      "apple\n",
      "banana\n",
      "cherry\n",
      "date\n"
     ]
    }
   ],
   "source": [
    "fruits = [\"apple\", \"banana\", \"cherry\", \"date\"]\n",
    "for str in fruits :\n",
    "    print(str)"
   ]
  },
  {
   "cell_type": "code",
   "execution_count": 23,
   "id": "de810c11",
   "metadata": {},
   "outputs": [
    {
     "name": "stdout",
     "output_type": "stream",
     "text": [
      "count_id  0\n",
      "count_id  1\n",
      "count_id  2\n",
      "count_id  3\n",
      "count_id  4\n"
     ]
    }
   ],
   "source": [
    "i = 0\n",
    "while i < 5:\n",
    "    print(\"count_id \" , i)\n",
    "    i +=1"
   ]
  },
  {
   "cell_type": "code",
   "execution_count": 29,
   "id": "c1c8f37f",
   "metadata": {},
   "outputs": [
    {
     "name": "stdout",
     "output_type": "stream",
     "text": [
      "{'name': 'John Doe', 'age': 45, 'sex': 'male'}\n"
     ]
    }
   ],
   "source": [
    "user_data = {\n",
    "    \"name\": \"John Doe\",\n",
    "    \"age\": 45,\n",
    "    \"sex\": \"male\",\n",
    "}\n",
    "\n",
    "print(user_data)"
   ]
  },
  {
   "cell_type": "code",
   "execution_count": 38,
   "id": "3904ff61",
   "metadata": {},
   "outputs": [
    {
     "data": {
      "text/plain": [
       "'George Orwell'"
      ]
     },
     "execution_count": 38,
     "metadata": {},
     "output_type": "execute_result"
    }
   ],
   "source": [
    "books = {\n",
    "    '1984': 'George Orwell',\n",
    "    'Brave New World': 'Aldous Huxley',\n",
    "    'The Great Gatsby': 'F. Scott Fitzgerald'\n",
    "}\n",
    "\n",
    "books['1984']"
   ]
  },
  {
   "cell_type": "code",
   "execution_count": 31,
   "id": "341ecfff",
   "metadata": {},
   "outputs": [
    {
     "name": "stdout",
     "output_type": "stream",
     "text": [
      "{'1984': 'George Orwell', 'Brave New World': 'Aldous Huxley', 'The Great Gatsby': 'Francis Scott Fitzgerald'}\n"
     ]
    }
   ],
   "source": [
    "books[\"The Great Gatsby\" ] = \"Francis Scott Fitzgerald\"\n",
    "print(books)"
   ]
  },
  {
   "cell_type": "code",
   "execution_count": 32,
   "id": "f98aacb2",
   "metadata": {},
   "outputs": [
    {
     "name": "stdout",
     "output_type": "stream",
     "text": [
      "{'1984': 'George Orwell', 'Brave New World': 'Aldous Huxley', 'The Great Gatsby': 'Francis Scott Fitzgerald', 'Moby Dick': 'Herman Melville'}\n"
     ]
    }
   ],
   "source": [
    "additional_info = {\"Moby Dick\" : \"Herman Melville\"}\n",
    "books.update(additional_info)\n",
    "print(books)"
   ]
  },
  {
   "cell_type": "code",
   "execution_count": 34,
   "id": "479d11df",
   "metadata": {},
   "outputs": [
    {
     "name": "stdout",
     "output_type": "stream",
     "text": [
      "None\n"
     ]
    }
   ],
   "source": [
    "print(books.get(\"To Kill a Mockingbird\"))"
   ]
  },
  {
   "cell_type": "code",
   "execution_count": 40,
   "id": "13dea5e3",
   "metadata": {},
   "outputs": [
    {
     "name": "stdout",
     "output_type": "stream",
     "text": [
      "Aldous Huxley\n",
      "{'1984': 'George Orwell', 'The Great Gatsby': 'F. Scott Fitzgerald'}\n"
     ]
    }
   ],
   "source": [
    "print(books.pop('Brave New World'))\n",
    "print(books)"
   ]
  },
  {
   "cell_type": "code",
   "execution_count": 49,
   "id": "485f8c24",
   "metadata": {},
   "outputs": [],
   "source": [
    "fruits = (\"apple\", \"blueberry\", \"strawberry\")"
   ]
  },
  {
   "cell_type": "code",
   "execution_count": 58,
   "id": "c709f808",
   "metadata": {},
   "outputs": [
    {
     "data": {
      "text/plain": [
       "'apple'"
      ]
     },
     "execution_count": 58,
     "metadata": {},
     "output_type": "execute_result"
    }
   ],
   "source": [
    "fruits[0]"
   ]
  },
  {
   "cell_type": "code",
   "execution_count": 55,
   "id": "9f71df07",
   "metadata": {},
   "outputs": [
    {
     "data": {
      "text/plain": [
       "0"
      ]
     },
     "execution_count": 55,
     "metadata": {},
     "output_type": "execute_result"
    }
   ],
   "source": [
    "fruits.index(\"apple\")"
   ]
  },
  {
   "cell_type": "code",
   "execution_count": 56,
   "id": "470cf5a1",
   "metadata": {},
   "outputs": [
    {
     "data": {
      "text/plain": [
       "1"
      ]
     },
     "execution_count": 56,
     "metadata": {},
     "output_type": "execute_result"
    }
   ],
   "source": [
    "fruits.count(\"blueberry\")"
   ]
  },
  {
   "cell_type": "code",
   "execution_count": 66,
   "id": "f6e8497f",
   "metadata": {},
   "outputs": [],
   "source": [
    "favorite_numbers = {1, 2, 3, 4, 5}"
   ]
  },
  {
   "cell_type": "code",
   "execution_count": 67,
   "id": "1b7e6083",
   "metadata": {},
   "outputs": [],
   "source": [
    "favorite_numbers.add(4)"
   ]
  },
  {
   "cell_type": "code",
   "execution_count": 68,
   "id": "4e782930",
   "metadata": {},
   "outputs": [],
   "source": [
    "favorite_numbers.clear()"
   ]
  },
  {
   "cell_type": "code",
   "execution_count": null,
   "id": "0e79927e",
   "metadata": {},
   "outputs": [],
   "source": [
    "prime_numbers = {2, 3, 5, 7, 11}\n",
    "\n"
   ]
  }
 ],
 "metadata": {
  "kernelspec": {
   "display_name": "Python 3",
   "language": "python",
   "name": "python3"
  },
  "language_info": {
   "codemirror_mode": {
    "name": "ipython",
    "version": 3
   },
   "file_extension": ".py",
   "mimetype": "text/x-python",
   "name": "python",
   "nbconvert_exporter": "python",
   "pygments_lexer": "ipython3",
   "version": "3.11.4"
  }
 },
 "nbformat": 4,
 "nbformat_minor": 5
}
