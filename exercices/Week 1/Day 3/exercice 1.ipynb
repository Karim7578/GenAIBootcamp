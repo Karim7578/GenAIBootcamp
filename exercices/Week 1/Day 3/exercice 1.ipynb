{
 "cells": [
  {
   "cell_type": "code",
   "execution_count": 3,
   "id": "ac53fb6a",
   "metadata": {},
   "outputs": [
    {
     "name": "stdout",
     "output_type": "stream",
     "text": [
      "8\n"
     ]
    }
   ],
   "source": [
    "def add_two_numbers (a,b):\n",
    "    return a + b \n",
    "\n",
    "print(add_two_numbers(3, 5)) \n"
   ]
  },
  {
   "cell_type": "code",
   "execution_count": 4,
   "id": "582f0f34",
   "metadata": {},
   "outputs": [
    {
     "name": "stdout",
     "output_type": "stream",
     "text": [
      "30\n"
     ]
    }
   ],
   "source": [
    "print(add_two_numbers(10, 20))"
   ]
  },
  {
   "cell_type": "code",
   "execution_count": 7,
   "id": "064e8246",
   "metadata": {},
   "outputs": [],
   "source": [
    "def greet (name):\n",
    "    return f\"Hello,{name}!\""
   ]
  },
  {
   "cell_type": "code",
   "execution_count": 8,
   "id": "1f16342f",
   "metadata": {},
   "outputs": [
    {
     "data": {
      "text/plain": [
       "'Hello,Alice!'"
      ]
     },
     "execution_count": 8,
     "metadata": {},
     "output_type": "execute_result"
    }
   ],
   "source": [
    "greet(\"Alice\")"
   ]
  },
  {
   "cell_type": "code",
   "execution_count": 9,
   "id": "cc96e514",
   "metadata": {},
   "outputs": [
    {
     "data": {
      "text/plain": [
       "'Hello,Bob!'"
      ]
     },
     "execution_count": 9,
     "metadata": {},
     "output_type": "execute_result"
    }
   ],
   "source": [
    "greet(\"Bob\")"
   ]
  },
  {
   "cell_type": "code",
   "execution_count": 10,
   "id": "63ecb37e",
   "metadata": {},
   "outputs": [],
   "source": [
    "def check_even_odd (number):\n",
    "    if number % 2 == 0:\n",
    "        return f\"Even\"\n",
    "    else :\n",
    "        return f\"Odd\""
   ]
  },
  {
   "cell_type": "code",
   "execution_count": 11,
   "id": "6c603f69",
   "metadata": {},
   "outputs": [
    {
     "data": {
      "text/plain": [
       "'Even'"
      ]
     },
     "execution_count": 11,
     "metadata": {},
     "output_type": "execute_result"
    }
   ],
   "source": [
    "check_even_odd(4)"
   ]
  },
  {
   "cell_type": "code",
   "execution_count": 12,
   "id": "53a5eb8b",
   "metadata": {},
   "outputs": [
    {
     "data": {
      "text/plain": [
       "'Odd'"
      ]
     },
     "execution_count": 12,
     "metadata": {},
     "output_type": "execute_result"
    }
   ],
   "source": [
    "check_even_odd(7)"
   ]
  },
  {
   "cell_type": "code",
   "execution_count": 15,
   "id": "c4e494d6",
   "metadata": {},
   "outputs": [],
   "source": [
    "def sum_list(numbers):\n",
    "    total = 0\n",
    "    for num in numbers:\n",
    "        total += num\n",
    "    return total"
   ]
  },
  {
   "cell_type": "code",
   "execution_count": null,
   "id": "e9e1582c",
   "metadata": {},
   "outputs": [],
   "source": [
    "def sum_list(numbers):\n",
    "    return sum(numbers)"
   ]
  },
  {
   "cell_type": "code",
   "execution_count": 28,
   "id": "07f72f7f",
   "metadata": {},
   "outputs": [
    {
     "name": "stdout",
     "output_type": "stream",
     "text": [
      "10\n"
     ]
    }
   ],
   "source": [
    "print(sum_list([1, 2, 3, 4]))"
   ]
  },
  {
   "cell_type": "code",
   "execution_count": 29,
   "id": "49bd711e",
   "metadata": {},
   "outputs": [
    {
     "name": "stdout",
     "output_type": "stream",
     "text": [
      "15\n"
     ]
    }
   ],
   "source": [
    "print(sum_list([5, 5, 5]))"
   ]
  },
  {
   "cell_type": "code",
   "execution_count": 22,
   "id": "5ae4dd25",
   "metadata": {},
   "outputs": [
    {
     "name": "stdout",
     "output_type": "stream",
     "text": [
      "Sunday\n",
      "Monday\n",
      "Tuesday\n",
      "Wednesday\n",
      "Thursday\n",
      "Friday\n"
     ]
    }
   ],
   "source": [
    "def print_days(week):\n",
    "    for weeks in week:\n",
    "        print(weeks)\n",
    "\n",
    "day_of_the_week = [\"Sunday\", \"Monday\", \"Tuesday\", 'Wednesday', \"Thursday\", \"Friday\"]\n",
    "print_days(day_of_the_week)"
   ]
  },
  {
   "cell_type": "code",
   "execution_count": null,
   "id": "39217d79",
   "metadata": {},
   "outputs": [],
   "source": [
    "def check_sign(number):\n",
    "    if number > 0:\n",
    "        return f\"Positive\"\n",
    "    elif number < 0:\n",
    "        return f\"Negative\"\n",
    "    else:\n",
    "        return f\"Zero\""
   ]
  },
  {
   "cell_type": "code",
   "execution_count": 25,
   "id": "54807930",
   "metadata": {},
   "outputs": [
    {
     "data": {
      "text/plain": [
       "'Positive'"
      ]
     },
     "execution_count": 25,
     "metadata": {},
     "output_type": "execute_result"
    }
   ],
   "source": [
    "check_sign(10)"
   ]
  },
  {
   "cell_type": "code",
   "execution_count": 26,
   "id": "d5ea29c8",
   "metadata": {},
   "outputs": [
    {
     "data": {
      "text/plain": [
       "'Negative'"
      ]
     },
     "execution_count": 26,
     "metadata": {},
     "output_type": "execute_result"
    }
   ],
   "source": [
    "check_sign(-5)"
   ]
  },
  {
   "cell_type": "code",
   "execution_count": 27,
   "id": "d7877820",
   "metadata": {},
   "outputs": [
    {
     "data": {
      "text/plain": [
       "'Zero'"
      ]
     },
     "execution_count": 27,
     "metadata": {},
     "output_type": "execute_result"
    }
   ],
   "source": [
    "check_sign(0)"
   ]
  },
  {
   "cell_type": "code",
   "execution_count": null,
   "id": "495d363f",
   "metadata": {},
   "outputs": [],
   "source": [
    "def repeat_word(word, number):\n",
    "    for number in range(number):\n",
    "        print(word)"
   ]
  },
  {
   "cell_type": "code",
   "execution_count": 44,
   "id": "907f407a",
   "metadata": {},
   "outputs": [
    {
     "name": "stdout",
     "output_type": "stream",
     "text": [
      "hello\n",
      "hello\n",
      "hello\n"
     ]
    }
   ],
   "source": [
    "repeat_word(\"hello\", 3)  "
   ]
  },
  {
   "cell_type": "code",
   "execution_count": 45,
   "id": "c2f1189f",
   "metadata": {},
   "outputs": [
    {
     "name": "stdout",
     "output_type": "stream",
     "text": [
      "goodbye\n",
      "goodbye\n"
     ]
    }
   ],
   "source": [
    "repeat_word(\"goodbye\", 2) "
   ]
  }
 ],
 "metadata": {
  "kernelspec": {
   "display_name": "Python 3",
   "language": "python",
   "name": "python3"
  },
  "language_info": {
   "codemirror_mode": {
    "name": "ipython",
    "version": 3
   },
   "file_extension": ".py",
   "mimetype": "text/x-python",
   "name": "python",
   "nbconvert_exporter": "python",
   "pygments_lexer": "ipython3",
   "version": "3.11.4"
  }
 },
 "nbformat": 4,
 "nbformat_minor": 5
}
