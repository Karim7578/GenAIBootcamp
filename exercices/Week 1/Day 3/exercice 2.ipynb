{
 "cells": [
  {
   "cell_type": "code",
   "execution_count": 9,
   "id": "86bf29ce",
   "metadata": {},
   "outputs": [],
   "source": [
    "def find_largest(numbers):\n",
    "    return max(numbers)"
   ]
  },
  {
   "cell_type": "code",
   "execution_count": 10,
   "id": "841f92f9",
   "metadata": {},
   "outputs": [
    {
     "name": "stdout",
     "output_type": "stream",
     "text": [
      "4\n"
     ]
    }
   ],
   "source": [
    "print(find_largest([1, 2, 3, 4]))"
   ]
  },
  {
   "cell_type": "code",
   "execution_count": 11,
   "id": "22190652",
   "metadata": {},
   "outputs": [
    {
     "name": "stdout",
     "output_type": "stream",
     "text": [
      "20\n"
     ]
    }
   ],
   "source": [
    "print(find_largest([10, 20, 5]))"
   ]
  },
  {
   "cell_type": "code",
   "execution_count": 13,
   "id": "f02e97fa",
   "metadata": {},
   "outputs": [],
   "source": [
    "def check_letter(word,letter):\n",
    "    if letter in word:\n",
    "        return \"True\"\n",
    "    else:\n",
    "        return \"False\""
   ]
  },
  {
   "cell_type": "code",
   "execution_count": 14,
   "id": "e85a5542",
   "metadata": {},
   "outputs": [
    {
     "name": "stdout",
     "output_type": "stream",
     "text": [
      "True\n"
     ]
    }
   ],
   "source": [
    "print(check_letter(\"apple\", \"a\"))"
   ]
  },
  {
   "cell_type": "code",
   "execution_count": 15,
   "id": "3172cce4",
   "metadata": {},
   "outputs": [
    {
     "name": "stdout",
     "output_type": "stream",
     "text": [
      "False\n"
     ]
    }
   ],
   "source": [
    "print(check_letter(\"banana\", \"z\"))"
   ]
  },
  {
   "cell_type": "code",
   "execution_count": 24,
   "id": "c97f1a49",
   "metadata": {},
   "outputs": [],
   "source": [
    "def count_to_number (number):\n",
    "     for number in range(1,number+1):\n",
    "        print(number)"
   ]
  },
  {
   "cell_type": "code",
   "execution_count": 25,
   "id": "b38125c9",
   "metadata": {},
   "outputs": [
    {
     "name": "stdout",
     "output_type": "stream",
     "text": [
      "1\n",
      "2\n",
      "3\n"
     ]
    }
   ],
   "source": [
    "count_to_number(3)"
   ]
  },
  {
   "cell_type": "code",
   "execution_count": 26,
   "id": "5201329d",
   "metadata": {},
   "outputs": [
    {
     "name": "stdout",
     "output_type": "stream",
     "text": [
      "1\n",
      "2\n",
      "3\n",
      "4\n",
      "5\n"
     ]
    }
   ],
   "source": [
    "count_to_number(5) "
   ]
  },
  {
   "cell_type": "code",
   "execution_count": null,
   "id": "2ab6d2f4",
   "metadata": {},
   "outputs": [],
   "source": []
  }
 ],
 "metadata": {
  "kernelspec": {
   "display_name": "Python 3",
   "language": "python",
   "name": "python3"
  },
  "language_info": {
   "codemirror_mode": {
    "name": "ipython",
    "version": 3
   },
   "file_extension": ".py",
   "mimetype": "text/x-python",
   "name": "python",
   "nbconvert_exporter": "python",
   "pygments_lexer": "ipython3",
   "version": "3.11.4"
  }
 },
 "nbformat": 4,
 "nbformat_minor": 5
}
