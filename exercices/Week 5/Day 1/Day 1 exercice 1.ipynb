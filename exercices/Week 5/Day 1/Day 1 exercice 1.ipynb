{
 "cells": [
  {
   "cell_type": "code",
   "execution_count": 7,
   "id": "4305e690",
   "metadata": {},
   "outputs": [
    {
     "data": {
      "text/plain": [
       "'Hello World'"
      ]
     },
     "execution_count": 7,
     "metadata": {},
     "output_type": "execute_result"
    }
   ],
   "source": [
    "first = \"Hello World\"\n",
    "first"
   ]
  },
  {
   "cell_type": "code",
   "execution_count": null,
   "id": "236f1b71",
   "metadata": {},
   "outputs": [],
   "source": [
    "#This is a comment."
   ]
  },
  {
   "cell_type": "code",
   "execution_count": 6,
   "id": "4eb5a9df",
   "metadata": {},
   "outputs": [
    {
     "name": "stdout",
     "output_type": "stream",
     "text": [
      "I AM A COMPUTER!\n"
     ]
    }
   ],
   "source": [
    "print(\"I AM A COMPUTER!\")"
   ]
  },
  {
   "cell_type": "code",
   "execution_count": 8,
   "id": "46fcb6e3",
   "metadata": {},
   "outputs": [
    {
     "name": "stdout",
     "output_type": "stream",
     "text": [
      "Math is fun.\n"
     ]
    }
   ],
   "source": [
    "if 1<2 and 4>2 : \n",
    "    print(\"Math is fun.\")"
   ]
  },
  {
   "cell_type": "code",
   "execution_count": null,
   "id": "9e504661",
   "metadata": {},
   "outputs": [],
   "source": [
    "nope = None"
   ]
  },
  {
   "cell_type": "code",
   "execution_count": 31,
   "id": "74f70927",
   "metadata": {},
   "outputs": [
    {
     "name": "stdout",
     "output_type": "stream",
     "text": [
      "False\n"
     ]
    }
   ],
   "source": [
    "result = True and False\n",
    "print(result)"
   ]
  },
  {
   "cell_type": "code",
   "execution_count": 9,
   "id": "9120359d",
   "metadata": {},
   "outputs": [
    {
     "name": "stdout",
     "output_type": "stream",
     "text": [
      "17\n"
     ]
    }
   ],
   "source": [
    "text = \"What's my length?\"\n",
    "length = len(text)\n",
    "print(length)"
   ]
  },
  {
   "cell_type": "code",
   "execution_count": 14,
   "id": "e6bce303",
   "metadata": {},
   "outputs": [
    {
     "name": "stdout",
     "output_type": "stream",
     "text": [
      "I AM SHOUTING\n"
     ]
    }
   ],
   "source": [
    "text = \"i am shouting\"\n",
    "print(text.upper())"
   ]
  },
  {
   "cell_type": "code",
   "execution_count": 1,
   "id": "d84698ad",
   "metadata": {},
   "outputs": [
    {
     "name": "stdout",
     "output_type": "stream",
     "text": [
      "1000\n"
     ]
    }
   ],
   "source": [
    "num = '1000'\n",
    "print(int(num))"
   ]
  },
  {
   "cell_type": "code",
   "execution_count": 16,
   "id": "84c97efe",
   "metadata": {},
   "outputs": [
    {
     "name": "stdout",
     "output_type": "stream",
     "text": [
      "4real\n"
     ]
    }
   ],
   "source": [
    "my_string = \"real\"\n",
    "new_string = \"4\" + my_string\n",
    "print(new_string) "
   ]
  },
  {
   "cell_type": "code",
   "execution_count": 17,
   "id": "cf876d6a",
   "metadata": {},
   "outputs": [
    {
     "name": "stdout",
     "output_type": "stream",
     "text": [
      "coolcoolcool\n"
     ]
    }
   ],
   "source": [
    "result = 3 * \"cool\"\n",
    "print(result)"
   ]
  },
  {
   "cell_type": "code",
   "execution_count": 18,
   "id": "c224fd70",
   "metadata": {},
   "outputs": [
    {
     "ename": "ZeroDivisionError",
     "evalue": "division by zero",
     "output_type": "error",
     "traceback": [
      "\u001b[31m---------------------------------------------------------------------------\u001b[39m",
      "\u001b[31mZeroDivisionError\u001b[39m                         Traceback (most recent call last)",
      "\u001b[36mCell\u001b[39m\u001b[36m \u001b[39m\u001b[32mIn[18]\u001b[39m\u001b[32m, line 1\u001b[39m\n\u001b[32m----> \u001b[39m\u001b[32m1\u001b[39m result = \u001b[32;43m1\u001b[39;49m\u001b[43m \u001b[49m\u001b[43m/\u001b[49m\u001b[43m \u001b[49m\u001b[32;43m0\u001b[39;49m\n\u001b[32m      2\u001b[39m \u001b[38;5;28mprint\u001b[39m(result)\n",
      "\u001b[31mZeroDivisionError\u001b[39m: division by zero"
     ]
    }
   ],
   "source": [
    "result = 1 / 0\n",
    "print(result)"
   ]
  },
  {
   "cell_type": "code",
   "execution_count": 19,
   "id": "d9398e6c",
   "metadata": {},
   "outputs": [
    {
     "name": "stdout",
     "output_type": "stream",
     "text": [
      "<class 'list'>\n"
     ]
    }
   ],
   "source": [
    "print(type([]))"
   ]
  },
  {
   "cell_type": "code",
   "execution_count": null,
   "id": "21fe9183",
   "metadata": {},
   "outputs": [
    {
     "name": "stdout",
     "output_type": "stream",
     "text": [
      "Karim \n"
     ]
    }
   ],
   "source": [
    "name = input(\"What is your name? \")\n",
    "print(name)"
   ]
  },
  {
   "cell_type": "code",
   "execution_count": 25,
   "id": "bc8b7947",
   "metadata": {},
   "outputs": [
    {
     "name": "stdout",
     "output_type": "stream",
     "text": [
      "That number is less than 0!\n"
     ]
    }
   ],
   "source": [
    "number = float(input(\"Can you give a number\"))\n",
    "\n",
    "if number < 0:\n",
    "    print(\"That number is less than 0!\")\n",
    "elif number > 0:\n",
    "    print(\"That number is greater than 0!\")\n",
    "else:\n",
    "    print(\"You picked 0!\")"
   ]
  },
  {
   "cell_type": "code",
   "execution_count": 28,
   "id": "b32abb93",
   "metadata": {},
   "outputs": [
    {
     "name": "stdout",
     "output_type": "stream",
     "text": [
      "3\n"
     ]
    }
   ],
   "source": [
    "word = \"apple\"\n",
    "print(word.index(\"l\"))"
   ]
  },
  {
   "cell_type": "code",
   "execution_count": 29,
   "id": "37c6698d",
   "metadata": {},
   "outputs": [
    {
     "name": "stdout",
     "output_type": "stream",
     "text": [
      "True\n"
     ]
    }
   ],
   "source": [
    "result = \"y\" in \"xylophone\"\n",
    "print(result)"
   ]
  },
  {
   "cell_type": "code",
   "execution_count": 30,
   "id": "6e27f04d",
   "metadata": {},
   "outputs": [
    {
     "name": "stdout",
     "output_type": "stream",
     "text": [
      "my_string is all lowercase.\n"
     ]
    }
   ],
   "source": [
    "if my_string.islower():\n",
    "    print(\"my_string is all lowercase.\")\n",
    "else:\n",
    "    print(\"my_string is not all lowercase.\")"
   ]
  }
 ],
 "metadata": {
  "kernelspec": {
   "display_name": "Python 3",
   "language": "python",
   "name": "python3"
  },
  "language_info": {
   "codemirror_mode": {
    "name": "ipython",
    "version": 3
   },
   "file_extension": ".py",
   "mimetype": "text/x-python",
   "name": "python",
   "nbconvert_exporter": "python",
   "pygments_lexer": "ipython3",
   "version": "3.11.4"
  }
 },
 "nbformat": 4,
 "nbformat_minor": 5
}
