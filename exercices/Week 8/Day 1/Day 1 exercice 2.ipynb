{
 "cells": [
  {
   "cell_type": "code",
   "execution_count": 1,
   "id": "5c4fdeda",
   "metadata": {},
   "outputs": [
    {
     "name": "stdout",
     "output_type": "stream",
     "text": [
      "[10, 56, 64]\n"
     ]
    }
   ],
   "source": [
    "human_years = 10\n",
    "\n",
    "# cat year\n",
    "if human_years == 1:\n",
    "    cat_years = 15\n",
    "elif human_years == 2:\n",
    "    cat_years = 15 + 9\n",
    "else:\n",
    "    cat_years = 15 + 9 + 4 * (human_years - 2)\n",
    "\n",
    "# dog year\n",
    "if human_years == 1:\n",
    "    dog_years = 15\n",
    "elif human_years == 2:\n",
    "    dog_years = 15 + 9\n",
    "else:\n",
    "    dog_years = 15 + 9 + 5 * (human_years - 2)\n",
    "\n",
    "print([human_years, cat_years, dog_years])"
   ]
  },
  {
   "cell_type": "code",
   "execution_count": 18,
   "id": "1c6d9cc6",
   "metadata": {},
   "outputs": [
    {
     "name": "stdout",
     "output_type": "stream",
     "text": [
      "[1, 15, 15]\n"
     ]
    }
   ],
   "source": [
    "human_years = 1\n",
    "\n",
    "# cat year\n",
    "if human_years == 1:\n",
    "    cat_years = 15\n",
    "elif human_years == 2:\n",
    "    cat_years = 15 + 9\n",
    "else:\n",
    "    cat_years = 15 + 9 + 4 * (human_years - 2)\n",
    "\n",
    "# dog year\n",
    "if human_years == 1:\n",
    "    dog_years = 15\n",
    "elif human_years == 2:\n",
    "    dog_years = 15 + 9\n",
    "else:\n",
    "    dog_years = 15 + 9 + 5 * (human_years - 2)\n",
    "\n",
    "print([human_years, cat_years, dog_years])"
   ]
  },
  {
   "cell_type": "code",
   "execution_count": 19,
   "id": "632836c0",
   "metadata": {},
   "outputs": [
    {
     "name": "stdout",
     "output_type": "stream",
     "text": [
      "[2, 24, 24]\n"
     ]
    }
   ],
   "source": [
    "human_years = 2\n",
    "\n",
    "# cat year\n",
    "if human_years == 1:\n",
    "    cat_years = 15\n",
    "elif human_years == 2:\n",
    "    cat_years = 15 + 9\n",
    "else:\n",
    "    cat_years = 15 + 9 + 4 * (human_years - 2)\n",
    "\n",
    "# dog year\n",
    "if human_years == 1:\n",
    "    dog_years = 15\n",
    "elif human_years == 2:\n",
    "    dog_years = 15 + 9\n",
    "else:\n",
    "    dog_years = 15 + 9 + 5 * (human_years - 2)\n",
    "\n",
    "print([human_years, cat_years, dog_years])"
   ]
  }
 ],
 "metadata": {
  "kernelspec": {
   "display_name": "Python 3",
   "language": "python",
   "name": "python3"
  },
  "language_info": {
   "codemirror_mode": {
    "name": "ipython",
    "version": 3
   },
   "file_extension": ".py",
   "mimetype": "text/x-python",
   "name": "python",
   "nbconvert_exporter": "python",
   "pygments_lexer": "ipython3",
   "version": "3.11.4"
  }
 },
 "nbformat": 4,
 "nbformat_minor": 5
}
