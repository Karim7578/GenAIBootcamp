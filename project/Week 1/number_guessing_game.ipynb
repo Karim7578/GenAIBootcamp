{
 "cells": [
  {
   "cell_type": "code",
   "execution_count": 35,
   "id": "b6fa7c51",
   "metadata": {},
   "outputs": [
    {
     "name": "stdout",
     "output_type": "stream",
     "text": [
      "Too High\n",
      "Too Low\n",
      "Too Low\n",
      "Too Low\n",
      "Too Low\n",
      "Too Low\n",
      "Too Low\n",
      "the correct number was 91\n"
     ]
    }
   ],
   "source": [
    "import random\n",
    "\n",
    "def number_guessing_game():\n",
    "    random_number = random.randint(1, 100)\n",
    "    max_attempts = 7 \n",
    "\n",
    "    for i in range(1,max_attempts+1):\n",
    "    \n",
    "        guess= int(input(\"What is your guess ?\"))\n",
    "        \n",
    "        if guess < random_number:\n",
    "                print(\"Too Low\")\n",
    "\n",
    "        elif guess > random_number:\n",
    "                print(\"Too High\")\n",
    "\n",
    "        else:\n",
    "                print(\"Congratulation it is the right number\")\n",
    "\n",
    "    else:\n",
    "            print(f\"the correct number was {random_number}\")\n",
    "   \n",
    "number_guessing_game()\n",
    "    "
   ]
  }
 ],
 "metadata": {
  "kernelspec": {
   "display_name": "Python 3",
   "language": "python",
   "name": "python3"
  },
  "language_info": {
   "codemirror_mode": {
    "name": "ipython",
    "version": 3
   },
   "file_extension": ".py",
   "mimetype": "text/x-python",
   "name": "python",
   "nbconvert_exporter": "python",
   "pygments_lexer": "ipython3",
   "version": "3.11.4"
  }
 },
 "nbformat": 4,
 "nbformat_minor": 5
}
