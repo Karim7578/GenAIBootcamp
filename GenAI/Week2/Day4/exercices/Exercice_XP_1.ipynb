{
 "cells": [
  {
   "cell_type": "code",
   "execution_count": 2,
   "id": "49a1e08e",
   "metadata": {},
   "outputs": [
    {
     "name": "stdout",
     "output_type": "stream",
     "text": [
      "Simba is just walking around\n",
      "Milo is just walking around\n",
      "Oliver is just walking around\n"
     ]
    }
   ],
   "source": [
    "class Pets():\n",
    "    def __init__(self, animals):\n",
    "        self.animals = animals\n",
    "\n",
    "    def walk(self):\n",
    "        for animal in self.animals:\n",
    "            print(animal.walk())\n",
    "\n",
    "class Cat():\n",
    "    is_lazy = True\n",
    "\n",
    "    def __init__(self, name, age):\n",
    "        self.name = name\n",
    "        self.age = age\n",
    "\n",
    "    def walk(self):\n",
    "        return f'{self.name} is just walking around'\n",
    "\n",
    "class Bengal(Cat):\n",
    "    def sing(self, sounds):\n",
    "        return f'{sounds}'\n",
    "\n",
    "class Chartreux(Cat):\n",
    "    def sing(self, sounds):\n",
    "        return f'{sounds}'\n",
    "    \n",
    "class Siamese(Cat):\n",
    "    def __init__(self, name, age, color):\n",
    "        super().__init__(name, age)\n",
    "        self.color = color\n",
    "\n",
    "# Step 2: Create a list of cat instances\n",
    "bengal_obj = Bengal(\"Simba\", 3)\n",
    "chartreux_obj = Chartreux(\"Milo\", 5)\n",
    "siamese_obj = Siamese(\"Oliver\", 2, \"chocolate\")\n",
    "\n",
    "all_cats = [bengal_obj, chartreux_obj, siamese_obj]\n",
    "\n",
    "# Step 3: Create a Pets instance\n",
    "sara_pets = Pets(all_cats)\n",
    "\n",
    "# Step 4: Take cats for a walk\n",
    "sara_pets.walk()"
   ]
  },
  {
   "cell_type": "code",
   "execution_count": 1,
   "id": "ab7fdc3d",
   "metadata": {},
   "outputs": [
    {
     "name": "stdout",
     "output_type": "stream",
     "text": [
      "Rex is barking\n",
      "Max is barking\n",
      "Buddy is barking\n",
      "Max won the fight against Rex\n"
     ]
    }
   ],
   "source": [
    "#Step 1:Step 1: Create the Dog Class\n",
    "class Dog:\n",
    "    def __init__(self,name,age,weight):\n",
    "        self.name = name\n",
    "        self.age = age\n",
    "        self.weight = weight\n",
    "\n",
    "    def bark(self):\n",
    "        return f\"{self.name} is barking\"\n",
    "\n",
    "    def run_speed(self):\n",
    "        return self.weight / self.age * 10\n",
    "\n",
    "    def fight(self, other_dog):\n",
    "        self_power = self.run_speed() * self.weight\n",
    "        other_power = other_dog.run_speed() * other_dog.weight\n",
    "        \n",
    "        if self_power > other_power:\n",
    "            return f\"{self.name} won the fight against {other_dog.name}\"\n",
    "        elif self_power < other_power:\n",
    "            return f\"{other_dog.name} won the fight against {self.name}\"\n",
    "        else:\n",
    "            return f\"It's a tie between {self.name} and {other_dog.name}\"\n",
    "        \n",
    "# Step 2: Create Dog Instances\n",
    "dog1 = Dog(\"Rex\", 3, 30)\n",
    "dog2 = Dog(\"Max\", 5, 40)\n",
    "dog3 = Dog(\"Buddy\", 2, 25)\n",
    "\n",
    "# Step 3: Test Dog Methods\n",
    "print(dog1.bark())  # \"Rex is barking\"\n",
    "print(dog2.bark())  # \"Max is barking\"\n",
    "print(dog3.bark())  # \"Buddy is barking\"\n",
    "\n",
    "print(dog1.fight(dog2))  # \"\n"
   ]
  }
 ],
 "metadata": {
  "kernelspec": {
   "display_name": "Python 3",
   "language": "python",
   "name": "python3"
  },
  "language_info": {
   "codemirror_mode": {
    "name": "ipython",
    "version": 3
   },
   "file_extension": ".py",
   "mimetype": "text/x-python",
   "name": "python",
   "nbconvert_exporter": "python",
   "pygments_lexer": "ipython3",
   "version": "3.11.4"
  }
 },
 "nbformat": 4,
 "nbformat_minor": 5
}
