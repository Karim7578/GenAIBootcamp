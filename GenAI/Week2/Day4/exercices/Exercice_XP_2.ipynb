{
 "cells": [
  {
   "cell_type": "code",
   "execution_count": 1,
   "id": "0791c383",
   "metadata": {},
   "outputs": [
    {
     "ename": "ModuleNotFoundError",
     "evalue": "No module named 'Dog'",
     "output_type": "error",
     "traceback": [
      "\u001b[31m---------------------------------------------------------------------------\u001b[39m",
      "\u001b[31mModuleNotFoundError\u001b[39m                       Traceback (most recent call last)",
      "\u001b[36mCell\u001b[39m\u001b[36m \u001b[39m\u001b[32mIn[1]\u001b[39m\u001b[32m, line 3\u001b[39m\n\u001b[32m      1\u001b[39m \u001b[38;5;66;03m# Step 1: Import the Dog Class\u001b[39;00m\n\u001b[32m----> \u001b[39m\u001b[32m3\u001b[39m \u001b[38;5;28;01mimport\u001b[39;00m\u001b[38;5;250m \u001b[39m\u001b[34;01mDog\u001b[39;00m\n\u001b[32m      5\u001b[39m \u001b[38;5;28;01mimport\u001b[39;00m\u001b[38;5;250m \u001b[39m\u001b[34;01mrandom\u001b[39;00m\n\u001b[32m      7\u001b[39m \u001b[38;5;66;03m# Step 2: Create the PetDog Class\u001b[39;00m\n",
      "\u001b[31mModuleNotFoundError\u001b[39m: No module named 'Dog'"
     ]
    }
   ],
   "source": [
    "# Step 1: Import the Dog Class\n",
    "\n",
    "import Dog\n",
    "\n",
    "import random\n",
    "\n",
    "# Step 2: Create the PetDog Class\n",
    "\n",
    "class PetDog(Dog):\n",
    "    def __init__(self,trained = False ):\n",
    "        self.trained = trained\n",
    "\n",
    "def train(self):\n",
    "    print(self.bark())\n",
    "    self.trained = True\n",
    "\n",
    "def play(*args):\n",
    "        dog_names = [self.name] + [dog.name for dog in args]\n",
    "        print(f\"{', '.join(dog_names)} all play together\")\n",
    "\n",
    "def do_a_trick(self):\n",
    "        tricks = [\"does a barrel roll\",\"stands on his back legs\",\"shakes your hand\",\"plays dead\"]\n",
    "        if self.trained:\n",
    "            random_index = random.randint(0, len(tricks) - 1)\n",
    "            selected_trick = tricks[random_index]\n",
    "            print(f\"{self.name} {selected_trick}\")\n",
    "        else:\n",
    "            print(f\"{self.name} is not trained yet!\")\n",
    "\n",
    "# Step 3: Test PetDog Methods\n",
    "# Create instances\n",
    "dog1 = PetDog(\"Rex\", 3, 30)\n",
    "dog2 = PetDog(\"Max\", 5, 40)\n",
    "dog3 = PetDog(\"Buddy\", 2, 25)\n",
    "\n",
    "# Test train() method\n",
    "print(\"Training:\")\n",
    "dog1.train()\n"
   ]
  },
  {
   "cell_type": "code",
   "execution_count": null,
   "id": "0e9bd355",
   "metadata": {},
   "outputs": [
    {
     "name": "stdout",
     "output_type": "stream",
     "text": [
      "Congratulations! John Smith was born into the family.\n",
      "Congratulations! Jane Smith was born into the family.\n",
      "Congratulations! Mike Smith was born into the family.\n",
      "Congratulations! Sarah Smith was born into the family.\n"
     ]
    }
   ],
   "source": [
    "#Exercice 4\n",
    "\n",
    "class Person:\n",
    "    def __init__(self, first_name, age, last_name=\"\"):\n",
    "        self.first_name = first_name\n",
    "        self.age = age\n",
    "        self.last_name = last_name\n",
    "    \n",
    "    def is_18(self):\n",
    "        return self.age >= 18\n",
    "\n",
    "\n",
    "class Family:\n",
    "    def __init__(self, last_name):\n",
    "        self.last_name = last_name\n",
    "        self.members = []\n",
    "    \n",
    "    def born(self, first_name, age):\n",
    "        # Create new person with family last name\n",
    "        new_person = Person(first_name, age, self.last_name)\n",
    "        self.members.append(new_person)\n",
    "        print(f\"Congratulations! {first_name} {self.last_name} was born into the family.\")\n",
    "    \n",
    "    def check_majority(self, first_name):\n",
    "        for person in self.members:\n",
    "            if person.first_name == first_name:\n",
    "                if person.is_18():\n",
    "                    print(f\"You are over 18, your parents accept that you will go out with your friends\")\n",
    "                else:\n",
    "                    print(f\"Sorry {first_name}, you are not allowed to go out with your friends.\")\n",
    "                return\n",
    "        print(f\"{first_name} is not a member of this family.\")\n",
    "    \n",
    "    def family_presentation(self):\n",
    "        print(f\"\\n{self.last_name} Family Members:\")\n",
    "        for member in self.members:\n",
    "            print(f\"- {member.first_name}, {member.age} years old\")  # Fixed missing parenthesis and added \"years old\"\n",
    "\n",
    "\n",
    "# Testing the classes\n",
    "if __name__ == \"__main__\":\n",
    "    # Create a family\n",
    "    smith_family = Family(\"Smith\")\n",
    "    \n",
    "    # Add family members\n",
    "    smith_family.born(\"John\", 45)    \n",
    "    smith_family.born(\"Jane\", 42)    \n",
    "    smith_family.born(\"Mike\", 16)    \n",
    "    smith_family.born(\"Sarah\", 19)   "
   ]
  }
 ],
 "metadata": {
  "kernelspec": {
   "display_name": "Python 3",
   "language": "python",
   "name": "python3"
  },
  "language_info": {
   "codemirror_mode": {
    "name": "ipython",
    "version": 3
   },
   "file_extension": ".py",
   "mimetype": "text/x-python",
   "name": "python",
   "nbconvert_exporter": "python",
   "pygments_lexer": "ipython3",
   "version": "3.11.4"
  }
 },
 "nbformat": 4,
 "nbformat_minor": 5
}
