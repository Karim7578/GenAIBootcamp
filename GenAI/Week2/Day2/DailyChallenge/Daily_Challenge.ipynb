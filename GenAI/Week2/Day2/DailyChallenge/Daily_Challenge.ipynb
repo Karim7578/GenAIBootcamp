{
 "cells": [
  {
   "cell_type": "code",
   "execution_count": 2,
   "id": "6561c161",
   "metadata": {},
   "outputs": [
    {
     "name": "stdout",
     "output_type": "stream",
     "text": [
      "{'t': [0, 2], 'o': [1, 3]}\n"
     ]
    }
   ],
   "source": [
    "\n",
    "def word_dict(word) : \n",
    "\n",
    "    result = {}\n",
    "\n",
    "    for index, letter in enumerate(word):\n",
    "    \n",
    "        if letter not in result:\n",
    "            result[letter] = []\n",
    "        result[letter].append(index)\n",
    "  \n",
    "    return result\n",
    "\n",
    "word_selected = input(\"Entrez un mot de votre choix\")\n",
    "\n",
    "print(word_dict(word_selected))"
   ]
  }
 ],
 "metadata": {
  "kernelspec": {
   "display_name": "Python 3",
   "language": "python",
   "name": "python3"
  },
  "language_info": {
   "codemirror_mode": {
    "name": "ipython",
    "version": 3
   },
   "file_extension": ".py",
   "mimetype": "text/x-python",
   "name": "python",
   "nbconvert_exporter": "python",
   "pygments_lexer": "ipython3",
   "version": "3.11.4"
  }
 },
 "nbformat": 4,
 "nbformat_minor": 5
}
