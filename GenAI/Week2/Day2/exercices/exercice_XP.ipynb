{
 "cells": [
  {
   "cell_type": "code",
   "execution_count": null,
   "id": "7c5335d8",
   "metadata": {},
   "outputs": [
    {
     "name": "stdout",
     "output_type": "stream",
     "text": [
      "{'Ten': 10, 'Twenty': 20, 'Thirty': 30}\n"
     ]
    }
   ],
   "source": [
    "#exercice 1\n",
    "keys = ['Ten', 'Twenty', 'Thirty']\n",
    "values = [10, 20, 30]\n",
    "number_dict = dict(zip(keys, values))\n",
    "print(number_dict)"
   ]
  },
  {
   "cell_type": "code",
   "execution_count": null,
   "id": "a014eae7",
   "metadata": {},
   "outputs": [
    {
     "name": "stdout",
     "output_type": "stream",
     "text": [
      "Rick (age 43) - Ticket Price: $15\n",
      "Beth (age 13) - Ticket Price: $15\n",
      "Morty (age 5) - Ticket Price: $10\n",
      "Summer (age 8) - Ticket Price: $10\n",
      "\n",
      "The total price will be $50\n"
     ]
    }
   ],
   "source": [
    "#exercice 2 \n",
    "\n",
    "family = {\"rick\": 43, 'beth': 13, 'morty': 5, 'summer': 8}\n",
    "\n",
    "total_price = 0\n",
    "\n",
    "for name, age in family.items():\n",
    "    if age < 3:\n",
    "        price = 0\n",
    "    elif 3 <= age < 12:\n",
    "        price = 10\n",
    "    else:\n",
    "        price = 15\n",
    "\n",
    "    total_price += price\n",
    "    \n",
    "    print(f\"{name.title()} (age {age}) - Ticket Price: ${price}\")\n",
    "    \n",
    "\n",
    "print(f\"\\nThe total price will be ${total_price}\")"
   ]
  },
  {
   "cell_type": "code",
   "execution_count": 20,
   "id": "f33e0e00",
   "metadata": {},
   "outputs": [
    {
     "name": "stdout",
     "output_type": "stream",
     "text": [
      "{'name': 'Zara', 'creation_date': '1975', 'creator_name': 'Amancio Ortega Gaona', 'type_of_clothes': 'men, women, children, home', 'international_competitors': 'Gap, H&M, Benetton', 'number_stores': 7000, 'Major_color': {'France': 'blue', 'Spain': 'red', 'US': ['pink', 'green']}}\n",
      "Zara customers wear: men, women, children, home\n",
      "{'name': 'Zara', 'creation_date': '1975', 'creator_name': 'Amancio Ortega Gaona', 'type_of_clothes': 'men, women, children, home', 'international_competitors': 'Gap, H&M, Benetton', 'number_stores': 2, 'Major_color': {'France': 'blue', 'Spain': 'red', 'US': ['pink', 'green']}}\n",
      "{'name': 'Zara', 'creation_date': '1975', 'creator_name': 'Amancio Ortega Gaona', 'type_of_clothes': 'men, women, children, home', 'international_competitors': 'Gap, H&M, Benetton', 'number_stores': 2, 'Major_color': {'France': 'blue', 'Spain': 'red', 'US': ['pink', 'green']}, 'country_creation': 'Spain'}\n",
      "{'name': 'Zara', 'creation_date': '1975', 'creator_name': 'Amancio Ortega Gaona', 'type_of_clothes': 'men, women, children, home', 'international_competitors': ['Gap', 'H&M', 'Benetton', 'Desigual'], 'number_stores': 2, 'Major_color': {'France': 'blue', 'Spain': 'red', 'US': ['pink', 'green']}, 'country_creation': 'Spain'}\n",
      "{'name': 'Zara', 'creator_name': 'Amancio Ortega Gaona', 'type_of_clothes': 'men, women, children, home', 'international_competitors': ['Gap', 'H&M', 'Benetton', 'Desigual'], 'number_stores': 2, 'Major_color': {'France': 'blue', 'Spain': 'red', 'US': ['pink', 'green']}, 'country_creation': 'Spain'}\n",
      "Last international competitor: Desigual\n",
      "Major clothes colors in the US: pink, green\n",
      "Dictionary length: 7\n",
      "Dictionary keys: ['name', 'creator_name', 'type_of_clothes', 'international_competitors', 'number_stores', 'Major_color', 'country_creation']\n",
      "Number of stores after update: 10000\n"
     ]
    }
   ],
   "source": [
    "Zara_dict = {\n",
    "    \"name\": \"Zara\",\n",
    "    \"creation_date\": \"1975\",\n",
    "    \"creator_name\": \"Amancio Ortega Gaona\",\n",
    "    \"type_of_clothes\": \"men, women, children, home\",\n",
    "    \"international_competitors\": \"Gap, H&M, Benetton\",\n",
    "    \"number_stores\": 7000,\n",
    "    \"Major_color\": {\n",
    "        \"France\": \"blue\",\n",
    "        \"Spain\": \"red\",\n",
    "        \"US\": [\"pink\", \"green\"]\n",
    "    }\n",
    "}\n",
    "\n",
    "print(Zara_dict)\n",
    "\n",
    "# Print a sentence describing Zara’s clients using the type_of_clothes key\n",
    "print(\"Zara customers wear:\", Zara_dict['type_of_clothes'])\n",
    "\n",
    "# Modify number of stores\n",
    "Zara_dict[\"number_stores\"] = 2\n",
    "print(Zara_dict)\n",
    "\n",
    "# Add country_creation key\n",
    "Zara_dict['country_creation'] = 'Spain'\n",
    "print(Zara_dict)\n",
    "\n",
    "# Add \"Desigual\" to the list of competitors\n",
    "if \"international_competitors\" in Zara_dict:\n",
    "    competitors = Zara_dict[\"international_competitors\"].split(\", \")\n",
    "    competitors.append(\"Desigual\")\n",
    "    Zara_dict[\"international_competitors\"] = competitors\n",
    "print(Zara_dict)\n",
    "\n",
    "# Delete the creation_date key\n",
    "Zara_dict.pop(\"creation_date\", None)\n",
    "print(Zara_dict)\n",
    "\n",
    "# Print the last international competitor\n",
    "print(f\"Last international competitor: {Zara_dict['international_competitors'][-1]}\")\n",
    "\n",
    "# Print the major colors in the US\n",
    "print(f\"Major clothes colors in the US: {', '.join(Zara_dict['Major_color']['US'])}\")\n",
    "\n",
    "# Print the number of keys in the dictionary\n",
    "print(f\"Dictionary length: {len(Zara_dict)}\")\n",
    "print(f\"Dictionary keys: {list(Zara_dict.keys())}\")\n",
    "\n",
    "# Merge more_on_zara dictionary\n",
    "more_on_zara = {\"creation_date\": 1975, \"number_stores\": 10000}\n",
    "Zara_dict.update(more_on_zara)\n",
    "\n",
    "print(f\"Number of stores after update: {Zara_dict['number_stores']}\")\n"
   ]
  },
  {
   "cell_type": "code",
   "execution_count": 19,
   "id": "9ec947f1",
   "metadata": {},
   "outputs": [
    {
     "name": "stdout",
     "output_type": "stream",
     "text": [
      "The city Paris is in the country France.\n",
      "The city Paris is in the country Unknown.\n"
     ]
    }
   ],
   "source": [
    "#exercice 4 \n",
    "\n",
    "def describe_city(city, Country=\"Unknown\"):\n",
    "    print(f\"The city {city} is in the country {Country}.\")\n",
    "\n",
    "describe_city(\"Paris\", \"France\")\n",
    "\n",
    "describe_city(\"Paris\")"
   ]
  },
  {
   "cell_type": "code",
   "execution_count": 22,
   "id": "99fd1d54",
   "metadata": {},
   "outputs": [
    {
     "name": "stdout",
     "output_type": "stream",
     "text": [
      "Your number: 35 , Random number: 70 \n"
     ]
    }
   ],
   "source": [
    "#exercice 5 \n",
    "\n",
    "import random\n",
    "\n",
    "def randomize():\n",
    "    random_number = random.randint(1, 100)\n",
    "\n",
    "    guess= int(input (\"Can you give a number between 1 to 100 ?\"))\n",
    "\n",
    "    if guess == random_number:\n",
    "        print(\"Success!\")\n",
    "  \n",
    "    else:\n",
    "        print(f\"Your number: {guess} , Random number: {random_number} \")\n",
    "\n",
    "randomize()\n",
    "\n"
   ]
  },
  {
   "cell_type": "code",
   "execution_count": 30,
   "id": "dc834435",
   "metadata": {},
   "outputs": [
    {
     "name": "stdout",
     "output_type": "stream",
     "text": [
      " The size of your T-Shirt S and the message is I love You\n",
      " The size of your T-Shirt Large and the message is I love Python\n",
      " The size of your T-Shirt Medium and the message is I love Python\n",
      " The size of your T-Shirt small and the message is I love Sushi\n",
      " The size of your T-Shirt small and the message is Hello!\n"
     ]
    }
   ],
   "source": [
    "#exercice 6\n",
    "def make_shirt(size,text):\n",
    "    print(f\" The size of your T-Shirt {size} and the message is {text}\")\n",
    "\n",
    "make_shirt(\"S\",\"I love You\")\n",
    "\n",
    "def make_shirt(size =\"Large\",text=\"I love Python\"):\n",
    "    print(f\" The size of your T-Shirt {size} and the message is {text}\")\n",
    "\n",
    "make_shirt()\n",
    "make_shirt(\"Medium\")\n",
    "make_shirt(\"small\",\"I love Sushi\")\n",
    "make_shirt(size=\"small\", text=\"Hello!\")\n",
    "\n"
   ]
  },
  {
   "cell_type": "code",
   "execution_count": 60,
   "id": "ce7a35c7",
   "metadata": {},
   "outputs": [
    {
     "name": "stdout",
     "output_type": "stream",
     "text": [
      "20\n",
      "The temperature right now is 20 degrees Celsius\n",
      "Nice weather.\n"
     ]
    }
   ],
   "source": [
    "import random\n",
    "\n",
    "def get_random_temp():\n",
    "    random_temp = random.randint(-10, 40)\n",
    "    print(random_temp)\n",
    "    return random_temp\n",
    "\n",
    "def main():\n",
    "    temperature = get_random_temp()\n",
    "    print(f\"The temperature right now is {temperature} degrees Celsius\")\n",
    "\n",
    "    if temperature < 0 :\n",
    "        print(f\"“Brrr, that’s freezing! Wear some extra layers today.\")\n",
    "\n",
    "    elif 0 <= temperature < 16 :\n",
    "        print(f\"Quite chilly! Don’t forget your coat.\")\n",
    "\n",
    "    elif 16 <= temperature < 23 :\n",
    "        print(f\"Nice weather.\")\n",
    "\n",
    "    elif 23 <= temperature < 32 :\n",
    "        print(f\"A bit warm, stay hydrated.\")\n",
    "\n",
    "    elif 32 <= temperature < 40 :\n",
    "        print(f\"It’s really hot! Stay cool.\") \n",
    "\n",
    "    else:\n",
    "        print(\"Your are out of scope\")\n",
    "\n",
    "\n",
    "main()"
   ]
  },
  {
   "cell_type": "code",
   "execution_count": null,
   "id": "5e6ad0f9",
   "metadata": {},
   "outputs": [
    {
     "name": "stdout",
     "output_type": "stream",
     "text": [
      "-1.9339433248619553\n",
      "The temperature right now is -1.9339433248619553 degrees Celsius\n",
      "“Brrr, that’s freezing! Wear some extra layers today.\n"
     ]
    }
   ],
   "source": [
    "import random\n",
    "\n",
    "def get_random_temp():\n",
    "    random_temp = random.uniform(-10, 40)\n",
    "    print(random_temp)\n",
    "    return random_temp\n",
    "\n",
    "def main():\n",
    "    temperature = get_random_temp()\n",
    "    print(f\"The temperature right now is {temperature} degrees Celsius\")\n",
    "\n",
    "    if temperature < 0 :\n",
    "        print(f\"“Brrr, that’s freezing! Wear some extra layers today.\")\n",
    "\n",
    "    elif 0 <= temperature < 16 :\n",
    "        print(f\"Quite chilly! Don’t forget your coat.\")\n",
    "\n",
    "    elif 16 <= temperature < 23 :\n",
    "        print(f\"Nice weather.\")\n",
    "\n",
    "    elif 23 <= temperature < 32 :\n",
    "        print(f\"A bit warm, stay hydrated.\")\n",
    "\n",
    "    elif 32 <= temperature < 40 :\n",
    "        print(f\"It’s really hot! Stay cool.\") \n",
    "\n",
    "    else:\n",
    "        print(\"Your are out of scope\")\n",
    "\n",
    "\n",
    "main()"
   ]
  },
  {
   "cell_type": "code",
   "execution_count": 63,
   "id": "143abe41",
   "metadata": {},
   "outputs": [
    {
     "name": "stdout",
     "output_type": "stream",
     "text": [
      "The temperature right now is 25 degrees Celsius\n",
      "Getting a bit warm here\n"
     ]
    }
   ],
   "source": [
    "import random\n",
    "def get_random_temp(season):\n",
    "    if season == \"winter\":\n",
    "        return random.randint(-10, 15)\n",
    "    elif season == \"autumn\" or season == \"spring\":\n",
    "        return random.randint(16, 22)\n",
    "    elif season == \"summer\":\n",
    "        return random.randint(23, 39)\n",
    "def main():\n",
    "    season = input(\"Enter a season: \")\n",
    "    temp = get_random_temp(season)\n",
    "    print(f\"The temperature right now is {temp} degrees Celsius\")\n",
    "    if temp < 0:\n",
    "        print(\"Brr, that's freezing!\")\n",
    "    elif 0 <= temp < 16:\n",
    "        print(\"Quite chilly! Don't forget your coat\")\n",
    "    elif 16 <= temp < 23:\n",
    "        print(\"Ahh that's nice weather!\")\n",
    "    elif 23 <= temp < 32:\n",
    "        print(\"Getting a bit warm here\")\n",
    "    elif 32 <= temp < 40:\n",
    "        print(\"AHHHH im burning!\")\n",
    "main()"
   ]
  },
  {
   "cell_type": "code",
   "execution_count": 66,
   "id": "99a726ce",
   "metadata": {},
   "outputs": [
    {
     "name": "stdout",
     "output_type": "stream",
     "text": [
      "Dis-moi ce que tu veux sur ta pizza ! Écris 'stopquit' quand tu as fini.\n",
      "Hop, on ajoute jambon !\n",
      "Hop, on ajoute tomate !\n",
      "Hop, on ajoute fromage !\n",
      "Ta pizza aura :\n",
      "- jambon\n",
      "- tomate\n",
      "- fromage\n",
      "Prix : 17.5 €\n"
     ]
    }
   ],
   "source": [
    "ingredients = []\n",
    "prix_de_base = 10.00\n",
    "prix_ingredient = 2.50\n",
    "\n",
    "print(\"Dis-moi ce que tu veux sur ta pizza ! Écris 'stopquit' quand tu as fini.\")\n",
    "\n",
    "while True:\n",
    "    ingredient = input(\"Un ingrédient (ou 'quit') : \")\n",
    "    \n",
    "    if ingredient == 'quit':\n",
    "        break\n",
    "    \n",
    "    print(f\"Hop, on ajoute {ingredient} !\")\n",
    "    ingredients.append(ingredient)\n",
    "\n",
    "prix_total = prix_de_base + (len(ingredients) * prix_ingredient)\n",
    "\n",
    "print(\"Ta pizza aura :\")\n",
    "for ingredient in ingredients:\n",
    "    print(f\"- {ingredient}\")\n",
    "\n",
    "print(f\"Prix : {prix_total} €\")"
   ]
  },
  {
   "cell_type": "code",
   "execution_count": null,
   "id": "c24de361",
   "metadata": {},
   "outputs": [],
   "source": []
  }
 ],
 "metadata": {
  "kernelspec": {
   "display_name": "Python 3",
   "language": "python",
   "name": "python3"
  },
  "language_info": {
   "codemirror_mode": {
    "name": "ipython",
    "version": 3
   },
   "file_extension": ".py",
   "mimetype": "text/x-python",
   "name": "python",
   "nbconvert_exporter": "python",
   "pygments_lexer": "ipython3",
   "version": "3.11.4"
  }
 },
 "nbformat": 4,
 "nbformat_minor": 5
}
