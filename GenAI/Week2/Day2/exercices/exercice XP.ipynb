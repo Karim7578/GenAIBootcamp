{
 "cells": [
  {
   "cell_type": "code",
   "execution_count": null,
   "id": "7c5335d8",
   "metadata": {},
   "outputs": [
    {
     "name": "stdout",
     "output_type": "stream",
     "text": [
      "{'Ten': 10, 'Twenty': 20, 'Thirty': 30}\n"
     ]
    }
   ],
   "source": [
    "#exercice 1\n",
    "keys = ['Ten', 'Twenty', 'Thirty']\n",
    "values = [10, 20, 30]\n",
    "number_dict = dict(zip(keys, values))\n",
    "print(number_dict)"
   ]
  },
  {
   "cell_type": "code",
   "execution_count": null,
   "id": "a014eae7",
   "metadata": {},
   "outputs": [
    {
     "name": "stdout",
     "output_type": "stream",
     "text": [
      "Rick (age 43) - Ticket Price: $15\n",
      "Beth (age 13) - Ticket Price: $15\n",
      "Morty (age 5) - Ticket Price: $10\n",
      "Summer (age 8) - Ticket Price: $10\n",
      "\n",
      "The total price will be $50\n"
     ]
    }
   ],
   "source": [
    "#exercice 2 \n",
    "\n",
    "family = {\"rick\": 43, 'beth': 13, 'morty': 5, 'summer': 8}\n",
    "\n",
    "total_price = 0\n",
    "\n",
    "for name, age in family.items():\n",
    "    if age < 3:\n",
    "        price = 0\n",
    "    elif 3 <= age < 12:\n",
    "        price = 10\n",
    "    else:\n",
    "        price = 15\n",
    "\n",
    "    total_price += price\n",
    "    \n",
    "    print(f\"{name.title()} (age {age}) - Ticket Price: ${price}\")\n",
    "    \n",
    "\n",
    "print(f\"\\nThe total price will be ${total_price}\")"
   ]
  },
  {
   "cell_type": "code",
   "execution_count": null,
   "id": "6c710e9f",
   "metadata": {},
   "outputs": [
    {
     "ename": "SyntaxError",
     "evalue": "unterminated string literal (detected at line 66) (2263173619.py, line 66)",
     "output_type": "error",
     "traceback": [
      "  \u001b[36mCell\u001b[39m\u001b[36m \u001b[39m\u001b[32mIn[13]\u001b[39m\u001b[32m, line 66\u001b[39m\n\u001b[31m    \u001b[39m\u001b[31mmore_on_zara = {\"creation_date : 1975, \"number_stores\" : 10000}\u001b[39m\n                                                         ^\n\u001b[31mSyntaxError\u001b[39m\u001b[31m:\u001b[39m unterminated string literal (detected at line 66)\n"
     ]
    }
   ],
   "source": [
    "#exercice 3\n",
    "\n",
    "Zara_dict = {\n",
    "    \"name\" : \"Zara\",\n",
    "    \"creation_date\" : \"1975\",\n",
    "    \"creator_name\" : \"Amancio Ortega Gaona\",\n",
    "    \"type_of_clothes\" : \"men, women, children, home\",\n",
    "    \"international_competitors\" : \"Gap, H&M, Benetton\",\n",
    "    \"number_stores\" : 7000,\n",
    "    \" Major_color\": {\n",
    "        \"France\": \"blue\",\n",
    "        \"Spain\": \"red\",\n",
    "        \"US\": [\"pink\", \"green\"]\n",
    "    }\n",
    "}\n",
    "\n",
    "\n",
    "print(Zara_dict)\n",
    "\n",
    "#Print a sentence describing Zara’s clients using the type_of_clothes key.\n",
    "\n",
    "print(\"Zara customer are using\", {Zara_dict['type_of_clothes']})\n",
    "\n",
    "#Modification du nom de magasins\n",
    "\n",
    "Zara_dict[\"number_stores\"] = 2 \n",
    "\n",
    "print(Zara_dict)\n",
    "\n",
    "#Ajout de  key country_creation avec la valeur Spain\n",
    "\n",
    "Zara_dict['country_creation'] = 'Spain'\n",
    "\n",
    "print(Zara_dict)\n",
    "\n",
    "#Check if international_competitors exists and, if so, add “Desigual” to the list.\n",
    "\n",
    "Zara_dict.get(\"international_competitors\")\n",
    "\n",
    "Zara_dict[\"international_competitors\"] = \"Gap, H&M, Benetton, Desigual\"\n",
    "\n",
    "print(Zara_dict)\n",
    "\n",
    "#Delete the creation_date key.\n",
    "\n",
    "Zara_dict.pop(\"creation_date\")\n",
    "\n",
    "print(Zara_dict)\n",
    "\n",
    "#Print the last item in international_competitors.\n",
    "\n",
    "\n",
    "print(f\"Last international competitor: {Zara_dict['international_competitors'][-1]}\")\n",
    "\n",
    "\n",
    "#Print the major colors in the US.\n",
    "\n",
    "print(f\"Major clothes color in the US :{','.join(Zara_dict['Major_color']['US'])}\")\n",
    "\n",
    "#Print the number of keys in the dictionary.\n",
    "\n",
    "print(f\"Dictonary length: {len(Zara_dict)}\")\n",
    "print(f\"Dictionary keys: {list(Zara_dict.keys())}\")\n",
    "\n",
    "\n",
    "more_on_zara = {\"creation_date : 1975, \"number_stores\" : 10000}\n",
    "\n",
    "Zara_dict.update(more_on_zara)\n",
    "print(f\"Number of stores after update :{Zara_dict['number_stores']}\")\n",
    "\n",
    "#Print all keys of the dictionary.\n"
   ]
  }
 ],
 "metadata": {
  "kernelspec": {
   "display_name": "Python 3",
   "language": "python",
   "name": "python3"
  },
  "language_info": {
   "codemirror_mode": {
    "name": "ipython",
    "version": 3
   },
   "file_extension": ".py",
   "mimetype": "text/x-python",
   "name": "python",
   "nbconvert_exporter": "python",
   "pygments_lexer": "ipython3",
   "version": "3.11.4"
  }
 },
 "nbformat": 4,
 "nbformat_minor": 5
}
