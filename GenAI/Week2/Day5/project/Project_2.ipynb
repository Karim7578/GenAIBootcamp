{
 "cells": [
  {
   "cell_type": "code",
   "execution_count": 4,
   "id": "a202ceba",
   "metadata": {},
   "outputs": [
    {
     "ename": "ModuleNotFoundError",
     "evalue": "No module named 'game'",
     "output_type": "error",
     "traceback": [
      "\u001b[31m---------------------------------------------------------------------------\u001b[39m",
      "\u001b[31mModuleNotFoundError\u001b[39m                       Traceback (most recent call last)",
      "\u001b[36mCell\u001b[39m\u001b[36m \u001b[39m\u001b[32mIn[4]\u001b[39m\u001b[32m, line 1\u001b[39m\n\u001b[32m----> \u001b[39m\u001b[32m1\u001b[39m \u001b[38;5;28;01mfrom\u001b[39;00m\u001b[38;5;250m \u001b[39m\u001b[34;01mgame\u001b[39;00m\u001b[38;5;250m \u001b[39m\u001b[38;5;28;01mimport\u001b[39;00m Game\n\u001b[32m      3\u001b[39m \u001b[38;5;28;01mdef\u001b[39;00m\u001b[38;5;250m \u001b[39m\u001b[34mget_user_menu_choice\u001b[39m():\n\u001b[32m      4\u001b[39m     \u001b[38;5;28mprint\u001b[39m(\u001b[33m\"\u001b[39m\u001b[38;5;130;01m\\n\u001b[39;00m\u001b[33mMenu:\u001b[39m\u001b[33m\"\u001b[39m)\n",
      "\u001b[31mModuleNotFoundError\u001b[39m: No module named 'game'"
     ]
    }
   ],
   "source": [
    "from game import Game\n",
    "\n",
    "def get_user_menu_choice():\n",
    "    print(\"\\nMenu:\")\n",
    "    print(\"1. Play a new game\")\n",
    "    print(\"2. Show scores\")\n",
    "    print(\"3. Quit\")\n",
    "    \n",
    "    while True:\n",
    "        choice = input(\"Enter your choice (1-3): \")\n",
    "        if choice in ['1', '2', '3']:\n",
    "            return choice\n",
    "        print(\"Invalid input. Please enter 1, 2, or 3.\")\n",
    "\n",
    "def print_results(results):\n",
    "    print(\"\\nGame Results:\")\n",
    "    print(f\"Wins: {results.get('win', 0)}\")\n",
    "    print(f\"Losses: {results.get('loss', 0)}\")\n",
    "    print(f\"Draws: {results.get('draw', 0)}\")\n",
    "    print(\"\\nThank you for playing!\")\n",
    "\n",
    "def main():\n",
    "    results = {'win': 0, 'loss': 0, 'draw': 0}\n",
    "    \n",
    "    while True:\n",
    "        choice = get_user_menu_choice()\n",
    "        \n",
    "        if choice == '1':\n",
    "            game = Game()\n",
    "            result = game.play()\n",
    "            results[result] += 1\n",
    "        elif choice == '2':\n",
    "            print_results(results)\n",
    "        elif choice == '3':\n",
    "            print_results(results)\n",
    "            break\n",
    "\n",
    "if __name__ == \"__main__\":\n",
    "    main()"
   ]
  }
 ],
 "metadata": {
  "kernelspec": {
   "display_name": "Python 3",
   "language": "python",
   "name": "python3"
  },
  "language_info": {
   "codemirror_mode": {
    "name": "ipython",
    "version": 3
   },
   "file_extension": ".py",
   "mimetype": "text/x-python",
   "name": "python",
   "nbconvert_exporter": "python",
   "pygments_lexer": "ipython3",
   "version": "3.11.4"
  }
 },
 "nbformat": 4,
 "nbformat_minor": 5
}
