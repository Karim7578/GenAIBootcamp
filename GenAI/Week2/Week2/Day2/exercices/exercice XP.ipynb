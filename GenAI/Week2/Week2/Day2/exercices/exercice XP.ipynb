{
 "cells": [
  {
   "cell_type": "code",
   "execution_count": null,
   "id": "7c5335d8",
   "metadata": {},
   "outputs": [
    {
     "name": "stdout",
     "output_type": "stream",
     "text": [
      "{'Ten': 10, 'Twenty': 20, 'Thirty': 30}\n"
     ]
    }
   ],
   "source": [
    "#exercice 1\n",
    "keys = ['Ten', 'Twenty', 'Thirty']\n",
    "values = [10, 20, 30]\n",
    "number_dict = dict(zip(keys, values))\n",
    "print(number_dict)"
   ]
  },
  {
   "cell_type": "code",
   "execution_count": null,
   "id": "a014eae7",
   "metadata": {},
   "outputs": [
    {
     "name": "stdout",
     "output_type": "stream",
     "text": [
      "Rick (age 43) - Ticket Price: $15\n",
      "Beth (age 13) - Ticket Price: $15\n",
      "Morty (age 5) - Ticket Price: $10\n",
      "Summer (age 8) - Ticket Price: $10\n",
      "\n",
      "The total price will be $50\n"
     ]
    }
   ],
   "source": [
    "#exercice 2 \n",
    "\n",
    "family = {\"rick\": 43, 'beth': 13, 'morty': 5, 'summer': 8}\n",
    "\n",
    "total_price = 0\n",
    "\n",
    "for name, age in family.items():\n",
    "    if age < 3:\n",
    "        price = 0\n",
    "    elif 3 <= age < 12:\n",
    "        price = 10\n",
    "    else:\n",
    "        price = 15\n",
    "\n",
    "    total_price += price\n",
    "    \n",
    "    print(f\"{name.title()} (age {age}) - Ticket Price: ${price}\")\n",
    "    \n",
    "\n",
    "print(f\"\\nThe total price will be ${total_price}\")"
   ]
  },
  {
   "cell_type": "code",
   "execution_count": null,
   "id": "6c710e9f",
   "metadata": {},
   "outputs": [
    {
     "name": "stdout",
     "output_type": "stream",
     "text": [
      "{'name': 'Zara', 'creation_date': '1975', 'creator_name': 'Amancio Ortega Gaona', 'type_of_clothes': 'men, women, children, home', 'international_competitors': 'Gap, H&M, Benetton', 'number_stores': 7000, ' Major_color': {'France': 'blue', 'Spain': 'red', 'US': ['pink', 'green']}}\n",
      "Zara customer are using {'men, women, children, home'}\n",
      "{'name': 'Zara', 'creation_date': '1975', 'creator_name': 'Amancio Ortega Gaona', 'type_of_clothes': 'men, women, children, home', 'international_competitors': 'Gap, H&M, Benetton', 'number_stores': 2, ' Major_color': {'France': 'blue', 'Spain': 'red', 'US': ['pink', 'green']}}\n",
      "{'name': 'Zara', 'creation_date': '1975', 'creator_name': 'Amancio Ortega Gaona', 'type_of_clothes': 'men, women, children, home', 'international_competitors': 'Gap, H&M, Benetton', 'number_stores': 2, ' Major_color': {'France': 'blue', 'Spain': 'red', 'US': ['pink', 'green']}, 'country_creation': 'Spain'}\n",
      "{'name': 'Zara', 'creation_date': '1975', 'creator_name': 'Amancio Ortega Gaona', 'type_of_clothes': 'men, women, children, home', 'international_competitors': 'Gap, H&M, Benetton, Desigual', 'number_stores': 2, ' Major_color': {'France': 'blue', 'Spain': 'red', 'US': ['pink', 'green']}, 'country_creation': 'Spain'}\n",
      "{'name': 'Zara', 'creator_name': 'Amancio Ortega Gaona', 'type_of_clothes': 'men, women, children, home', 'international_competitors': 'Gap, H&M, Benetton, Desigual', 'number_stores': 2, ' Major_color': {'France': 'blue', 'Spain': 'red', 'US': ['pink', 'green']}, 'country_creation': 'Spain'}\n",
      "Last international competitor: l\n"
     ]
    },
    {
     "ename": "KeyError",
     "evalue": "'Major_color'",
     "output_type": "error",
     "traceback": [
      "\u001b[31m---------------------------------------------------------------------------\u001b[39m",
      "\u001b[31mKeyError\u001b[39m                                  Traceback (most recent call last)",
      "\u001b[36mCell\u001b[39m\u001b[36m \u001b[39m\u001b[32mIn[16]\u001b[39m\u001b[32m, line 59\u001b[39m\n\u001b[32m     53\u001b[39m \u001b[38;5;28mprint\u001b[39m(\u001b[33mf\u001b[39m\u001b[33m\"\u001b[39m\u001b[33mLast international competitor: \u001b[39m\u001b[38;5;132;01m{\u001b[39;00mZara_dict[\u001b[33m'\u001b[39m\u001b[33minternational_competitors\u001b[39m\u001b[33m'\u001b[39m][-\u001b[32m1\u001b[39m]\u001b[38;5;132;01m}\u001b[39;00m\u001b[33m\"\u001b[39m)\n\u001b[32m     56\u001b[39m \u001b[38;5;66;03m#Print the major colors in the US.\u001b[39;00m\n\u001b[32m---> \u001b[39m\u001b[32m59\u001b[39m \u001b[38;5;28mprint\u001b[39m(\u001b[33mf\u001b[39m\u001b[33m\"\u001b[39m\u001b[33mMajor clothes colors in the US: \u001b[39m\u001b[38;5;132;01m{\u001b[39;00m\u001b[33m'\u001b[39m\u001b[33m, \u001b[39m\u001b[33m'\u001b[39m.join(\u001b[43mZara_dict\u001b[49m\u001b[43m[\u001b[49m\u001b[33;43m'\u001b[39;49m\u001b[33;43mMajor_color\u001b[39;49m\u001b[33;43m'\u001b[39;49m\u001b[43m]\u001b[49m[\u001b[33m'\u001b[39m\u001b[33mUS\u001b[39m\u001b[33m'\u001b[39m])\u001b[38;5;132;01m}\u001b[39;00m\u001b[33m\"\u001b[39m)\n\u001b[32m     61\u001b[39m \u001b[38;5;66;03m#Print the number of keys in the dictionary.\u001b[39;00m\n\u001b[32m     63\u001b[39m \u001b[38;5;28mprint\u001b[39m(\u001b[33mf\u001b[39m\u001b[33m\"\u001b[39m\u001b[33mDictonary length: \u001b[39m\u001b[38;5;132;01m{\u001b[39;00m\u001b[38;5;28mlen\u001b[39m(Zara_dict)\u001b[38;5;132;01m}\u001b[39;00m\u001b[33m\"\u001b[39m)\n",
      "\u001b[31mKeyError\u001b[39m: 'Major_color'"
     ]
    }
   ],
   "source": [
    "#exercice 3\n",
    "\n",
    "Zara_dict = {\n",
    "    \"name\" : \"Zara\",\n",
    "    \"creation_date\" : \"1975\",\n",
    "    \"creator_name\" : \"Amancio Ortega Gaona\",\n",
    "    \"type_of_clothes\" : \"men, women, children, home\",\n",
    "    \"international_competitors\" : \"Gap, H&M, Benetton\",\n",
    "    \"number_stores\" : 7000,\n",
    "    \"Major_color\": {\n",
    "        \"France\": \"blue\",\n",
    "        \"Spain\": \"red\",\n",
    "        \"US\": [\"pink\", \"green\"]\n",
    "    }\n",
    "}\n",
    "\n",
    "\n",
    "print(Zara_dict)\n",
    "\n",
    "#Print a sentence describing Zara’s clients using the type_of_clothes key.\n",
    "\n",
    "print(\"Zara customer are using\", {Zara_dict['type_of_clothes']})\n",
    "\n",
    "#Modification du nom de magasins\n",
    "\n",
    "Zara_dict[\"number_stores\"] = 2 \n",
    "\n",
    "print(Zara_dict)\n",
    "\n",
    "#Ajout de  key country_creation avec la valeur Spain\n",
    "\n",
    "Zara_dict['country_creation'] = 'Spain'\n",
    "\n",
    "print(Zara_dict)\n",
    "\n",
    "#Check if international_competitors exists and, if so, add “Desigual” to the list.\n",
    "\n",
    "Zara_dict.get(\"international_competitors\")\n",
    "\n",
    "Zara_dict[\"international_competitors\"] = \"Gap, H&M, Benetton, Desigual\"\n",
    "\n",
    "print(Zara_dict)\n",
    "\n",
    "#Delete the creation_date key.\n",
    "\n",
    "Zara_dict.pop(\"creation_date\")\n",
    "\n",
    "print(Zara_dict)\n",
    "\n",
    "#Print the last item in international_competitors.\n",
    "\n",
    "\n",
    "print(f\"Last international competitor: {Zara_dict['international_competitors'][-1]}\")\n",
    "\n",
    "print(f\"Last international competitor: {Zara_dict['international_competitors'][-1]}\")\n",
    "\n",
    "\n",
    "#Print the major colors in the US.\n",
    "\n",
    "\n",
    "print(f\"Major clothes colors in the US: {', '.join(Zara_dict['Major_color']['US'])}\")\n",
    "\n",
    "#Print the number of keys in the dictionary.\n",
    "\n",
    "print(f\"Dictonary length: {len(Zara_dict)}\")\n",
    "print(f\"Dictionary keys: {list(Zara_dict.keys())}\")\n",
    "\n",
    "\n",
    "more_on_zara = {\"creation_date\": 1975, \"number_stores\": 10000}\n",
    "\n",
    "Zara_dict.update(more_on_zara)\n",
    "print(f\"Number of stores after update :{Zara_dict['number_stores']}\")\n",
    "\n",
    "#Print all keys of the dictionary.\n"
   ]
  },
  {
   "cell_type": "code",
   "execution_count": 20,
   "id": "f33e0e00",
   "metadata": {},
   "outputs": [
    {
     "name": "stdout",
     "output_type": "stream",
     "text": [
      "{'name': 'Zara', 'creation_date': '1975', 'creator_name': 'Amancio Ortega Gaona', 'type_of_clothes': 'men, women, children, home', 'international_competitors': 'Gap, H&M, Benetton', 'number_stores': 7000, 'Major_color': {'France': 'blue', 'Spain': 'red', 'US': ['pink', 'green']}}\n",
      "Zara customers wear: men, women, children, home\n",
      "{'name': 'Zara', 'creation_date': '1975', 'creator_name': 'Amancio Ortega Gaona', 'type_of_clothes': 'men, women, children, home', 'international_competitors': 'Gap, H&M, Benetton', 'number_stores': 2, 'Major_color': {'France': 'blue', 'Spain': 'red', 'US': ['pink', 'green']}}\n",
      "{'name': 'Zara', 'creation_date': '1975', 'creator_name': 'Amancio Ortega Gaona', 'type_of_clothes': 'men, women, children, home', 'international_competitors': 'Gap, H&M, Benetton', 'number_stores': 2, 'Major_color': {'France': 'blue', 'Spain': 'red', 'US': ['pink', 'green']}, 'country_creation': 'Spain'}\n",
      "{'name': 'Zara', 'creation_date': '1975', 'creator_name': 'Amancio Ortega Gaona', 'type_of_clothes': 'men, women, children, home', 'international_competitors': ['Gap', 'H&M', 'Benetton', 'Desigual'], 'number_stores': 2, 'Major_color': {'France': 'blue', 'Spain': 'red', 'US': ['pink', 'green']}, 'country_creation': 'Spain'}\n",
      "{'name': 'Zara', 'creator_name': 'Amancio Ortega Gaona', 'type_of_clothes': 'men, women, children, home', 'international_competitors': ['Gap', 'H&M', 'Benetton', 'Desigual'], 'number_stores': 2, 'Major_color': {'France': 'blue', 'Spain': 'red', 'US': ['pink', 'green']}, 'country_creation': 'Spain'}\n",
      "Last international competitor: Desigual\n",
      "Major clothes colors in the US: pink, green\n",
      "Dictionary length: 7\n",
      "Dictionary keys: ['name', 'creator_name', 'type_of_clothes', 'international_competitors', 'number_stores', 'Major_color', 'country_creation']\n",
      "Number of stores after update: 10000\n"
     ]
    }
   ],
   "source": [
    "Zara_dict = {\n",
    "    \"name\": \"Zara\",\n",
    "    \"creation_date\": \"1975\",\n",
    "    \"creator_name\": \"Amancio Ortega Gaona\",\n",
    "    \"type_of_clothes\": \"men, women, children, home\",\n",
    "    \"international_competitors\": \"Gap, H&M, Benetton\",\n",
    "    \"number_stores\": 7000,\n",
    "    \"Major_color\": {\n",
    "        \"France\": \"blue\",\n",
    "        \"Spain\": \"red\",\n",
    "        \"US\": [\"pink\", \"green\"]\n",
    "    }\n",
    "}\n",
    "\n",
    "print(Zara_dict)\n",
    "\n",
    "# Print a sentence describing Zara’s clients using the type_of_clothes key\n",
    "print(\"Zara customers wear:\", Zara_dict['type_of_clothes'])\n",
    "\n",
    "# Modify number of stores\n",
    "Zara_dict[\"number_stores\"] = 2\n",
    "print(Zara_dict)\n",
    "\n",
    "# Add country_creation key\n",
    "Zara_dict['country_creation'] = 'Spain'\n",
    "print(Zara_dict)\n",
    "\n",
    "# Add \"Desigual\" to the list of competitors\n",
    "if \"international_competitors\" in Zara_dict:\n",
    "    competitors = Zara_dict[\"international_competitors\"].split(\", \")\n",
    "    competitors.append(\"Desigual\")\n",
    "    Zara_dict[\"international_competitors\"] = competitors\n",
    "print(Zara_dict)\n",
    "\n",
    "# Delete the creation_date key\n",
    "Zara_dict.pop(\"creation_date\", None)\n",
    "print(Zara_dict)\n",
    "\n",
    "# Print the last international competitor\n",
    "print(f\"Last international competitor: {Zara_dict['international_competitors'][-1]}\")\n",
    "\n",
    "# Print the major colors in the US\n",
    "print(f\"Major clothes colors in the US: {', '.join(Zara_dict['Major_color']['US'])}\")\n",
    "\n",
    "# Print the number of keys in the dictionary\n",
    "print(f\"Dictionary length: {len(Zara_dict)}\")\n",
    "print(f\"Dictionary keys: {list(Zara_dict.keys())}\")\n",
    "\n",
    "# Merge more_on_zara dictionary\n",
    "more_on_zara = {\"creation_date\": 1975, \"number_stores\": 10000}\n",
    "Zara_dict.update(more_on_zara)\n",
    "\n",
    "print(f\"Number of stores after update: {Zara_dict['number_stores']}\")\n"
   ]
  },
  {
   "cell_type": "code",
   "execution_count": 19,
   "id": "9ec947f1",
   "metadata": {},
   "outputs": [
    {
     "name": "stdout",
     "output_type": "stream",
     "text": [
      "The city Paris is in the country France.\n",
      "The city Paris is in the country Unknown.\n"
     ]
    }
   ],
   "source": [
    "#exercice 4 \n",
    "\n",
    "def describe_city(city, Country=\"Unknown\"):\n",
    "    print(f\"The city {city} is in the country {Country}.\")\n",
    "\n",
    "describe_city(\"Paris\", \"France\")\n",
    "\n",
    "describe_city(\"Paris\")"
   ]
  },
  {
   "cell_type": "code",
   "execution_count": 22,
   "id": "99fd1d54",
   "metadata": {},
   "outputs": [
    {
     "name": "stdout",
     "output_type": "stream",
     "text": [
      "Your number: 35 , Random number: 70 \n"
     ]
    }
   ],
   "source": [
    "#exercice 5 \n",
    "\n",
    "import random\n",
    "\n",
    "def randomize():\n",
    "    random_number = random.randint(1, 100)\n",
    "\n",
    "    guess= int(input (\"Can you give a number between 1 to 100 ?\"))\n",
    "\n",
    "    if guess == random_number:\n",
    "        print(\"Success!\")\n",
    "  \n",
    "    else:\n",
    "        print(f\"Your number: {guess} , Random number: {random_number} \")\n",
    "\n",
    "randomize()\n",
    "\n"
   ]
  },
  {
   "cell_type": "code",
   "execution_count": 30,
   "id": "dc834435",
   "metadata": {},
   "outputs": [
    {
     "name": "stdout",
     "output_type": "stream",
     "text": [
      " The size of your T-Shirt S and the message is I love You\n",
      " The size of your T-Shirt Large and the message is I love Python\n",
      " The size of your T-Shirt Medium and the message is I love Python\n",
      " The size of your T-Shirt small and the message is I love Sushi\n",
      " The size of your T-Shirt small and the message is Hello!\n"
     ]
    }
   ],
   "source": [
    "#exercice 6\n",
    "def make_shirt(size,text):\n",
    "    print(f\" The size of your T-Shirt {size} and the message is {text}\")\n",
    "\n",
    "make_shirt(\"S\",\"I love You\")\n",
    "\n",
    "def make_shirt(size =\"Large\",text=\"I love Python\"):\n",
    "    print(f\" The size of your T-Shirt {size} and the message is {text}\")\n",
    "\n",
    "make_shirt()\n",
    "make_shirt(\"Medium\")\n",
    "make_shirt(\"small\",\"I love Sushi\")\n",
    "make_shirt(size=\"small\", text=\"Hello!\")\n",
    "\n"
   ]
  },
  {
   "cell_type": "code",
   "execution_count": null,
   "id": "c39912b1",
   "metadata": {},
   "outputs": [
    {
     "name": "stdout",
     "output_type": "stream",
     "text": [
      "22\n",
      "The temperature right now is 22 degrees Celsius\n"
     ]
    }
   ],
   "source": [
    "#exercice 7\n",
    "\n",
    "import random\n",
    "\n",
    "def get_random_temp():\n",
    "    random_temp = random.randint(-10, 40)\n",
    "    print(random_temp)\n",
    "    return random_temp\n",
    "\n",
    "def main():\n",
    "    temperature = get_random_temp()\n",
    "    print(f\"The temperature right now is {temperature} degrees Celsius\")\n",
    "\n",
    "    \n",
    "\n",
    "main()\n",
    "\n",
    "   \n",
    "    "
   ]
  }
 ],
 "metadata": {
  "kernelspec": {
   "display_name": "Python 3",
   "language": "python",
   "name": "python3"
  },
  "language_info": {
   "codemirror_mode": {
    "name": "ipython",
    "version": 3
   },
   "file_extension": ".py",
   "mimetype": "text/x-python",
   "name": "python",
   "nbconvert_exporter": "python",
   "pygments_lexer": "ipython3",
   "version": "3.11.4"
  }
 },
 "nbformat": 4,
 "nbformat_minor": 5
}
