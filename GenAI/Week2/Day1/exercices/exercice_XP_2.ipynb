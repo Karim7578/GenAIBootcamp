{
 "cells": [
  {
   "cell_type": "code",
   "execution_count": 25,
   "id": "cd1c2f95",
   "metadata": {},
   "outputs": [
    {
     "name": "stdout",
     "output_type": "stream",
     "text": [
      "{1, 2, 3, 4, 5, 6, 7, 8}\n",
      "{1, 2, 3, 4, 5, 6, 7}\n",
      "{1, 2, 3, 4, 5, 6, 7, 10, 11, 12, 13, 14}\n"
     ]
    }
   ],
   "source": [
    "my_fav_numbers = {1, 2, 3, 4, 5, 6}\n",
    "\n",
    "my_fav_numbers.add(7)\n",
    "\n",
    "my_fav_numbers.add(8)\n",
    "\n",
    "print(my_fav_numbers)\n",
    "\n",
    "last_element = list(my_fav_numbers)[-1]\n",
    "\n",
    "my_fav_numbers_cutted = {last_element}\n",
    "\n",
    "my_fav_numbers = my_fav_numbers.difference(my_fav_numbers_cutted)\n",
    "\n",
    "print(my_fav_numbers)\n",
    "\n",
    "\n",
    "friend_fav_numbers = {10,11,12,13,14}\n",
    "\n",
    "\n",
    "our_fav_numbers = my_fav_numbers.union(friend_fav_numbers)\n",
    "\n",
    "print(our_fav_numbers)\n"
   ]
  },
  {
   "cell_type": "code",
   "execution_count": 3,
   "id": "643b8640",
   "metadata": {},
   "outputs": [
    {
     "name": "stdout",
     "output_type": "stream",
     "text": [
      "(1, 2, 3, 4, 5, 6)\n"
     ]
    }
   ],
   "source": [
    "my_tuple = (1, 2, 3, 4, 5)\n",
    "new_tuple = my_tuple + (6,)\n",
    "print(new_tuple) "
   ]
  },
  {
   "cell_type": "code",
   "execution_count": 40,
   "id": "7eea61a7",
   "metadata": {},
   "outputs": [
    {
     "name": "stdout",
     "output_type": "stream",
     "text": [
      "['Apples', 'Oranges', 'Blueberries']\n",
      "['Apples', 'Oranges']\n",
      "['Apples', 'Oranges', 'Kiwi']\n",
      "['Apples', 'Apples', 'Oranges', 'Kiwi']\n",
      "2\n",
      "None\n"
     ]
    }
   ],
   "source": [
    "basket = [\"Banana\", \"Apples\", \"Oranges\", \"Blueberries\"]\n",
    "\n",
    "basket.remove(\"Banana\")\n",
    "\n",
    "print(basket)\n",
    "\n",
    "basket.remove(\"Blueberries\")\n",
    "\n",
    "print(basket)\n",
    "\n",
    "basket.append(\"Kiwi\")\n",
    "\n",
    "print(basket)\n",
    "\n",
    "basket.insert(0, \"Apples\")\n",
    "\n",
    "print(basket)\n",
    "\n",
    "print(basket.count(\"Apples\"))\n",
    "\n",
    "print(basket.clear())\n",
    "\n"
   ]
  },
  {
   "cell_type": "code",
   "execution_count": 51,
   "id": "2408e360",
   "metadata": {},
   "outputs": [
    {
     "data": {
      "text/plain": [
       "['Tuna sandwich', 'Avocado sandwich', 'Egg sandwich', 'Chicken sandwich']"
      ]
     },
     "execution_count": 51,
     "metadata": {},
     "output_type": "execute_result"
    }
   ],
   "source": [
    "sandwich_orders = [\"Tuna sandwich\", \"Pastrami sandwich\", \"Avocado sandwich\", \"Pastrami sandwich\", \"Egg sandwich\", \"Chicken sandwich\", \"Pastrami sandwich\"]\n",
    "\n",
    "while \"Pastrami sandwich\" in sandwich_orders:\n",
    "    sandwich_orders.remove(\"Pastrami sandwich\")\n",
    "\n",
    "sandwich_orders\n",
    "\n"
   ]
  }
 ],
 "metadata": {
  "kernelspec": {
   "display_name": "Python 3",
   "language": "python",
   "name": "python3"
  },
  "language_info": {
   "codemirror_mode": {
    "name": "ipython",
    "version": 3
   },
   "file_extension": ".py",
   "mimetype": "text/x-python",
   "name": "python",
   "nbconvert_exporter": "python",
   "pygments_lexer": "ipython3",
   "version": "3.11.4"
  }
 },
 "nbformat": 4,
 "nbformat_minor": 5
}
