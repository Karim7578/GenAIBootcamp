{
 "cells": [
  {
   "cell_type": "code",
   "execution_count": null,
   "id": "36b88555",
   "metadata": {},
   "outputs": [
    {
     "name": "stdout",
     "output_type": "stream",
     "text": [
      "Old MacDonald's Farm\n",
      "cow        : 1\n",
      "pig        : 1\n",
      "horse      : 1\n",
      "E-I-E-I-O!\n"
     ]
    }
   ],
   "source": [
    "# Step 1: Create the Farm Class\n",
    "\n",
    "class Farm:\n",
    "\n",
    "    # Step 2: Implement the __init__ Method\n",
    "\n",
    "    def __init__(self,farm_name):\n",
    "        self.name = farm_name\n",
    "        self.animals = {}\n",
    "\n",
    "        # Step 3: Implement the add_animal Method\n",
    "\n",
    "    def add_animal(self, animal_type, count=1):\n",
    "        if animal_type in self.animals:\n",
    "            self.animals[animal_type] += count\n",
    "        else:\n",
    "            self.animals[animal_type] = count\n",
    "\n",
    "            # Step 4: Implement the get_info Method\n",
    "\n",
    "    def get_info(self):\n",
    "        info = f\"{self.name}'s Farm\\n\"\n",
    "        for animal, count in self.animals.items():\n",
    "            info += f\"{animal:10} : {count}\\n\"\n",
    "        info += \"E-I-E-I-O!\"\n",
    "        return info\n",
    "    \n",
    "    def get_animal_types(self):\n",
    "        sorted_list= self.animals.sort()\n",
    "\n",
    "\n",
    "# Step 5: Test Your Code\n",
    "\n",
    "macdonald_farm = Farm(\"Old MacDonald\")\n",
    "macdonald_farm.add_animal(\"cow\",1)\n",
    "macdonald_farm.add_animal(\"pig\",1)\n",
    "macdonald_farm.add_animal(\"horse\",1)\n",
    "print(macdonald_farm.get_info())\n",
    "\n",
    "    "
   ]
  },
  {
   "cell_type": "code",
   "execution_count": null,
   "id": "3e4fdd7b",
   "metadata": {},
   "outputs": [],
   "source": [
    "class Farm:\n",
    "    def __init__(self, farm_name):\n",
    "        self.name = farm_name\n",
    "        self.animals = {}\n",
    "\n",
    "    def add_animal(self, animal_type, count=1):\n",
    "        if animal_type in self.animals:\n",
    "            self.animals[animal_type] += count\n",
    "        else:\n",
    "            self.animals[animal_type] = count\n",
    "\n",
    "    def get_info(self):\n",
    "        info = f\"{self.name}'s Farm\\n\"\n",
    "        for animal, count in self.animals.items():\n",
    "            info += f\"{animal:10} : {count}\\n\"\n",
    "        info += \"E-I-E-I-O!\"\n",
    "        return info\n",
    "    \n",
    "    def get_animal_types(self):\n",
    "        return sorted(self.animals.keys())\n",
    "    \n",
    "    def get_short_info(self):\n",
    "        animal_types = self.get_animal_types()\n",
    "        # Handle pluralization\n",
    "        animal_list = []\n",
    "        for animal in animal_types:\n",
    "            if self.animals[animal] > 1:\n",
    "                animal_list.append(f\"{animal}s\")\n",
    "            else:\n",
    "                animal_list.append(animal)\n",
    "        \n",
    "        # Format the output string based on number of animals\n",
    "        if len(animal_list) == 1:\n",
    "            animals_str = animal_list[0]\n",
    "        elif len(animal_list) == 2:\n",
    "            animals_str = \" and \".join(animal_list)\n",
    "        else:\n",
    "            animals_str = \", \".join(animal_list[:-1]) + f\" and {animal_list[-1]}\"\n",
    "        \n",
    "        return f\"{self.name}'s farm has {animals_str}.\""
   ]
  }
 ],
 "metadata": {
  "kernelspec": {
   "display_name": "Python 3",
   "language": "python",
   "name": "python3"
  },
  "language_info": {
   "codemirror_mode": {
    "name": "ipython",
    "version": 3
   },
   "file_extension": ".py",
   "mimetype": "text/x-python",
   "name": "python",
   "nbconvert_exporter": "python",
   "pygments_lexer": "ipython3",
   "version": "3.11.4"
  }
 },
 "nbformat": 4,
 "nbformat_minor": 5
}
