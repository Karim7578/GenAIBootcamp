{
 "cells": [
  {
   "cell_type": "code",
   "execution_count": null,
   "id": "ec48ad49",
   "metadata": {},
   "outputs": [
    {
     "name": "stdout",
     "output_type": "stream",
     "text": [
      "The oldest cat is 3 years old\n"
     ]
    }
   ],
   "source": [
    "#exercice 1\n",
    "\n",
    "class Cat:\n",
    "    def __init__(self, name, age):\n",
    "        self.name = name\n",
    "        self.age = age\n",
    "\n",
    "# Step 1: Create cat objects\n",
    "cat1 = Cat(\"one\",1)\n",
    "cat2 = Cat(\"two\",2)\n",
    "cat3 = Cat(\"tree\",3)\n",
    "\n",
    "\n",
    "# Step 2: Create a function to find the oldest cat\n",
    "def find_oldest_cat(cat1, cat2, cat3):\n",
    "    return max([cat1,cat2,cat3], key=lambda cat:cat.age)\n",
    "\n",
    "# Step 3: Print the oldest cat's details\n",
    "print(f\"The oldest cat is {find_oldest_cat(cat1,cat2,cat3).age} years old\")"
   ]
  },
  {
   "cell_type": "code",
   "execution_count": 1,
   "id": "85b9365a",
   "metadata": {},
   "outputs": [
    {
     "name": "stdout",
     "output_type": "stream",
     "text": [
      "Woof!\n",
      "Rex jumped 50\n",
      "Woof!\n",
      "Tom jumped 100\n"
     ]
    }
   ],
   "source": [
    "\n",
    "# Step 1: Create the Dog Class\n",
    "\n",
    "class Dog:\n",
    "    def __init__(self,name, height):\n",
    "        self.name = name\n",
    "        self.height = height\n",
    "    def bark(self):\n",
    "        print(\"Woof!\")\n",
    "    def jump(self):\n",
    "        jump_height = self.height*2\n",
    "        print(self.name,\"jumped\",jump_height)\n",
    "        \n",
    "\n",
    "# Step 2: Create Dog Objects and Step 3: Print Dog Details and Call Methods\n",
    "\n",
    "davids_dog = Dog(\"Rex\",25)\n",
    "davids_dog.bark()\n",
    "davids_dog.jump()\n",
    "sarahs_dog = Dog(\"Tom\",50)\n",
    "sarahs_dog.bark()\n",
    "sarahs_dog.jump()\n",
    "\n",
    "\n",
    "# Step 4: Compare Dog Sizes\n",
    "\n",
    "def find_winner():\n",
    "    if sarahs_dog.height > davids_dog.height:\n",
    "        sarahs_dog = True\n",
    "        davids_dog = False\n",
    "    else:\n",
    "        davids_dog = True\n",
    "        sarahs_dog = False\n",
    "    print(\"David's dog is the winner:\", davids_dog.winner)\n",
    "    print(\"Sarah's dog is the winner:\", sarahs_dog.winner)\n"
   ]
  },
  {
   "cell_type": "code",
   "execution_count": null,
   "id": "1a968fae",
   "metadata": {},
   "outputs": [],
   "source": [
    "# class Dog:\n",
    "#     def __init__(self,name, height):\n",
    "#         self.name = name\n",
    "#         self.height = height\n",
    "#     def bark(self):\n",
    "#         print(\"Woof!\")\n",
    "#     def jump(self):\n",
    "#         jump_height = self.height*2\n",
    "#         print(self.name,\"jumped\",jump_height)\n",
    "        \n",
    "# davids_dog = Dog(\"Rex\",25)\n",
    "# print(davids_dog)\n",
    "# davids_dog.bark()\n",
    "# davids_dog.jump()\n",
    "# sarahs_dog = Dog(\"Tom\",50)\n",
    "# print(sarahs_dog)\n",
    "# sarahs_dog.bark()\n",
    "# sarahs_dog.jump()\n",
    "# def find_tallest(*dogs):\n",
    "#         tallest = max(dogs, key=lambda d: d.height)\n",
    "#         print(f\"Le plus grand chien est {tallest.name} ({tallest.height} cm).\")\n",
    "# find_tallest(davids_dog,sarahs_dog)"
   ]
  },
  {
   "cell_type": "code",
   "execution_count": null,
   "id": "44c1c751",
   "metadata": {},
   "outputs": [
    {
     "name": "stdout",
     "output_type": "stream",
     "text": [
      "Happy Birthday to you\n",
      "Have a good day\n"
     ]
    }
   ],
   "source": [
    "\n",
    "# Step 1: Create the Song Class\n",
    "\n",
    "class Song:\n",
    "    def __init__(self,lyrics):\n",
    "        self.lyrics = lyrics\n",
    "    \n",
    "    def sing_me_a_song(self):\n",
    "        for i in self.lyrics:\n",
    "            print(i)\n",
    "\n",
    "happy_bday = Song([\"Happy Birthday to you\", \"Have a good day\"])\n",
    "\n",
    "happy_bday.sing_me_a_song()"
   ]
  },
  {
   "cell_type": "code",
   "execution_count": null,
   "id": "61d12968",
   "metadata": {},
   "outputs": [],
   "source": [
    "# Step 1: Define the Zoo Class\n",
    "\n",
    "class Zoo:\n",
    "    def __init__(self, zoo_name):\n",
    "        self.zoo_name = zoo_name\n",
    "        self.animals = []\n",
    "\n",
    "    def add_animal(self, new_animal):\n",
    "        if new_animal not in self.animals:\n",
    "            self.animals.append(new_animal)\n",
    "\n",
    "    def get_animals(self):\n",
    "            print(\"Animals in the zoo:\", self.animals)\n",
    "\n",
    "    def sell_animal(self,animal_sold):\n",
    "         if animal_sold in self.animals:\n",
    "              self.animals.remove(animal_sold)\n",
    "\n",
    "    def sort_animals(self):\n",
    "        self.animals.sort()\n",
    "        sorted_animals = {}\n",
    "\n",
    "        for animal in self.animals:\n",
    "            first_letter = animal[0]\n",
    "            if first_letter not in sorted_animals:\n",
    "                 sorted_animals(first_letter) = []\n",
    "\n",
    "            sorted_animals[first_letter].append(animal)\n",
    "        \n",
    "        return sorted_animals\n",
    "\n",
    "             \n",
    "# Step 2: Create a Zoo Object\n",
    "\n",
    "my_zoo = Zoo(\"Safari Park\")\n",
    "\n",
    "# Step 3: Call the Zoo Methods\n",
    "\n",
    "my_zoo.add_animal(\"Lion\")\n",
    "my_zoo.add_animal(\"Tiger\")\n",
    "my_zoo.add_animal(\"Bear\")\n",
    "\n",
    "my_zoo.get_animals()\n",
    "\n",
    "\n"
   ]
  }
 ],
 "metadata": {
  "kernelspec": {
   "display_name": "Python 3",
   "language": "python",
   "name": "python3"
  },
  "language_info": {
   "codemirror_mode": {
    "name": "ipython",
    "version": 3
   },
   "file_extension": ".py",
   "mimetype": "text/x-python",
   "name": "python",
   "nbconvert_exporter": "python",
   "pygments_lexer": "ipython3",
   "version": "3.11.4"
  }
 },
 "nbformat": 4,
 "nbformat_minor": 5
}
