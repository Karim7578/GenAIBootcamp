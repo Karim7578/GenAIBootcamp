{
 "cells": [
  {
   "cell_type": "code",
   "execution_count": 15,
   "id": "f1c46bf0",
   "metadata": {},
   "outputs": [
    {
     "name": "stdout",
     "output_type": "stream",
     "text": [
      "Determinant: -135.00\n",
      "Inverse matrix:\n",
      "[[ 0.1037037   0.32592593 -0.39259259]\n",
      " [ 0.11111111 -0.22222222  0.22222222]\n",
      " [-0.0962963   0.12592593  0.00740741]]\n"
     ]
    }
   ],
   "source": [
    "# 🛠️ NumPy Practical Exercises Solutions\n",
    "\n",
    "## 🌟 Exercise 1: Matrix Operations\n",
    "import numpy as np\n",
    "\n",
    "# Create a 3x3 matrix\n",
    "matrix = np.array([[4, 7, 2],\n",
    "                   [3, 5, 9],\n",
    "                   [1, 6, 8]])\n",
    "\n",
    "# Calculate determinant\n",
    "det = np.linalg.det(matrix)\n",
    "print(f\"Determinant: {det:.2f}\")\n",
    "\n",
    "# Find inverse (if matrix is invertible)\n",
    "if det != 0:\n",
    "    inverse = np.linalg.inv(matrix)\n",
    "    print(\"Inverse matrix:\")\n",
    "    print(inverse)\n",
    "else:\n",
    "    print(\"Matrix is singular (no inverse exists)\")"
   ]
  },
  {
   "cell_type": "markdown",
   "id": "260417dc",
   "metadata": {},
   "source": [
    "🌟 Exercise 2: Statistical Analysis"
   ]
  },
  {
   "cell_type": "code",
   "execution_count": 16,
   "id": "0c31874b",
   "metadata": {},
   "outputs": [
    {
     "name": "stdout",
     "output_type": "stream",
     "text": [
      "Mean: 48.66\n",
      "Median: 54.00\n",
      "Standard Deviation: 28.18\n"
     ]
    }
   ],
   "source": [
    "import numpy as np\n",
    "\n",
    "# Generate 50 random numbers between 0 and 100\n",
    "data = np.random.randint(0, 100, 50)\n",
    "\n",
    "# Calculate statistics\n",
    "mean = np.mean(data)\n",
    "median = np.median(data)\n",
    "std_dev = np.std(data)\n",
    "\n",
    "print(f\"Mean: {mean:.2f}\")\n",
    "print(f\"Median: {median:.2f}\")\n",
    "print(f\"Standard Deviation: {std_dev:.2f}\")"
   ]
  },
  {
   "cell_type": "markdown",
   "id": "0330119b",
   "metadata": {},
   "source": [
    "🌟 Exercise 3: Date Manipulation"
   ]
  },
  {
   "cell_type": "code",
   "execution_count": 17,
   "id": "40d3bb94",
   "metadata": {},
   "outputs": [
    {
     "name": "stdout",
     "output_type": "stream",
     "text": [
      "First 5 dates: ['2023/01/01', '2023/01/02', '2023/01/03', '2023/01/04', '2023/01/05']\n"
     ]
    }
   ],
   "source": [
    "import numpy as np\n",
    "\n",
    "# Create dates for January 2023\n",
    "jan_2023 = np.arange('2023-01', '2023-02', dtype='datetime64[D]')\n",
    "\n",
    "# Convert to YYYY/MM/DD format\n",
    "formatted_dates = np.datetime_as_string(jan_2023, unit='D')\n",
    "formatted_dates = [d.replace('-', '/') for d in formatted_dates]\n",
    "\n",
    "print(\"First 5 dates:\", formatted_dates[:5])"
   ]
  },
  {
   "cell_type": "markdown",
   "id": "4a02a352",
   "metadata": {},
   "source": [
    "🌟 Exercise 4: Data Manipulation with NumPy and Pandas"
   ]
  },
  {
   "cell_type": "code",
   "execution_count": 18,
   "id": "5d4a82ae",
   "metadata": {},
   "outputs": [
    {
     "name": "stdout",
     "output_type": "stream",
     "text": [
      "Values > 0.7:\n",
      "           A         B         C         D         E\n",
      "0       NaN       NaN       NaN       NaN       NaN\n",
      "1       NaN       NaN       NaN       NaN       NaN\n",
      "2       NaN  0.872296       NaN       NaN       NaN\n",
      "3       NaN       NaN       NaN       NaN       NaN\n",
      "4       NaN  0.719557       NaN       NaN       NaN\n",
      "5  0.738431  0.825642       NaN       NaN       NaN\n",
      "6       NaN       NaN       NaN       NaN       NaN\n",
      "7       NaN       NaN  0.850042  0.973086  0.816005\n",
      "8       NaN       NaN       NaN  0.757373       NaN\n",
      "9  0.815771       NaN       NaN       NaN       NaN\n",
      "\n",
      "Column sums:\n",
      " A    4.019430\n",
      "B    5.502561\n",
      "C    3.517374\n",
      "D    3.944779\n",
      "E    3.940154\n",
      "dtype: float64\n",
      "\n",
      "Row averages:\n",
      " 0    0.301819\n",
      "1    0.387582\n",
      "2    0.344496\n",
      "3    0.270744\n",
      "4    0.500061\n",
      "5    0.423331\n",
      "6    0.386585\n",
      "7    0.655037\n",
      "8    0.536601\n",
      "9    0.378604\n",
      "dtype: float64\n"
     ]
    }
   ],
   "source": [
    "import numpy as np\n",
    "import pandas as pd\n",
    "\n",
    "# Create DataFrame with random numbers\n",
    "df = pd.DataFrame(np.random.rand(10, 5), columns=['A', 'B', 'C', 'D', 'E'])\n",
    "\n",
    "# Conditional selection\n",
    "high_values = df[df > 0.7]\n",
    "\n",
    "# Aggregation\n",
    "col_sums = df.sum()\n",
    "row_avgs = df.mean(axis=1)\n",
    "\n",
    "print(\"Values > 0.7:\\n\", high_values)\n",
    "print(\"\\nColumn sums:\\n\", col_sums)\n",
    "print(\"\\nRow averages:\\n\", row_avgs)"
   ]
  },
  {
   "cell_type": "markdown",
   "id": "55d7d986",
   "metadata": {},
   "source": [
    "🌟 Exercise 5: Image Representation"
   ]
  },
  {
   "cell_type": "code",
   "execution_count": 19,
   "id": "a24b3218",
   "metadata": {},
   "outputs": [
    {
     "name": "stdout",
     "output_type": "stream",
     "text": [
      "Image array:\n",
      "[[201  67 246 239  36]\n",
      " [  3 103  68 192  57]\n",
      " [200 156 224 135 211]\n",
      " [ 33  36  67 192 220]\n",
      " [ 48 241 103  20  99]]\n"
     ]
    },
    {
     "data": {
      "image/png": "[encoded data removed]",
      "text/plain": [
       "<Figure size 640x480 with 2 Axes>"
      ]
     },
     "metadata": {},
     "output_type": "display_data"
    }
   ],
   "source": [
    "import numpy as np\n",
    "import matplotlib.pyplot as plt\n",
    "\n",
    "# Create 5x5 grayscale image (0=black, 255=white)\n",
    "image = np.random.randint(0, 256, (5, 5), dtype=np.uint8)\n",
    "\n",
    "print(\"Image array:\")\n",
    "print(image)\n",
    "\n",
    "# Display the image\n",
    "plt.imshow(image, cmap='gray')\n",
    "plt.colorbar()\n",
    "plt.title(\"5x5 Grayscale Image\")\n",
    "plt.show()"
   ]
  },
  {
   "cell_type": "markdown",
   "id": "4277a542",
   "metadata": {},
   "source": [
    "🌟 Exercise 6: Basic Hypothesis Testing"
   ]
  },
  {
   "cell_type": "code",
   "execution_count": 20,
   "id": "32b22eaa",
   "metadata": {},
   "outputs": [
    {
     "name": "stdout",
     "output_type": "stream",
     "text": [
      "Mean before: 50.73, after: 55.71\n",
      "Standard deviation before: 9.74, after: 10.01\n",
      "t-statistic: 0.50\n",
      "No significant effect detected\n"
     ]
    }
   ],
   "source": [
    "import numpy as np\n",
    "\n",
    "# Productivity scores\n",
    "productivity_before = np.random.normal(loc=50, scale=10, size=30)\n",
    "productivity_after = productivity_before + np.random.normal(loc=5, scale=3, size=30)\n",
    "\n",
    "# Hypothesis: Training improved productivity (after > before)\n",
    "mean_before = np.mean(productivity_before)\n",
    "mean_after = np.mean(productivity_after)\n",
    "std_before = np.std(productivity_before)\n",
    "std_after = np.std(productivity_after)\n",
    "\n",
    "print(f\"Mean before: {mean_before:.2f}, after: {mean_after:.2f}\")\n",
    "print(f\"Standard deviation before: {std_before:.2f}, after: {std_after:.2f}\")\n",
    "\n",
    "# Calculate t-statistic (simplified)\n",
    "t_stat = (mean_after - mean_before) / np.sqrt((std_before**2 + std_after**2)/2)\n",
    "print(f\"t-statistic: {t_stat:.2f}\")\n",
    "\n",
    "# Basic conclusion\n",
    "if t_stat > 2:  # Simplified threshold\n",
    "    print(\"Training had a significant positive effect (p < 0.05)\")\n",
    "else:\n",
    "    print(\"No significant effect detected\")"
   ]
  },
  {
   "cell_type": "markdown",
   "id": "fc7d919b",
   "metadata": {},
   "source": [
    "🌟 Exercise 7: Complex Array Comparison"
   ]
  },
  {
   "cell_type": "code",
   "execution_count": 21,
   "id": "4fe86b68",
   "metadata": {},
   "outputs": [
    {
     "name": "stdout",
     "output_type": "stream",
     "text": [
      "Array 1: [3 8 2 5 9]\n",
      "Array 2: [4 5 3 6 8]\n",
      "Elements where arr1 > arr2: [False  True False False  True]\n"
     ]
    }
   ],
   "source": [
    "import numpy as np\n",
    "\n",
    "# Create two arrays\n",
    "arr1 = np.array([3, 8, 2, 5, 9])\n",
    "arr2 = np.array([4, 5, 3, 6, 8])\n",
    "\n",
    "# Element-wise comparison\n",
    "result = arr1 > arr2\n",
    "\n",
    "print(\"Array 1:\", arr1)\n",
    "print(\"Array 2:\", arr2)\n",
    "print(\"Elements where arr1 > arr2:\", result)"
   ]
  },
  {
   "cell_type": "markdown",
   "id": "b8d4214f",
   "metadata": {},
   "source": [
    "🌟 Exercise 8: Time Series Data Manipulation"
   ]
  },
  {
   "cell_type": "code",
   "execution_count": 24,
   "id": "4334a295",
   "metadata": {},
   "outputs": [],
   "source": [
    "# # Generate daily data for 2023\n",
    "# dates_2023 = np.arange('2023-01-01', '2024-01-01', dtype='datetime64[D]')\n",
    "# values = np.random.rand(len(dates_2023)) * 100  # Random values\n",
    "\n",
    "# # Slice for quarters\n",
    "# q1 = values[(dates_2023 >= '2023-01') & (dates_2023 < '2023-04')]\n",
    "# q2 = values[(dates_2023 >= '2023-04') & (dates_2023 < '2023-07')]\n",
    "# q3 = values[(dates_2023 >= '2023-07') & (dates_2023 < '2023-10')]\n",
    "# q4 = values[(dates_2023 >= '2023-10') & (dates_2023 < '2024-01')]\n",
    "\n",
    "# print(f\"Q1 data points: {len(q1)}, mean: {np.mean(q1):.2f}\")\n",
    "# print(f\"Q2 data points: {len(q2)}, mean: {np.mean(q2):.2f}\")\n",
    "# print(f\"Q3 data points: {len(q3)}, mean: {np.mean(q3):.2f}\")\n",
    "# print(f\"Q4 data points: {len(q4)}, mean: {np.mean(q4):.2f}\")"
   ]
  },
  {
   "cell_type": "markdown",
   "id": "26b06bac",
   "metadata": {},
   "source": [
    "🌟 Exercise 9: Data Conversion"
   ]
  },
  {
   "cell_type": "code",
   "execution_count": null,
   "id": "72cf5104",
   "metadata": {},
   "outputs": [
    {
     "name": "stdout",
     "output_type": "stream",
     "text": [
      "DataFrame from array:\n",
      "           0         1         2\n",
      "0  0.253143  0.635280  0.161114\n",
      "1  0.306669  0.543856  0.862558\n",
      "2  0.050938  0.368313  0.545045\n",
      "3  0.293250  0.951825  0.697049\n",
      "4  0.556762  0.410542  0.237308\n",
      "\n",
      "Array from DataFrame:\n",
      " [[0.25314299 0.63528018 0.16111443]\n",
      " [0.30666898 0.5438561  0.86255759]\n",
      " [0.05093829 0.3683133  0.54504524]\n",
      " [0.29325048 0.95182486 0.69704943]\n",
      " [0.55676204 0.41054221 0.23730775]]\n"
     ]
    }
   ],
   "source": [
    "import numpy as np\n",
    "import pandas as pd\n",
    "\n",
    "#  Array to DataFrame\n",
    "arr = np.random.rand(5, 3)\n",
    "df = pd.DataFrame(arr)\n",
    "print(\"DataFrame from array:\\n\", df)\n",
    "\n",
    "# DataFrame to Array\n",
    "arr_from_df = df.values\n",
    "print(\"\\nArray from DataFrame:\\n\", arr_from_df)"
   ]
  },
  {
   "cell_type": "markdown",
   "id": "8b6e5ad9",
   "metadata": {},
   "source": [
    "🌟 Exercise 10: Basic Visualization"
   ]
  },
  {
   "cell_type": "code",
   "execution_count": null,
   "id": "db8326f6",
   "metadata": {},
   "outputs": [
    {
     "data": {
      "image/png": "[encoded data removed]",
      "text/plain": [
       "<Figure size 1000x500 with 1 Axes>"
      ]
     },
     "metadata": {},
     "output_type": "display_data"
    }
   ],
   "source": [
    "# import numpy as np\n",
    "# import matplotlib.pyplot as plt\n",
    "\n",
    "# # Create dataset\n",
    "# x = np.linspace(0, 10, 100)\n",
    "# y = np.sin(x) + np.random.normal(0, 0.1, 100)\n",
    "\n",
    "# # Plot\n",
    "# plt.figure(figsize=(10, 5))\n",
    "# plt.plot(x, y, label='Noisy Sine Wave')\n",
    "# plt.title(\"Random Data Visualization\")\n",
    "# plt.xlabel(\"X-axis\")\n",
    "# plt.ylabel(\"Y-axis\")\n",
    "# plt.legend()\n",
    "# plt.grid(True)\n",
    "# plt.show()"
   ]
  }
 ],
 "metadata": {
  "kernelspec": {
   "display_name": "Python 3",
   "language": "python",
   "name": "python3"
  },
  "language_info": {
   "codemirror_mode": {
    "name": "ipython",
    "version": 3
   },
   "file_extension": ".py",
   "mimetype": "text/x-python",
   "name": "python",
   "nbconvert_exporter": "python",
   "pygments_lexer": "ipython3",
   "version": "3.11.4"
  }
 },
 "nbformat": 4,
 "nbformat_minor": 5
}
