{
 "cells": [
  {
   "cell_type": "code",
   "execution_count": 1,
   "id": "d2b14116",
   "metadata": {},
   "outputs": [
    {
     "name": "stdout",
     "output_type": "stream",
     "text": [
      "Matrix A:\n",
      " [[1 2]\n",
      " [3 4]]\n",
      "Reshaped Matrix:\n",
      " [[1]\n",
      " [2]\n",
      " [3]\n",
      " [4]]\n",
      "Updated Matrix A:\n",
      " [[5 2]\n",
      " [3 4]]\n"
     ]
    }
   ],
   "source": [
    "import numpy as np\n",
    "\n",
    "# Creating a matrix\n",
    "matrix_A = np.array([[1, 2], [3, 4]])\n",
    "print(\"Matrix A:\\n\", matrix_A)\n",
    "\n",
    "# Reshaping a matrix\n",
    "reshaped_matrix = np.reshape(matrix_A, (4, 1))\n",
    "print(\"Reshaped Matrix:\\n\", reshaped_matrix)\n",
    "\n",
    "# Changing values in a matrix\n",
    "matrix_A[0, 0] = 5\n",
    "print(\"Updated Matrix A:\\n\", matrix_A)"
   ]
  },
  {
   "cell_type": "code",
   "execution_count": 2,
   "id": "d3610106",
   "metadata": {},
   "outputs": [
    {
     "name": "stdout",
     "output_type": "stream",
     "text": [
      "Average Responses: [3.8 1.4 2.4 3.8]\n",
      "Total Responses: [19  7 12 19]\n",
      "Maximum Responses: [5 2 4 5]\n",
      "Minimum Responses: [2 1 1 2]\n"
     ]
    }
   ],
   "source": [
    "import numpy as np\n",
    "\n",
    "# Example survey data matrix (5 respondents, 4 questions)\n",
    "survey_data = np.array([[5, 1, 4, 4],\n",
    "                        [4, 2, 4, 3],\n",
    "                        [5, 1, 1, 5],\n",
    "                        [3, 2, 1, 2],\n",
    "                        [2, 1, 2, 5]])\n",
    "\n",
    "# Calculating various statistics\n",
    "average_responses = np.mean(survey_data, axis=0)\n",
    "total_responses = np.sum(survey_data, axis=0)\n",
    "max_responses = np.max(survey_data, axis=0)\n",
    "min_responses = np.min(survey_data, axis=0)\n",
    "\n",
    "print(\"Average Responses:\", average_responses)\n",
    "print(\"Total Responses:\", total_responses)\n",
    "print(\"Maximum Responses:\", max_responses)\n",
    "print(\"Minimum Responses:\", min_responses)"
   ]
  },
  {
   "cell_type": "markdown",
   "id": "4ec0a424",
   "metadata": {},
   "source": [
    "Challenge cours 1"
   ]
  },
  {
   "cell_type": "code",
   "execution_count": 16,
   "id": "0af4e09e",
   "metadata": {},
   "outputs": [],
   "source": [
    "import numpy as np\n",
    "\n",
    "# Temperature data matrix (4 cities, 7 days)\n",
    "temperature_data = np.array([\n",
    "    [27, 20, 15, 18, 26, 18, 22],\n",
    "    [24, 18, 20, 17, 19, 22, 21],\n",
    "    [23, 23, 27, 25, 16, 21, 22],\n",
    "    [22, 29, 23, 16, 20, 24, 28]\n",
    "])"
   ]
  },
  {
   "cell_type": "code",
   "execution_count": 19,
   "id": "822c5bde",
   "metadata": {},
   "outputs": [
    {
     "name": "stdout",
     "output_type": "stream",
     "text": [
      "Mean temperature 21.642857142857142\n"
     ]
    }
   ],
   "source": [
    "mean_temperature = temperature_data.mean()\n",
    "print('Mean temperature', mean_temperature)"
   ]
  },
  {
   "cell_type": "code",
   "execution_count": 21,
   "id": "cca63e7c",
   "metadata": {},
   "outputs": [
    {
     "name": "stdout",
     "output_type": "stream",
     "text": [
      "Mean temperature 29\n"
     ]
    }
   ],
   "source": [
    "max_temperature = temperature_data.max()\n",
    "print('Mean temperature', max_temperature)"
   ]
  },
  {
   "cell_type": "code",
   "execution_count": 22,
   "id": "70fe63bb",
   "metadata": {},
   "outputs": [
    {
     "name": "stdout",
     "output_type": "stream",
     "text": [
      "Mean temperature 15\n"
     ]
    }
   ],
   "source": [
    "min_temperature = temperature_data.min()\n",
    "print('Mean temperature', min_temperature)"
   ]
  },
  {
   "cell_type": "code",
   "execution_count": 23,
   "id": "35eac4ab",
   "metadata": {},
   "outputs": [
    {
     "name": "stdout",
     "output_type": "stream",
     "text": [
      "Temperature differences (Day 7 - Day 1):\n",
      "City 1: -5°C\n",
      "City 2: -3°C\n",
      "City 3: -1°C\n",
      "City 4: 6°C\n"
     ]
    }
   ],
   "source": [
    "# Day 1 is column 0, Day 7 is column 6\n",
    "day1_temps = temperature_data[:, 0]  # All cities, Day 1\n",
    "day7_temps = temperature_data[:, 6]  # All cities, Day 7\n",
    "\n",
    "# Calculate differences (Day 7 - Day 1)\n",
    "temp_differences = day7_temps - day1_temps\n",
    "\n",
    "# Print results\n",
    "print(\"Temperature differences (Day 7 - Day 1):\")\n",
    "for city in range(4):\n",
    "    print(f\"City {city+1}: {temp_differences[city]}°C\")"
   ]
  },
  {
   "cell_type": "code",
   "execution_count": 24,
   "id": "fa807b02",
   "metadata": {},
   "outputs": [
    {
     "name": "stdout",
     "output_type": "stream",
     "text": [
      "Temperature differences (Day 5 - Day 2):\n",
      "City 1: 6°C\n",
      "City 2: 1°C\n",
      "City 3: -7°C\n",
      "City 4: -9°C\n"
     ]
    }
   ],
   "source": [
    "# Day 1 is column 0, Day 7 is column 6\n",
    "day2_temps = temperature_data[:, 1]  # All cities, Day 1\n",
    "day5_temps = temperature_data[:, 4]  # All cities, Day 7\n",
    "\n",
    "# Calculate differences (Day 7 - Day 1)\n",
    "temp_differences = day5_temps - day2_temps\n",
    "\n",
    "# Print results\n",
    "print(\"Temperature differences (Day 5 - Day 2):\")\n",
    "for city in range(4):\n",
    "    print(f\"City {city+1}: {temp_differences[city]}°C\")"
   ]
  },
  {
   "cell_type": "markdown",
   "id": "68bca1c2",
   "metadata": {},
   "source": [
    "Cours 2"
   ]
  },
  {
   "cell_type": "code",
   "execution_count": 3,
   "id": "eb57084d",
   "metadata": {},
   "outputs": [
    {
     "ename": "TypeError",
     "evalue": "unsupported operand type(s) for /: 'ellipsis' and 'int'",
     "output_type": "error",
     "traceback": [
      "\u001b[31m---------------------------------------------------------------------------\u001b[39m",
      "\u001b[31mTypeError\u001b[39m                                 Traceback (most recent call last)",
      "\u001b[36mCell\u001b[39m\u001b[36m \u001b[39m\u001b[32mIn[3]\u001b[39m\u001b[32m, line 8\u001b[39m\n\u001b[32m      5\u001b[39m sample_data = np.array([...])  \u001b[38;5;66;03m# Example data\u001b[39;00m\n\u001b[32m      7\u001b[39m \u001b[38;5;66;03m# Performing a one-sample t-test\u001b[39;00m\n\u001b[32m----> \u001b[39m\u001b[32m8\u001b[39m t_statistic, p_value = \u001b[43mstats\u001b[49m\u001b[43m.\u001b[49m\u001b[43mttest_1samp\u001b[49m\u001b[43m(\u001b[49m\u001b[43msample_data\u001b[49m\u001b[43m,\u001b[49m\u001b[43m \u001b[49m\u001b[32;43m15\u001b[39;49m\u001b[43m)\u001b[49m\n\u001b[32m     10\u001b[39m \u001b[38;5;66;03m# Interpreting the result\u001b[39;00m\n\u001b[32m     11\u001b[39m alpha = \u001b[32m0.05\u001b[39m  \u001b[38;5;66;03m# Significance level\u001b[39;00m\n",
      "\u001b[36mFile \u001b[39m\u001b[32mc:\\Users\\Zbook\\AppData\\Local\\Programs\\Python\\Python311\\Lib\\site-packages\\scipy\\stats\\_axis_nan_policy.py:586\u001b[39m, in \u001b[36m_axis_nan_policy_factory.<locals>.axis_nan_policy_decorator.<locals>.axis_nan_policy_wrapper\u001b[39m\u001b[34m(***failed resolving arguments***)\u001b[39m\n\u001b[32m    583\u001b[39m     res = _add_reduced_axes(res, reduced_axes, keepdims)\n\u001b[32m    584\u001b[39m     \u001b[38;5;28;01mreturn\u001b[39;00m tuple_to_result(*res)\n\u001b[32m--> \u001b[39m\u001b[32m586\u001b[39m res = \u001b[43mhypotest_fun_out\u001b[49m\u001b[43m(\u001b[49m\u001b[43m*\u001b[49m\u001b[43msamples\u001b[49m\u001b[43m,\u001b[49m\u001b[43m \u001b[49m\u001b[43m*\u001b[49m\u001b[43m*\u001b[49m\u001b[43mkwds\u001b[49m\u001b[43m)\u001b[49m\n\u001b[32m    587\u001b[39m res = result_to_tuple(res, n_out)\n\u001b[32m    588\u001b[39m res = _add_reduced_axes(res, reduced_axes, keepdims)\n",
      "\u001b[36mFile \u001b[39m\u001b[32mc:\\Users\\Zbook\\AppData\\Local\\Programs\\Python\\Python311\\Lib\\site-packages\\scipy\\stats\\_stats_py.py:6087\u001b[39m, in \u001b[36mttest_1samp\u001b[39m\u001b[34m(a, popmean, axis, nan_policy, alternative)\u001b[39m\n\u001b[32m   6083\u001b[39m     NaN = _get_nan(a)\n\u001b[32m   6084\u001b[39m     \u001b[38;5;28;01mreturn\u001b[39;00m TtestResult(NaN, NaN, df=NaN, alternative=NaN,\n\u001b[32m   6085\u001b[39m                        standard_error=NaN, estimate=NaN)\n\u001b[32m-> \u001b[39m\u001b[32m6087\u001b[39m mean = \u001b[43mxp\u001b[49m\u001b[43m.\u001b[49m\u001b[43mmean\u001b[49m\u001b[43m(\u001b[49m\u001b[43ma\u001b[49m\u001b[43m,\u001b[49m\u001b[43m \u001b[49m\u001b[43maxis\u001b[49m\u001b[43m=\u001b[49m\u001b[43maxis\u001b[49m\u001b[43m)\u001b[49m\n\u001b[32m   6088\u001b[39m \u001b[38;5;28;01mtry\u001b[39;00m:\n\u001b[32m   6089\u001b[39m     popmean = xp.asarray(popmean)\n",
      "\u001b[36mFile \u001b[39m\u001b[32mc:\\Users\\Zbook\\AppData\\Local\\Programs\\Python\\Python311\\Lib\\site-packages\\numpy\\_core\\fromnumeric.py:3859\u001b[39m, in \u001b[36mmean\u001b[39m\u001b[34m(a, axis, dtype, out, keepdims, where)\u001b[39m\n\u001b[32m   3856\u001b[39m     \u001b[38;5;28;01melse\u001b[39;00m:\n\u001b[32m   3857\u001b[39m         \u001b[38;5;28;01mreturn\u001b[39;00m mean(axis=axis, dtype=dtype, out=out, **kwargs)\n\u001b[32m-> \u001b[39m\u001b[32m3859\u001b[39m \u001b[38;5;28;01mreturn\u001b[39;00m \u001b[43m_methods\u001b[49m\u001b[43m.\u001b[49m\u001b[43m_mean\u001b[49m\u001b[43m(\u001b[49m\u001b[43ma\u001b[49m\u001b[43m,\u001b[49m\u001b[43m \u001b[49m\u001b[43maxis\u001b[49m\u001b[43m=\u001b[49m\u001b[43maxis\u001b[49m\u001b[43m,\u001b[49m\u001b[43m \u001b[49m\u001b[43mdtype\u001b[49m\u001b[43m=\u001b[49m\u001b[43mdtype\u001b[49m\u001b[43m,\u001b[49m\n\u001b[32m   3860\u001b[39m \u001b[43m                      \u001b[49m\u001b[43mout\u001b[49m\u001b[43m=\u001b[49m\u001b[43mout\u001b[49m\u001b[43m,\u001b[49m\u001b[43m \u001b[49m\u001b[43m*\u001b[49m\u001b[43m*\u001b[49m\u001b[43mkwargs\u001b[49m\u001b[43m)\u001b[49m\n",
      "\u001b[36mFile \u001b[39m\u001b[32mc:\\Users\\Zbook\\AppData\\Local\\Programs\\Python\\Python311\\Lib\\site-packages\\numpy\\_core\\_methods.py:146\u001b[39m, in \u001b[36m_mean\u001b[39m\u001b[34m(a, axis, dtype, out, keepdims, where)\u001b[39m\n\u001b[32m    144\u001b[39m         ret = ret.dtype.type(ret / rcount)\n\u001b[32m    145\u001b[39m \u001b[38;5;28;01melse\u001b[39;00m:\n\u001b[32m--> \u001b[39m\u001b[32m146\u001b[39m     ret = \u001b[43mret\u001b[49m\u001b[43m \u001b[49m\u001b[43m/\u001b[49m\u001b[43m \u001b[49m\u001b[43mrcount\u001b[49m\n\u001b[32m    148\u001b[39m \u001b[38;5;28;01mreturn\u001b[39;00m ret\n",
      "\u001b[31mTypeError\u001b[39m: unsupported operand type(s) for /: 'ellipsis' and 'int'"
     ]
    }
   ],
   "source": [
    "\n",
    "import numpy as np\n",
    "from scipy import stats\n",
    "\n",
    "# Sample data (engagement time in minutes)\n",
    "sample_data = np.array([...])  # Example data\n",
    "\n",
    "# Performing a one-sample t-test\n",
    "t_statistic, p_value = stats.ttest_1samp(sample_data, 15)\n",
    "\n",
    "# Interpreting the result\n",
    "alpha = 0.05  # Significance level\n",
    "if p_value < alpha:\n",
    "    print(\"Reject the null hypothesis\")\n",
    "else:\n",
    "    print(\"Fail to reject the null hypothesis\")\n"
   ]
  },
  {
   "cell_type": "code",
   "execution_count": 5,
   "id": "2a22359b",
   "metadata": {},
   "outputs": [
    {
     "name": "stdout",
     "output_type": "stream",
     "text": [
      "t-statistic: 0.707, p-value: 0.519\n",
      "Fail to reject the null hypothesis (mean could be 15)\n"
     ]
    }
   ],
   "source": [
    "import numpy as np\n",
    "from scipy import stats\n",
    "\n",
    "# Example sample data (replace with your actual data)\n",
    "sample_data = np.array([12, 14, 16, 18, 20])  # Must be numerical, not \"...\"\n",
    "\n",
    "# Perform a one-sample t-test (e.g., testing if mean differs from 15)\n",
    "t_statistic, p_value = stats.ttest_1samp(sample_data, popmean=15)\n",
    "\n",
    "# Interpret the result\n",
    "alpha = 0.05  # Significance level\n",
    "print(f\"t-statistic: {t_statistic:.3f}, p-value: {p_value:.3f}\")\n",
    "\n",
    "if p_value < alpha:\n",
    "    print(\"Reject the null hypothesis (mean ≠ 15)\")\n",
    "else:\n",
    "    print(\"Fail to reject the null hypothesis (mean could be 15)\")"
   ]
  },
  {
   "cell_type": "code",
   "execution_count": 6,
   "id": "8d925c45",
   "metadata": {},
   "outputs": [
    {
     "name": "stdout",
     "output_type": "stream",
     "text": [
      "Variance of the investment returns: 0.003544\n"
     ]
    }
   ],
   "source": [
    "import numpy as np\n",
    "\n",
    "# Annual returns of the investment\n",
    "returns = np.array([0.08, 0.12, -0.05, 0.10, 0.07])\n",
    "\n",
    "# Calculating variance\n",
    "variance = np.var(returns)\n",
    "print(\"Variance of the investment returns:\", variance)"
   ]
  },
  {
   "cell_type": "code",
   "execution_count": 7,
   "id": "b86f4b82",
   "metadata": {},
   "outputs": [
    {
     "data": {
      "image/png": "[encoded data removed]",
      "text/plain": [
       "<Figure size 640x480 with 1 Axes>"
      ]
     },
     "metadata": {},
     "output_type": "display_data"
    }
   ],
   "source": [
    "import numpy as np\n",
    "import matplotlib.pyplot as plt\n",
    "\n",
    "# Generate a normal distribution\n",
    "mean = 0\n",
    "std_dev = 1\n",
    "samples = np.random.normal(mean, std_dev, 1000)\n",
    "\n",
    "# Plotting the distribution\n",
    "plt.hist(samples, bins=30, density=True)\n",
    "plt.title(\"Normal Distribution\")\n",
    "plt.xlabel(\"Value\")\n",
    "plt.ylabel(\"Frequency\")\n",
    "plt.show()"
   ]
  },
  {
   "cell_type": "code",
   "execution_count": 8,
   "id": "f3ca78e4",
   "metadata": {},
   "outputs": [
    {
     "name": "stdout",
     "output_type": "stream",
     "text": [
      "Random Sample: [7 1 2 4 9]\n"
     ]
    }
   ],
   "source": [
    "# Random sampling from an array\n",
    "data = np.arange(10)\n",
    "sample = np.random.choice(data, size=5, replace=False)\n",
    "print(\"Random Sample:\", sample)"
   ]
  },
  {
   "cell_type": "code",
   "execution_count": 9,
   "id": "46f5e7f7",
   "metadata": {},
   "outputs": [
    {
     "name": "stdout",
     "output_type": "stream",
     "text": [
      "Shuffled Data: [8 7 5 4 1 6 0 9 2 3]\n"
     ]
    }
   ],
   "source": [
    "# Shuffling data\n",
    "np.random.shuffle(data)\n",
    "print(\"Shuffled Data:\", data)"
   ]
  },
  {
   "cell_type": "code",
   "execution_count": 10,
   "id": "30f9fbec",
   "metadata": {},
   "outputs": [
    {
     "name": "stdout",
     "output_type": "stream",
     "text": [
      "Variance: 1.0317388939532623\n",
      "Skewness: -0.06068081828141229\n",
      "Kurtosis: -0.12941121145287227\n"
     ]
    }
   ],
   "source": [
    "# Variance\n",
    "variance = np.var(samples)\n",
    "print(\"Variance:\", variance)\n",
    "\n",
    "# Skewness and Kurtosis require scipy\n",
    "from scipy.stats import skew, kurtosis\n",
    "print(\"Skewness:\", skew(samples))\n",
    "print(\"Kurtosis:\", kurtosis(samples))"
   ]
  },
  {
   "cell_type": "markdown",
   "id": "e00c2588",
   "metadata": {},
   "source": [
    "Challenge cours 2"
   ]
  },
  {
   "cell_type": "code",
   "execution_count": 11,
   "id": "519fcd33",
   "metadata": {},
   "outputs": [
    {
     "name": "stdout",
     "output_type": "stream",
     "text": [
      "January 2020 Dates:\n",
      " ['2020-01-01' '2020-01-02' '2020-01-03' '2020-01-04' '2020-01-05'\n",
      " '2020-01-06' '2020-01-07' '2020-01-08' '2020-01-09' '2020-01-10'\n",
      " '2020-01-11' '2020-01-12' '2020-01-13' '2020-01-14' '2020-01-15'\n",
      " '2020-01-16' '2020-01-17' '2020-01-18' '2020-01-19' '2020-01-20'\n",
      " '2020-01-21' '2020-01-22' '2020-01-23' '2020-01-24' '2020-01-25'\n",
      " '2020-01-26' '2020-01-27' '2020-01-28' '2020-01-29' '2020-01-30'\n",
      " '2020-01-31']\n"
     ]
    }
   ],
   "source": [
    "import numpy as np\n",
    "\n",
    "# Creating date ranges\n",
    "dates = np.arange('2020-01', '2020-02', dtype='datetime64[D]')\n",
    "print(\"January 2020 Dates:\\n\", dates)"
   ]
  },
  {
   "cell_type": "code",
   "execution_count": 12,
   "id": "264af098",
   "metadata": {},
   "outputs": [
    {
     "name": "stdout",
     "output_type": "stream",
     "text": [
      "Formatted Dates:\n",
      " ['2020-01-01' '2020-01-02' '2020-01-03' '2020-01-04' '2020-01-05'\n",
      " '2020-01-06' '2020-01-07' '2020-01-08' '2020-01-09' '2020-01-10'\n",
      " '2020-01-11' '2020-01-12' '2020-01-13' '2020-01-14' '2020-01-15'\n",
      " '2020-01-16' '2020-01-17' '2020-01-18' '2020-01-19' '2020-01-20'\n",
      " '2020-01-21' '2020-01-22' '2020-01-23' '2020-01-24' '2020-01-25'\n",
      " '2020-01-26' '2020-01-27' '2020-01-28' '2020-01-29' '2020-01-30'\n",
      " '2020-01-31']\n"
     ]
    }
   ],
   "source": [
    "# Converting dates to a different format\n",
    "formatted_dates = np.datetime_as_string(dates, unit='D')\n",
    "print(\"Formatted Dates:\\n\", formatted_dates)"
   ]
  },
  {
   "cell_type": "code",
   "execution_count": 13,
   "id": "18d82b80",
   "metadata": {},
   "outputs": [
    {
     "name": "stdout",
     "output_type": "stream",
     "text": [
      "Rolling Mean:\n",
      " 2025-06-24 10:37:41.281781         NaN\n",
      "2025-06-25 10:37:41.281781         NaN\n",
      "2025-06-26 10:37:41.281781         NaN\n",
      "2025-06-27 10:37:41.281781         NaN\n",
      "2025-06-28 10:37:41.281781   -0.002264\n",
      "                                ...   \n",
      "2025-09-27 10:37:41.281781    0.319706\n",
      "2025-09-28 10:37:41.281781    0.276529\n",
      "2025-09-29 10:37:41.281781    0.314035\n",
      "2025-09-30 10:37:41.281781    0.052125\n",
      "2025-10-01 10:37:41.281781    0.207563\n",
      "Freq: D, Length: 100, dtype: float64\n",
      "Window Sum:\n",
      " 2025-06-24 10:37:41.281781         NaN\n",
      "2025-06-25 10:37:41.281781         NaN\n",
      "2025-06-26 10:37:41.281781         NaN\n",
      "2025-06-27 10:37:41.281781         NaN\n",
      "2025-06-28 10:37:41.281781   -0.011319\n",
      "                                ...   \n",
      "2025-09-27 10:37:41.281781    1.598532\n",
      "2025-09-28 10:37:41.281781    1.382644\n",
      "2025-09-29 10:37:41.281781    1.570177\n",
      "2025-09-30 10:37:41.281781    0.260625\n",
      "2025-10-01 10:37:41.281781    1.037815\n",
      "Freq: D, Length: 100, dtype: float64\n"
     ]
    }
   ],
   "source": [
    "import pandas as pd\n",
    "\n",
    "# Example: Using rolling statistics\n",
    "ts_data = pd.Series(np.random.randn(100), index=pd.date_range('today', periods=100))\n",
    "rolling_mean = ts_data.rolling(window=5).mean()\n",
    "print(\"Rolling Mean:\\n\", rolling_mean)\n",
    "\n",
    "# Example: Applying a window function\n",
    "window_sum = ts_data.rolling(window=5).sum()\n",
    "print(\"Window Sum:\\n\", window_sum)"
   ]
  },
  {
   "cell_type": "code",
   "execution_count": 14,
   "id": "d1942988",
   "metadata": {},
   "outputs": [
    {
     "name": "stdout",
     "output_type": "stream",
     "text": [
      "Window Sum:\n",
      " 2025-06-24 10:37:41.281781         NaN\n",
      "2025-06-25 10:37:41.281781         NaN\n",
      "2025-06-26 10:37:41.281781         NaN\n",
      "2025-06-27 10:37:41.281781         NaN\n",
      "2025-06-28 10:37:41.281781   -0.011319\n",
      "                                ...   \n",
      "2025-09-27 10:37:41.281781    1.598532\n",
      "2025-09-28 10:37:41.281781    1.382644\n",
      "2025-09-29 10:37:41.281781    1.570177\n",
      "2025-09-30 10:37:41.281781    0.260625\n",
      "2025-10-01 10:37:41.281781    1.037815\n",
      "Freq: D, Length: 100, dtype: float64\n"
     ]
    }
   ],
   "source": [
    "# Applying a window function\n",
    "window_sum = ts_data.rolling(window=5).sum()\n",
    "print(\"Window Sum:\\n\", window_sum)"
   ]
  },
  {
   "cell_type": "code",
   "execution_count": null,
   "id": "85a87b52",
   "metadata": {},
   "outputs": [],
   "source": []
  },
  {
   "cell_type": "code",
   "execution_count": 25,
   "id": "e3502861",
   "metadata": {},
   "outputs": [
    {
     "name": "stdout",
     "output_type": "stream",
     "text": [
      "Pandas Conditional Mean:\n",
      " A    0.750564\n",
      "B    0.250018\n",
      "C    0.498578\n",
      "D    0.499219\n",
      "dtype: float64\n",
      "Pandas Operation Time: 0.00918 seconds\n",
      "NumPy Conditional Mean:\n",
      " [0.7505637  0.25001768 0.49857801 0.49921917]\n",
      "NumPy Operation Time: 0.00700 seconds\n"
     ]
    }
   ],
   "source": [
    "import numpy as np\n",
    "import pandas as pd\n",
    "import time\n",
    "\n",
    "# Creating a large DataFrame\n",
    "data = pd.DataFrame(np.random.rand(100000, 4), columns=['A', 'B', 'C', 'D'])\n",
    "\n",
    "# Timing Pandas operations\n",
    "start_time = time.time()\n",
    "result_pandas = data[(data['A'] > 0.5) & (data['B'] < 0.5)].mean()\n",
    "end_time = time.time()\n",
    "print(\"Pandas Conditional Mean:\\n\", result_pandas)\n",
    "print(\"Pandas Operation Time: {:.5f} seconds\".format(end_time - start_time))\n",
    "\n",
    "# Timing equivalent NumPy operations\n",
    "numpy_data = data.to_numpy()\n",
    "start_time = time.time()\n",
    "result_numpy = np.mean(numpy_data[(numpy_data[:, 0] > 0.5) & (numpy_data[:, 1] < 0.5)], axis=0)\n",
    "end_time = time.time()\n",
    "print(\"NumPy Conditional Mean:\\n\", result_numpy)\n",
    "print(\"NumPy Operation Time: {:.5f} seconds\".format(end_time - start_time))"
   ]
  }
 ],
 "metadata": {
  "kernelspec": {
   "display_name": "Python 3",
   "language": "python",
   "name": "python3"
  },
  "language_info": {
   "codemirror_mode": {
    "name": "ipython",
    "version": 3
   },
   "file_extension": ".py",
   "mimetype": "text/x-python",
   "name": "python",
   "nbconvert_exporter": "python",
   "pygments_lexer": "ipython3",
   "version": "3.11.4"
  }
 },
 "nbformat": 4,
 "nbformat_minor": 5
}
