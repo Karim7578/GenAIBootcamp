{
 "cells": [
  {
   "cell_type": "code",
   "execution_count": 1,
   "id": "27057a98",
   "metadata": {},
   "outputs": [
    {
     "name": "stdout",
     "output_type": "stream",
     "text": [
      "Requirement already satisfied: numpy in c:\\users\\zbook\\appdata\\local\\programs\\python\\python311\\lib\\site-packages (2.3.0)\n",
      "Note: you may need to restart the kernel to use updated packages.\n"
     ]
    },
    {
     "name": "stderr",
     "output_type": "stream",
     "text": [
      "\n",
      "[notice] A new release of pip is available: 23.1.2 -> 25.1.1\n",
      "[notice] To update, run: python.exe -m pip install --upgrade pip\n"
     ]
    }
   ],
   "source": [
    "pip install numpy"
   ]
  },
  {
   "cell_type": "code",
   "execution_count": 2,
   "id": "ef79a590",
   "metadata": {},
   "outputs": [],
   "source": [
    "import numpy as np"
   ]
  },
  {
   "cell_type": "code",
   "execution_count": 3,
   "id": "3f07ab0b",
   "metadata": {},
   "outputs": [
    {
     "name": "stdout",
     "output_type": "stream",
     "text": [
      "2.3.0\n"
     ]
    }
   ],
   "source": [
    "print(np.__version__)"
   ]
  },
  {
   "cell_type": "code",
   "execution_count": 12,
   "id": "d72932e5",
   "metadata": {},
   "outputs": [
    {
     "name": "stdout",
     "output_type": "stream",
     "text": [
      "1D Array: [1 2 3 4 5]\n"
     ]
    }
   ],
   "source": [
    "array_1d = np.array([1, 2, 3, 4,5])\n",
    "print(\"1D Array:\", array_1d)"
   ]
  },
  {
   "cell_type": "code",
   "execution_count": 11,
   "id": "7cd4a1a6",
   "metadata": {},
   "outputs": [
    {
     "name": "stdout",
     "output_type": "stream",
     "text": [
      "2D Array:\n",
      " [[1 2 3]\n",
      " [4 5 6]]\n",
      "Shape: (2, 3)\n",
      "Size: 6\n",
      "Data Type: int64\n"
     ]
    }
   ],
   "source": [
    "array_2d = np.array([[1, 2, 3], [4, 5, 6]])\n",
    "print(\"2D Array:\\n\", array_2d)\n",
    "\n",
    "print(\"Shape:\", array_2d.shape)  # Expected Output: Shape: (2, 3) - 2 rows and 3 columns\n",
    "print(\"Size:\", array_2d.size)   # Expected Output: Size: 6 - Total 6 elements\n",
    "print(\"Data Type:\", array_2d.dtype)  # Expected Output: Data Type: int64 (or similar, depending on system)"
   ]
  },
  {
   "cell_type": "code",
   "execution_count": 16,
   "id": "0c309efc",
   "metadata": {},
   "outputs": [
    {
     "name": "stdout",
     "output_type": "stream",
     "text": [
      "1D Array:\n",
      "Array: [1 2 3 4 5]\n",
      "Shape: (5,)\n",
      "Size: 5\n",
      "Data type: int64\n",
      "\n",
      "2D Array:\n",
      "Array:\n",
      " [[1 2 3]\n",
      " [4 5 6]]\n",
      "Shape: (2, 3)\n",
      "Size: 6\n",
      "Data type: int64\n",
      "\n",
      "Array with float data type:\n",
      "Array: [1. 2. 3.]\n",
      "Data type: float64\n"
     ]
    }
   ],
   "source": [
    "import numpy as np\n",
    "# 1D array\n",
    "array_1d = np.arange(1, 6)\n",
    "# 2D array\n",
    "array_2d = np.arange(1, 7).reshape(2, 3)\n",
    "\n",
    "# Attributes of the 1D array\n",
    "print(\"1D Array:\")\n",
    "print(\"Array:\", array_1d)\n",
    "print(\"Shape:\", array_1d.shape)\n",
    "print(\"Size:\", array_1d.size)\n",
    "print(\"Data type:\", array_1d.dtype)\n",
    "# Attributes of the 2D array\n",
    "print(\"\\n2D Array:\")\n",
    "print(\"Array:\\n\", array_2d)\n",
    "print(\"Shape:\", array_2d.shape)\n",
    "print(\"Size:\", array_2d.size)\n",
    "print(\"Data type:\", array_2d.dtype)\n",
    "\n",
    "# Array with specified data type\n",
    "array_float = np.arange(1, 4, dtype=float)\n",
    "print(\"\\nArray with float data type:\")\n",
    "print(\"Array:\", array_float)\n",
    "print(\"Data type:\", array_float.dtype)"
   ]
  },
  {
   "cell_type": "markdown",
   "id": "54f2e6ed",
   "metadata": {},
   "source": [
    "\n",
    "\n",
    "    A one dimensional array with the temperatures from this week.\n",
    "    A two dimensional array of shape 2,5 with random values (choose them yourself) from 1 to 10.\n",
    "    A 3D array with valid pixel values for a picture with 9 pixels.\n",
    "\n"
   ]
  },
  {
   "cell_type": "code",
   "execution_count": 19,
   "id": "c3b9617c",
   "metadata": {},
   "outputs": [
    {
     "name": "stdout",
     "output_type": "stream",
     "text": [
      "1D Array:\n",
      "Array: [25 30 32 34 38 29]\n",
      "Shape: (6,)\n",
      "Size: 6\n",
      "Data type: int64\n"
     ]
    }
   ],
   "source": [
    "array_temperature = np.array([25, 30, 32, 34, 38, 29])\n",
    "# Attributes of the 1D array\n",
    "print(\"1D Array:\")\n",
    "print(\"Array:\", array_temperature)\n",
    "print(\"Shape:\", array_temperature.shape)\n",
    "print(\"Size:\", array_temperature.size)\n",
    "print(\"Data type:\", array_temperature.dtype)"
   ]
  },
  {
   "cell_type": "code",
   "execution_count": 26,
   "id": "33aa572e",
   "metadata": {},
   "outputs": [
    {
     "name": "stdout",
     "output_type": "stream",
     "text": [
      "\n",
      "2D Array:\n",
      "Array:\n",
      " [[ 1  2  3  4  5]\n",
      " [ 6  7  8  9 10]]\n",
      "Shape: (2, 5)\n",
      "Size: 10\n",
      "Data type: int64\n"
     ]
    }
   ],
   "source": [
    "# 2D array\n",
    "array_2d = np.arange(1, 11).reshape(2, 5)\n",
    "# Attributes of the 2D array\n",
    "print(\"\\n2D Array:\")\n",
    "print(\"Array:\\n\", array_2d)\n",
    "print(\"Shape:\", array_2d.shape)\n",
    "print(\"Size:\", array_2d.size)\n",
    "print(\"Data type:\", array_2d.dtype)"
   ]
  },
  {
   "cell_type": "code",
   "execution_count": 28,
   "id": "34d11de2",
   "metadata": {},
   "outputs": [
    {
     "name": "stdout",
     "output_type": "stream",
     "text": [
      "\n",
      "3D Array:\n",
      "Array:\n",
      " [[ 1  2  3]\n",
      " [ 5  6  7]\n",
      " [ 9 10 11]]\n",
      "Shape: (3, 3)\n",
      "Size: 9\n",
      "Data type: int64\n"
     ]
    }
   ],
   "source": [
    "array_3d = np.array([[1, 2, 3], [5, 6, 7], [9, 10, 11]])\n",
    "print(\"\\n3D Array:\")\n",
    "print(\"Array:\\n\", array_3d)\n",
    "print(\"Shape:\", array_3d.shape)\n",
    "print(\"Size:\", array_3d.size)\n",
    "print(\"Data type:\", array_3d.dtype)"
   ]
  },
  {
   "cell_type": "code",
   "execution_count": 29,
   "id": "459bb665",
   "metadata": {},
   "outputs": [
    {
     "name": "stdout",
     "output_type": "stream",
     "text": [
      "Element at row 1, column 2: 6\n",
      "Second row: [4 5 6]\n",
      "Third column: [3 6 9]\n"
     ]
    }
   ],
   "source": [
    "\n",
    "# Example 2D array\n",
    "array_2d = np.array([[1, 2, 3], [4, 5, 6], [7, 8, 9]])\n",
    "\n",
    "# Accessing a single element\n",
    "print(\"Element at row 1, column 2:\", array_2d[1, 2])  # Output: 6\n",
    "\n",
    "# Accessing a row\n",
    "print(\"Second row:\", array_2d[1, :])  # Output: [4 5 6]\n",
    "\n",
    "# Accessing a column\n",
    "print(\"Third column:\", array_2d[:, 2])  # Output: [3 6 9]"
   ]
  },
  {
   "cell_type": "markdown",
   "id": "07aa1ee3",
   "metadata": {},
   "source": [
    "\n",
    "\n",
    "1. Basic Indexing: Create an array of 10 elements and access the 5th element in it.\n",
    "\n",
    "2. Basic Slicing: From the same array, extract a slice containing the 3rd to the 8th elements.\n",
    "\n",
    "3. Boolean Indexing: Create an array of 6 random integers between 10 and 50. Print the elements that are greater than 30.\n",
    "\n",
    "4. Fancy Indexing: From the same array, use fancy indexing to access the 2nd, 4th, and 6th elements.\n",
    "\n",
    "Expected Output:\n",
    "\n",
    "    The 5th element of the first array.\n",
    "    A slice of the array showing elements from the 3rd to the 8th position.\n",
    "    Elements greater than 30 from the random array.\n",
    "    Selected elements (2nd, 4th, 6th) from the random array using fancy indexing.\n",
    "\n"
   ]
  },
  {
   "cell_type": "code",
   "execution_count": null,
   "id": "ec255bdf",
   "metadata": {},
   "outputs": [
    {
     "name": "stdout",
     "output_type": "stream",
     "text": [
      "\n",
      "3D Array:\n",
      "Array:\n",
      " [0 1 2 3 4 5 6 7 8 9]\n",
      "Shape: (10,)\n",
      "Size: 10\n",
      "Data type: int64\n"
     ]
    },
    {
     "data": {
      "text/plain": [
       "array([2, 3, 4, 5, 6, 7, 8])"
      ]
     },
     "execution_count": 35,
     "metadata": {},
     "output_type": "execute_result"
    }
   ],
   "source": [
    "array_1d = np.array([0,1,2,3,4,5,6,7,8,9])\n",
    "print(\"\\n1D Array:\")\n",
    "print(\"Array:\\n\", array_1d)\n",
    "print(\"Shape:\", array_1d.shape)\n",
    "print(\"Size:\", array_1d.size)\n",
    "print(\"Data type:\", array_1d.dtype)\n",
    "array_1d[5:6]\n",
    "array_1d[2:9]"
   ]
  },
  {
   "cell_type": "code",
   "execution_count": 36,
   "id": "9afed690",
   "metadata": {},
   "outputs": [
    {
     "name": "stdout",
     "output_type": "stream",
     "text": [
      "[46 41 45]\n"
     ]
    }
   ],
   "source": [
    "rand = np.random.randint(10, 50, 6)\n",
    "print(rand[rand>30])"
   ]
  },
  {
   "cell_type": "code",
   "execution_count": null,
   "id": "0ecc01cb",
   "metadata": {},
   "outputs": [],
   "source": [
    "import numpy as np\n",
    "# Create an array with 10 elements\n",
    "array_10 = np.array([1, 2, 3, 4, 5, 6, 7, 8, 9, 10])\n",
    "# Access the 5th element (index 4)\n",
    "fifth_element = array_10[4]\n",
    "print(\"5th element:\", fifth_element)\n",
    "\n",
    "# Extract elements from the 3rd to the 8th position (indices 2 to 7)\n",
    "slice_array = array_10[2:8]\n",
    "print(\"Slice from 3rd to 8th elements:\", slice_array)\n",
    "\n",
    "# Create an array of 6 random integers between 10 and 50\n",
    "random_array = np.random.randint(10, 50, 6)\n",
    "# Boolean indexing to find elements greater than 30\n",
    "greater_than_30 = random_array[random_array > 30]\n",
    "print(\"Random array elements greater than 30:\", greater_than_30)\n",
    "\n",
    "# Use fancy indexing to access 2nd, 4th, and 6th elements\n",
    "fancy_elements = random_array[[1, 3, 5]]\n",
    "print(\"Elements at 2nd, 4th, and 6th positions:\", fancy_elements)"
   ]
  },
  {
   "cell_type": "code",
   "execution_count": 41,
   "id": "9dc383f5",
   "metadata": {},
   "outputs": [
    {
     "data": {
      "text/plain": [
       "array([2, 7, 5, 6, 1, 4, 3])"
      ]
     },
     "execution_count": 41,
     "metadata": {},
     "output_type": "execute_result"
    }
   ],
   "source": [
    "x = np.array([1, 2, 3, 4, 5, 6, 7])\n",
    "new = np.random.permutation(x)\n",
    "new\n",
    "\n"
   ]
  },
  {
   "cell_type": "code",
   "execution_count": 40,
   "id": "80575a3a",
   "metadata": {},
   "outputs": [
    {
     "data": {
      "text/plain": [
       "array([[3, 4],\n",
       "       [1, 2],\n",
       "       [5, 6]])"
      ]
     },
     "execution_count": 40,
     "metadata": {},
     "output_type": "execute_result"
    }
   ],
   "source": [
    "two = np.array([[1,2], [3,4], [5,6]])\n",
    "np.random.permutation(two)"
   ]
  },
  {
   "cell_type": "code",
   "execution_count": 43,
   "id": "7aea0dd7",
   "metadata": {},
   "outputs": [
    {
     "data": {
      "text/plain": [
       "array([0, 1, 2, 3, 4, 5, 6, 7, 8, 9])"
      ]
     },
     "execution_count": 43,
     "metadata": {},
     "output_type": "execute_result"
    }
   ],
   "source": [
    "x = np.arange(10)\n",
    "\n",
    "x"
   ]
  },
  {
   "cell_type": "code",
   "execution_count": 44,
   "id": "9b07bf3c",
   "metadata": {},
   "outputs": [
    {
     "name": "stdout",
     "output_type": "stream",
     "text": [
      "[ 1  2 10  4  5]\n"
     ]
    }
   ],
   "source": [
    "arr = np.array([1, 2, 3, 4, 5])\n",
    "arr[2] = 10  # Changing the third element\n",
    "print(arr)  # Output: [1, 2, 10, 4, 5]"
   ]
  },
  {
   "cell_type": "code",
   "execution_count": 49,
   "id": "7c1fb8b8",
   "metadata": {},
   "outputs": [
    {
     "name": "stdout",
     "output_type": "stream",
     "text": [
      "[ 1 20 30 40  5]\n"
     ]
    }
   ],
   "source": [
    "arr[1:4] = [20, 30, 40]\n",
    "print(arr)  # Output: [1, 20, 30, 40, 5]"
   ]
  },
  {
   "cell_type": "markdown",
   "id": "cc7d7a4c",
   "metadata": {},
   "source": [
    "\n",
    "\n",
    "After learning about array indexing and slicing, it's important to practice these concepts. Here are some exercises to help solidify your understanding:\n",
    "\n",
    "1. Modifying Specific Elements:\n",
    "\n",
    "Create an array with values from 1 to 10. Change the value of the fifth element to 50.\n",
    "\n",
    "2. Slicing and Modifying a Range:\n",
    "\n",
    "Given an array of 10 elements, modify the elements from index 3 to 7 to be their negative equivalent.\n",
    "\n",
    "3. Conditional Modification with Boolean Indexing:\n",
    "\n",
    "Create an array with 20 random integers between 1 and 100. Set all values greater than 50 to -1.\n",
    "\n",
    "4. Advanced Indexing Modification:\n",
    "\n",
    "Given a 2D array of shape (5, 5), modify the elements in the diagonal to be twice their original value.\n",
    "\n",
    "5. Understanding Slicing Impact:\n",
    "\n",
    "Create an array of 10 elements. Slice the array from index 2 to 5, and modify the first element of the slice. Observe the change in the original array.\n"
   ]
  },
  {
   "cell_type": "code",
   "execution_count": 50,
   "id": "df3b3bbe",
   "metadata": {},
   "outputs": [
    {
     "name": "stdout",
     "output_type": "stream",
     "text": [
      "\n",
      "1D Array:\n",
      "Array:\n",
      " [ 1  2  3  4 50  6  7  8  9 10]\n",
      "Shape: (10,)\n",
      "Size: 10\n",
      "Data type: int64\n",
      "[ 1  2  3  4 50  6  7  8  9 10]\n"
     ]
    }
   ],
   "source": [
    "array = np.array([1,2,3,4,5,6,7,8,9,10])\n",
    "print(\"\\n1D Array:\")\n",
    "print(\"Array:\\n\", array_1d)\n",
    "print(\"Shape:\", array_1d.shape)\n",
    "print(\"Size:\", array_1d.size)\n",
    "print(\"Data type:\", array_1d.dtype)\n",
    "array[4] = 50\n",
    "print(array)"
   ]
  },
  {
   "cell_type": "code",
   "execution_count": 51,
   "id": "57b7f113",
   "metadata": {},
   "outputs": [
    {
     "name": "stdout",
     "output_type": "stream",
     "text": [
      "Array after negating elements 3 to 7: [  1   2   3  -4 -50  -6  -7  -8   9  10]\n"
     ]
    }
   ],
   "source": [
    "# Modify elements from index 3 to 7\n",
    "array[3:8] = -array[3:8]\n",
    "print(\"Array after negating elements 3 to 7:\", array)"
   ]
  },
  {
   "cell_type": "code",
   "execution_count": 52,
   "id": "c8574839",
   "metadata": {},
   "outputs": [
    {
     "name": "stdout",
     "output_type": "stream",
     "text": [
      "Array after setting values > 50 to -1: [43 14 47 -1  2  3 46 18 -1 16 23  3 -1 -1 -1 -1 -1 30 -1 -1]\n"
     ]
    }
   ],
   "source": [
    "# Random array with values between 1 and 100\n",
    "random_array = np.random.randint(1, 101, 20)\n",
    "# Set elements greater than 50 to -1\n",
    "random_array[random_array > 50] = -1\n",
    "print(\"Array after setting values > 50 to -1:\", random_array)"
   ]
  },
  {
   "cell_type": "markdown",
   "id": "00a52892",
   "metadata": {},
   "source": [
    "Given a 2D array of shape (5, 5), modify the elements in the diagonal to be twice their original value."
   ]
  },
  {
   "cell_type": "code",
   "execution_count": null,
   "id": "0f42a527",
   "metadata": {},
   "outputs": [
    {
     "name": "stdout",
     "output_type": "stream",
     "text": [
      "Array:\n",
      " [[ 1  2  3  4  5]\n",
      " [ 6  7  8  9 10]]\n",
      "Shape: (2, 5)\n",
      "Size: 10\n",
      "Data type: int64\n"
     ]
    }
   ],
   "source": [
    "# Correction 1 : La syntaxe pour créer un array 2D nécessite des parenthèses supplémentaires\n",
    "a = np.array([[1,2,3,4,5], [6,7,8,9,10]], [])  # Notez les doubles crochets\n",
    "\n",
    "print(\"Array:\\n\", a)\n",
    "print(\"Shape:\", a.shape)  # Affiche les dimensions (2,5)\n",
    "print(\"Size:\", a.size)    # Nombre total d'éléments (10)\n",
    "print(\"Data type:\", a.dtype)  # Type des éléments (int64 par défaut)"
   ]
  },
  {
   "cell_type": "code",
   "execution_count": 56,
   "id": "a6acbcec",
   "metadata": {},
   "outputs": [
    {
     "name": "stdout",
     "output_type": "stream",
     "text": [
      "Array d'entiers aléatoires :\n",
      " [[ 9 29 56 76 67]\n",
      " [39 10 92 56 14]\n",
      " [39 36 89 89 48]\n",
      " [88 81 98 12 32]\n",
      " [50 55 74 35 94]]\n"
     ]
    }
   ],
   "source": [
    "random_int_array = np.random.randint(0, 101, size=(5, 5))\n",
    "print(\"Array d'entiers aléatoires :\\n\", random_int_array)"
   ]
  },
  {
   "cell_type": "code",
   "execution_count": 57,
   "id": "494fe3c0",
   "metadata": {},
   "outputs": [
    {
     "name": "stdout",
     "output_type": "stream",
     "text": [
      "Addition: [5 7 9]\n",
      "Broadcasting with scalar: [3 6 9]\n"
     ]
    }
   ],
   "source": [
    "import numpy as np\n",
    "\n",
    "# Creating sample arrays\n",
    "a = np.array([1, 2, 3])\n",
    "b = np.array([4, 5, 6])\n",
    "\n",
    "# Element-wise addition\n",
    "print(\"Addition:\", a + b)\n",
    "\n",
    "# Broadcasting\n",
    "print(\"Broadcasting with scalar:\", a * 3)"
   ]
  },
  {
   "cell_type": "code",
   "execution_count": 58,
   "id": "9c2f5ca8",
   "metadata": {},
   "outputs": [
    {
     "name": "stdout",
     "output_type": "stream",
     "text": [
      "Original Array: [1 2 3]\n",
      "After Adding 5: [6 7 8]\n"
     ]
    }
   ],
   "source": [
    "import numpy as np\n",
    "\n",
    "# Creating a 1D array\n",
    "a = np.array([1, 2, 3])\n",
    "\n",
    "# Adding a scalar value to the array\n",
    "result = a + 5\n",
    "\n",
    "print(\"Original Array:\", a)\n",
    "print(\"After Adding 5:\", result)"
   ]
  },
  {
   "cell_type": "code",
   "execution_count": 60,
   "id": "b64ec712",
   "metadata": {},
   "outputs": [
    {
     "name": "stdout",
     "output_type": "stream",
     "text": [
      "1D Array: [0 1 2]\n",
      "2D Array: [[0 1 2]\n",
      " [3 4 5]]\n",
      "Broadcasted Addition: [[0 2 4]\n",
      " [3 5 7]]\n"
     ]
    }
   ],
   "source": [
    "import numpy as np\n",
    "\n",
    "# Creating a 1D array and a 2D array\n",
    "a = np.array([0, 1, 2])\n",
    "b = np.array([[0, 1, 2], [3, 4, 5]])\n",
    "\n",
    "# Adding the 1D array to each row of the 2D array\n",
    "result = a + b\n",
    "\n",
    "print(\"1D Array:\", a)\n",
    "print(\"2D Array:\", b)\n",
    "print(\"Broadcasted Addition:\", result)"
   ]
  },
  {
   "cell_type": "code",
   "execution_count": 62,
   "id": "3bd166df",
   "metadata": {},
   "outputs": [
    {
     "name": "stdout",
     "output_type": "stream",
     "text": [
      "1D Array: [[1]\n",
      " [2]\n",
      " [3]]\n",
      "2D Array: [1 2 3]\n",
      "Broadcasted Addition: [[2 3 4]\n",
      " [3 4 5]\n",
      " [4 5 6]]\n"
     ]
    }
   ],
   "source": [
    "import numpy as np\n",
    "\n",
    "# Creating two arrays\n",
    "a = np.array([[1], [2], [3]])\n",
    "b = np.array([1, 2, 3])\n",
    "\n",
    "# Adding the two arrays\n",
    "result = a + b\n",
    "\n",
    "print(\"1D Array:\", a)\n",
    "print(\"2D Array:\", b)\n",
    "print(\"Broadcasted Addition:\", result)"
   ]
  },
  {
   "cell_type": "code",
   "execution_count": 63,
   "id": "7f82406a",
   "metadata": {},
   "outputs": [
    {
     "name": "stdout",
     "output_type": "stream",
     "text": [
      "Sum: 21\n",
      "Mean: 3.5\n",
      "Min: 1 Max: 6\n"
     ]
    }
   ],
   "source": [
    "\n",
    "# Creating a sample array\n",
    "array = np.array([[1, 2, 3], [4, 5, 6]])\n",
    "\n",
    "# Sum of all elements\n",
    "print(\"Sum:\", np.sum(array))\n",
    "\n",
    "# Mean value\n",
    "print(\"Mean:\", np.mean(array))\n",
    "\n",
    "# Minimum and Maximum\n",
    "print(\"Min:\", np.min(array), \"Max:\", np.max(array))\n"
   ]
  },
  {
   "cell_type": "markdown",
   "id": "7f45480a",
   "metadata": {},
   "source": [
    "\n",
    "\n",
    "1. Arithmetic Operations: Create two 1D arrays of 3 elements each and perform element-wise addition, subtraction, multiplication, and division.\n",
    "\n",
    "2. Aggregation Functions: For the arrays created above, find the sum, mean, minimum, and maximum of each array.\n",
    "\n",
    "3. Broadcasting with Scalar: Multiply one of the arrays by a scalar (e.g., 5) and observe the result.\n"
   ]
  },
  {
   "cell_type": "code",
   "execution_count": 64,
   "id": "adc578a5",
   "metadata": {},
   "outputs": [
    {
     "name": "stdout",
     "output_type": "stream",
     "text": [
      "1D Array: [4 5 6]\n",
      "2D Array: [1 2 3]\n",
      "Broadcasted Addition: [5 7 9]\n"
     ]
    }
   ],
   "source": [
    "# Creating two arrays\n",
    "a = np.array([4, 5, 6])\n",
    "b = np.array([1, 2, 3])\n",
    "# Adding the two arrays\n",
    "result = a + b\n",
    "\n",
    "print(\"1D Array:\", a)\n",
    "print(\"2D Array:\", b)\n",
    "print(\"Broadcasted Addition:\", result)\n"
   ]
  },
  {
   "cell_type": "code",
   "execution_count": 65,
   "id": "2ce2bb4b",
   "metadata": {},
   "outputs": [
    {
     "name": "stdout",
     "output_type": "stream",
     "text": [
      "1D Array: [4 5 6]\n",
      "2D Array: [1 2 3]\n",
      "Broadcasted Addition: [3 3 3]\n"
     ]
    }
   ],
   "source": [
    "# Sub the two arrays\n",
    "result = a - b\n",
    "\n",
    "print(\"1D Array:\", a)\n",
    "print(\"2D Array:\", b)\n",
    "print(\"Broadcasted Addition:\", result)"
   ]
  },
  {
   "cell_type": "code",
   "execution_count": 66,
   "id": "8da0ee7c",
   "metadata": {},
   "outputs": [
    {
     "name": "stdout",
     "output_type": "stream",
     "text": [
      "1D Array: [4 5 6]\n",
      "2D Array: [1 2 3]\n",
      "Broadcasted Addition: [ 4 10 18]\n"
     ]
    }
   ],
   "source": [
    "# Multiply the two arrays\n",
    "result = a * b\n",
    "\n",
    "print(\"1D Array:\", a)\n",
    "print(\"2D Array:\", b)\n",
    "print(\"Broadcasted Addition:\", result)"
   ]
  },
  {
   "cell_type": "code",
   "execution_count": 67,
   "id": "240c5864",
   "metadata": {},
   "outputs": [
    {
     "name": "stdout",
     "output_type": "stream",
     "text": [
      "1D Array: [4 5 6]\n",
      "2D Array: [1 2 3]\n",
      "Broadcasted Addition: [4.  2.5 2. ]\n"
     ]
    }
   ],
   "source": [
    "# Divide the two arrays\n",
    "result = a / b\n",
    "\n",
    "print(\"1D Array:\", a)\n",
    "print(\"2D Array:\", b)\n",
    "print(\"Broadcasted Addition:\", result)"
   ]
  },
  {
   "cell_type": "code",
   "execution_count": 68,
   "id": "7c4064ea",
   "metadata": {},
   "outputs": [
    {
     "name": "stdout",
     "output_type": "stream",
     "text": [
      "Sum: 15\n",
      "Mean: 5.0\n",
      "Min: 4 Max: 6\n"
     ]
    }
   ],
   "source": [
    "\n",
    "# Sum of all elements\n",
    "print(\"Sum:\", np.sum(a))\n",
    "\n",
    "# Mean value\n",
    "print(\"Mean:\", np.mean(a))\n",
    "\n",
    "# Minimum and Maximum\n",
    "print(\"Min:\", np.min(a), \"Max:\", np.max(a))"
   ]
  },
  {
   "cell_type": "code",
   "execution_count": 69,
   "id": "2bb17e26",
   "metadata": {},
   "outputs": [
    {
     "name": "stdout",
     "output_type": "stream",
     "text": [
      "Original Array:\n",
      " [[ 1  2  3  4  5]\n",
      " [ 6  7  8  9 10]\n",
      " [11 12 13 14 15]\n",
      " [16 17 18 19 20]\n",
      " [21 22 23 24 25]]\n",
      "\n",
      "After multiplying by 5:\n",
      " [[  5  10  15  20  25]\n",
      " [ 30  35  40  45  50]\n",
      " [ 55  60  65  70  75]\n",
      " [ 80  85  90  95 100]\n",
      " [105 110 115 120 125]]\n"
     ]
    }
   ],
   "source": [
    "# Create a 2D array (shape 5x5)\n",
    "arr = np.array([[1, 2, 3, 4, 5],\n",
    "                [6, 7, 8, 9, 10],\n",
    "                [11, 12, 13, 14, 15],\n",
    "                [16, 17, 18, 19, 20],\n",
    "                [21, 22, 23, 24, 25]])\n",
    "\n",
    "# Multiply by scalar 5 (broadcasting)\n",
    "result = arr * 5\n",
    "\n",
    "print(\"Original Array:\\n\", arr)\n",
    "print(\"\\nAfter multiplying by 5:\\n\", result)"
   ]
  },
  {
   "cell_type": "code",
   "execution_count": 70,
   "id": "3606e825",
   "metadata": {},
   "outputs": [
    {
     "name": "stdout",
     "output_type": "stream",
     "text": [
      "Reshaped to 3x3:\n",
      " [[1 2 3]\n",
      " [4 5 6]\n",
      " [7 8 9]]\n"
     ]
    }
   ],
   "source": [
    "import numpy as np\n",
    "\n",
    "# Creating a 1D array\n",
    "array = np.arange(1, 10)  # Array of numbers from 1 to 9\n",
    "\n",
    "# Reshaping to a 3x3 matrix\n",
    "reshaped_array = array.reshape(3, 3)\n",
    "print(\"Reshaped to 3x3:\\n\", reshaped_array)"
   ]
  },
  {
   "cell_type": "code",
   "execution_count": 71,
   "id": "3be6a6c3",
   "metadata": {},
   "outputs": [
    {
     "name": "stdout",
     "output_type": "stream",
     "text": [
      "Transposed array:\n",
      " [[1 4 7]\n",
      " [2 5 8]\n",
      " [3 6 9]]\n"
     ]
    }
   ],
   "source": [
    "\n",
    "# Transposing the reshaped array\n",
    "transposed_array = reshaped_array.T\n",
    "print(\"Transposed array:\\n\", transposed_array)\n"
   ]
  },
  {
   "cell_type": "markdown",
   "id": "b359864f",
   "metadata": {},
   "source": [
    "\n",
    "\n",
    "1. Reshape Array: Create a 1D array with 12 elements and reshape it to a 4x3 matrix. Then reshape it to a 2x6 matrix.\n",
    "\n",
    "2. Transpose Matrix: Transpose the 2x6 matrix you created in the previous step.\n",
    "\n",
    "3. Combine Reshaping and Transposing: Create a 3x4 matrix, transpose it, and then reshape the transposed matrix to a 1D array.\n"
   ]
  },
  {
   "cell_type": "code",
   "execution_count": 76,
   "id": "16f7e021",
   "metadata": {},
   "outputs": [
    {
     "name": "stdout",
     "output_type": "stream",
     "text": [
      "[ 0  1  2  3  4  5  6  7  8  9 10 11]\n",
      "Reshaped to 3x3:\n",
      " [[ 0  1  2]\n",
      " [ 3  4  5]\n",
      " [ 6  7  8]\n",
      " [ 9 10 11]]\n",
      "Reshaped to 3x3:\n",
      " [[ 0  1  2  3  4  5]\n",
      " [ 6  7  8  9 10 11]]\n"
     ]
    }
   ],
   "source": [
    "a = np.arange(0, 12)\n",
    "print(a)\n",
    "\n",
    "# Reshaping to a 4x3 matrix\n",
    "reshaped_array = a.reshape(4, 3)\n",
    "print(\"Reshaped to 3x3:\\n\", reshaped_array)\n",
    "\n",
    "# Reshaping to a 2x6 matrix\n",
    "reshaped_array = a.reshape(2, 6)\n",
    "print(\"Reshaped to 3x3:\\n\", reshaped_array)"
   ]
  },
  {
   "cell_type": "code",
   "execution_count": 77,
   "id": "b05ce49b",
   "metadata": {},
   "outputs": [
    {
     "name": "stdout",
     "output_type": "stream",
     "text": [
      "Transposed array:\n",
      " [[ 0  6]\n",
      " [ 1  7]\n",
      " [ 2  8]\n",
      " [ 3  9]\n",
      " [ 4 10]\n",
      " [ 5 11]]\n"
     ]
    }
   ],
   "source": [
    "# Transposing the reshaped array\n",
    "transposed_array = reshaped_array.T\n",
    "print(\"Transposed array:\\n\", transposed_array)"
   ]
  },
  {
   "cell_type": "code",
   "execution_count": 82,
   "id": "1f2b72fb",
   "metadata": {},
   "outputs": [
    {
     "name": "stdout",
     "output_type": "stream",
     "text": [
      "\n",
      "Random integer matrix:\n",
      " [[6 1 9 1]\n",
      " [8 6 4 3]\n",
      " [4 0 7 4]]\n",
      "Transposed array:\n",
      " [[6 8 4]\n",
      " [1 6 0]\n",
      " [9 4 7]\n",
      " [1 3 4]]\n",
      "Reshaped to 1x12\n",
      " [[6 8 4 1 6 0 9 4 7 1 3 4]]\n"
     ]
    }
   ],
   "source": [
    "# Random integers (0-9)\n",
    "array = np.random.randint(0, 10, size=(3, 4))\n",
    "\n",
    "print(\"\\nRandom integer matrix:\\n\", array)\n",
    "\n",
    "# Transposing the reshaped array\n",
    "transposed_array = array.T\n",
    "print(\"Transposed array:\\n\", transposed_array)\n",
    "\n",
    "# Reshaping to a 1x12 matrix\n",
    "reshaped_array = transposed_array.reshape(1, 12)\n",
    "print(\"Reshaped to 1x12\\n\", reshaped_array)\n",
    "\n"
   ]
  },
  {
   "cell_type": "code",
   "execution_count": 85,
   "id": "b10acc77",
   "metadata": {},
   "outputs": [
    {
     "name": "stdout",
     "output_type": "stream",
     "text": [
      "\n",
      "3x4 Matrix:\n",
      " [[ 0  1  2  3]\n",
      " [ 4  5  6  7]\n",
      " [ 8  9 10 11]]\n",
      "\n",
      "Transposed 3x4 Matrix:\n",
      " [[ 0  4  8]\n",
      " [ 1  5  9]\n",
      " [ 2  6 10]\n",
      " [ 3  7 11]]\n",
      "\n",
      "Reshaped 1D Array from Transposed Matrix:\n",
      " [ 0  4  8  1  5  9  2  6 10  3  7 11]\n"
     ]
    }
   ],
   "source": [
    "# Create a 3x4 matrix\n",
    "matrix_3x4 = np.arange(12).reshape(3, 4)\n",
    "print(\"\\n3x4 Matrix:\\n\", matrix_3x4)\n",
    "# Transpose the 3x4 matrix\n",
    "transposed_3x4 = matrix_3x4.T\n",
    "print(\"\\nTransposed 3x4 Matrix:\\n\", transposed_3x4)\n",
    "# Reshape the transposed matrix to a 1D array\n",
    "reshaped_1d = transposed_3x4.reshape(-1)\n",
    "print(\"\\nReshaped 1D Array from Transposed Matrix:\\n\", reshaped_1d)"
   ]
  }
 ],
 "metadata": {
  "kernelspec": {
   "display_name": "Python 3",
   "language": "python",
   "name": "python3"
  },
  "language_info": {
   "codemirror_mode": {
    "name": "ipython",
    "version": 3
   },
   "file_extension": ".py",
   "mimetype": "text/x-python",
   "name": "python",
   "nbconvert_exporter": "python",
   "pygments_lexer": "ipython3",
   "version": "3.11.4"
  }
 },
 "nbformat": 4,
 "nbformat_minor": 5
}
