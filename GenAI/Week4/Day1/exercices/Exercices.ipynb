{
 "cells": [
  {
   "cell_type": "markdown",
   "id": "94890861",
   "metadata": {},
   "source": [
    "🌟 Exercise 1 : Array Creation and Manipulation\n",
    "Instructions\n",
    "\n",
    "Create a 1D NumPy array containing numbers from 0 to 9.\n",
    "\n",
    "Expected Output:\n",
    "\n",
    "array([0, 1, 2, 3, 4, 5, 6, 7, 8, 9])"
   ]
  },
  {
   "cell_type": "code",
   "execution_count": 2,
   "id": "8b67026f",
   "metadata": {},
   "outputs": [
    {
     "name": "stdout",
     "output_type": "stream",
     "text": [
      "[0 1 2 3 4 5 6 7 8 9]\n"
     ]
    }
   ],
   "source": [
    "import numpy as np\n",
    "\n",
    "a = np.arange(0, 10)\n",
    "print(a)"
   ]
  },
  {
   "cell_type": "markdown",
   "id": "b7c0b2fa",
   "metadata": {},
   "source": [
    "🌟 Exercise 2 : Type Conversion and Array Operations\n",
    "Instructions\n",
    "\n",
    "Convert a list [3.14, 2.17, 0, 1, 2] into a NumPy array and convert its data type to integer.\n",
    "\n",
    "Expected Output:\n",
    "\n",
    "\n",
    "array([3, 2, 0, 1, 2])\n"
   ]
  },
  {
   "cell_type": "code",
   "execution_count": 3,
   "id": "08990dd4",
   "metadata": {},
   "outputs": [
    {
     "name": "stdout",
     "output_type": "stream",
     "text": [
      "[3 2 0 1 2]\n"
     ]
    }
   ],
   "source": [
    "a = np.array([3.14, 2.17, 0, 1, 2]).astype(int)\n",
    "print(a)\n"
   ]
  },
  {
   "cell_type": "markdown",
   "id": "e6eb224f",
   "metadata": {},
   "source": [
    "🌟 Exercise 3 : Working with Multi-Dimensional Arrays\n",
    "Instructions\n",
    "\n",
    "Create a 3x3 NumPy array with values ranging from 1 to 9.\n",
    "\n",
    "Expected Output:\n",
    "\n",
    "\n",
    "array([[1, 2, 3],\n",
    "       [4, 5, 6],\n",
    "       [7, 8, 9]])\n"
   ]
  },
  {
   "cell_type": "code",
   "execution_count": 7,
   "id": "2a653dd7",
   "metadata": {},
   "outputs": [
    {
     "name": "stdout",
     "output_type": "stream",
     "text": [
      "Array( [[1 2 3]\n",
      " [4 5 6]\n",
      " [7 8 9]]\n"
     ]
    }
   ],
   "source": [
    "a= np.array([[1,2,3], [4,5,6], [7,8,9]])\n",
    "print(\"Array(\",a)"
   ]
  },
  {
   "cell_type": "markdown",
   "id": "c1e6e74f",
   "metadata": {},
   "source": [
    "🌟 Exercise 4 : Creating Multi-Dimensional Array with Random Numbers\n",
    "Instructions\n",
    "\n",
    "Create a 2D NumPy array of shape (4, 5) filled with random numbers.\n",
    "\n",
    "Expected Output:"
   ]
  },
  {
   "cell_type": "code",
   "execution_count": 8,
   "id": "e5860737",
   "metadata": {},
   "outputs": [
    {
     "name": "stdout",
     "output_type": "stream",
     "text": [
      "[[0.11352859 0.3691828  0.40790896 0.73686684 0.46564086]\n",
      " [0.2026866  0.34385919 0.85066152 0.85741784 0.10986979]\n",
      " [0.84881206 0.24373367 0.80988433 0.66177045 0.01595379]\n",
      " [0.75030192 0.89550013 0.98221879 0.3060347  0.69605525]]\n"
     ]
    }
   ],
   "source": [
    "arr = np.random.rand(4, 5)\n",
    "print(arr)"
   ]
  },
  {
   "cell_type": "markdown",
   "id": "674000a2",
   "metadata": {},
   "source": [
    "🌟 Exercise 5 : Indexing Arrays\n",
    "Instructions\n",
    "\n",
    "Select the second row from a given 2D NumPy array.\n",
    "\n",
    "Expected Output:\n",
    "\n",
    "\n",
    "array = np.array([[21,22,23,22,22],[20, 21, 22, 23, 24],[21,22,23,22,22]])\n"
   ]
  },
  {
   "cell_type": "code",
   "execution_count": 9,
   "id": "9f1d7b80",
   "metadata": {},
   "outputs": [
    {
     "name": "stdout",
     "output_type": "stream",
     "text": [
      "[20 21 22 23 24]\n"
     ]
    }
   ],
   "source": [
    "arr = np.array([[21,22,23,22,22],\n",
    "                [20, 21, 22, 23, 24],\n",
    "                [21,22,23,22,22]])\n",
    "second_row = arr[1]\n",
    "print(second_row)"
   ]
  },
  {
   "cell_type": "markdown",
   "id": "c0f78fc1",
   "metadata": {},
   "source": [
    "🌟 Exercise 6 : Reversing elements\n",
    "Instructions\n",
    "\n",
    "Reverse the order of elements in a given 1D NumPy array (first element becomes last).\n",
    "\n",
    "Expected Output:\n",
    "\n",
    "\n",
    "array([9, 8, 7, 6, 5, 4, 3, 2, 1, 0])\n"
   ]
  },
  {
   "cell_type": "code",
   "execution_count": 12,
   "id": "fd78e5c8",
   "metadata": {},
   "outputs": [
    {
     "name": "stdout",
     "output_type": "stream",
     "text": [
      "[9 8 7 6 5 4 3 2 1 0]\n"
     ]
    }
   ],
   "source": [
    "a= np.array([0,1,2,3,4,5,6,7,8,9])\n",
    "reversed_a = a[::-1]\n",
    "print(reversed_a)"
   ]
  },
  {
   "cell_type": "markdown",
   "id": "9be54991",
   "metadata": {},
   "source": [
    "\n",
    "🌟 Exercise 7 : Identity Matrix\n",
    "Instructions\n",
    "\n",
    "Create a 4x4 identity matrix using NumPy.\n",
    "\n",
    "Expected Output:\n",
    "\n",
    "\n",
    "array([[1., 0., 0., 0.],\n",
    "       [0., 1., 0., 0.],\n",
    "       [0., 0., 1., 0.],\n",
    "       [0., 0., 0., 1.]])\n"
   ]
  },
  {
   "cell_type": "code",
   "execution_count": 13,
   "id": "b7ffb550",
   "metadata": {},
   "outputs": [
    {
     "name": "stdout",
     "output_type": "stream",
     "text": [
      "[[1. 0. 0. 0.]\n",
      " [0. 1. 0. 0.]\n",
      " [0. 0. 1. 0.]\n",
      " [0. 0. 0. 1.]]\n"
     ]
    }
   ],
   "source": [
    "identity_matrix = np.eye(4)\n",
    "print(identity_matrix)"
   ]
  },
  {
   "cell_type": "markdown",
   "id": "e06e0113",
   "metadata": {},
   "source": [
    "🌟 Exercise 8 : Simple Aggregate Funcs\n",
    "Instructions\n",
    "\n",
    "Find the sum and average of a given 1D array.\n",
    "\n",
    "Expected Output:\n",
    "\n",
    "\n",
    "Sum: 45, Average: 4.5\n"
   ]
  },
  {
   "cell_type": "code",
   "execution_count": 14,
   "id": "24cdb097",
   "metadata": {},
   "outputs": [
    {
     "name": "stdout",
     "output_type": "stream",
     "text": [
      "Sum: 45, Average: 4.5\n"
     ]
    }
   ],
   "source": [
    "arr = np.arange(10)\n",
    "total = np.sum(arr)\n",
    "average = np.mean(arr)\n",
    "print(f\"Sum: {total}, Average: {average}\")"
   ]
  },
  {
   "cell_type": "markdown",
   "id": "c11e6dcd",
   "metadata": {},
   "source": [
    "🌟 Exercise 9 : Create Array and Change its Structure\n",
    "Instructions\n",
    "\n",
    "Create a NumPy array with elements from 1 to 20; then reshape it into a 4x5 matrix.\n",
    "\n",
    "Expected Output:\n",
    "\n",
    "\n",
    "array([[ 1,  2,  3,  4,  5],\n",
    "       [ 6,  7,  8,  9, 10],\n",
    "       [11, 12, 13, 14, 15],\n",
    "       [16, 17, 18, 19, 20]])\n"
   ]
  },
  {
   "cell_type": "code",
   "execution_count": 15,
   "id": "883a26e5",
   "metadata": {},
   "outputs": [
    {
     "name": "stdout",
     "output_type": "stream",
     "text": [
      "Reshaped to 4x5:\n",
      " [[ 1  2  3  4  5]\n",
      " [ 6  7  8  9 10]\n",
      " [11 12 13 14 15]\n",
      " [16 17 18 19 20]]\n"
     ]
    }
   ],
   "source": [
    "array = np.arange(1, 21)  \n",
    "\n",
    "reshaped_array = array.reshape(4, 5)\n",
    "print(\"Reshaped to 4x5:\\n\", reshaped_array)\n"
   ]
  },
  {
   "cell_type": "markdown",
   "id": "cc678ca6",
   "metadata": {},
   "source": [
    "\n",
    "🌟 Exercise 10 : Conditional Selection of Values\n",
    "Instructions\n",
    "\n",
    "Extract all odd numbers from a given NumPy array.\n",
    "\n",
    "Expected Output:\n",
    "\n",
    "arr = np.arange(10)\n",
    "odd_numbers = arr[arr % 2 != 0]\n",
    "print(odd_numbers)"
   ]
  },
  {
   "cell_type": "code",
   "execution_count": 16,
   "id": "3fb9bf51",
   "metadata": {},
   "outputs": [
    {
     "name": "stdout",
     "output_type": "stream",
     "text": [
      "[1 3 5 7 9]\n"
     ]
    }
   ],
   "source": [
    "arr = np.arange(10)\n",
    "odd_numbers = arr[arr % 2 != 0]\n",
    "print(odd_numbers)"
   ]
  }
 ],
 "metadata": {
  "kernelspec": {
   "display_name": "Python 3",
   "language": "python",
   "name": "python3"
  },
  "language_info": {
   "codemirror_mode": {
    "name": "ipython",
    "version": 3
   },
   "file_extension": ".py",
   "mimetype": "text/x-python",
   "name": "python",
   "nbconvert_exporter": "python",
   "pygments_lexer": "ipython3",
   "version": "3.11.4"
  }
 },
 "nbformat": 4,
 "nbformat_minor": 5
}
