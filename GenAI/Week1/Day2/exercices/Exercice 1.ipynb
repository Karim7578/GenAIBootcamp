{
 "cells": [
  {
   "cell_type": "code",
   "execution_count": 1,
   "id": "664e4f28",
   "metadata": {},
   "outputs": [],
   "source": [
    "list = [1, 2, 3, 4]"
   ]
  },
  {
   "cell_type": "code",
   "execution_count": 3,
   "id": "eac3d745",
   "metadata": {},
   "outputs": [
    {
     "name": "stdout",
     "output_type": "stream",
     "text": [
      "1\n",
      "2\n",
      "3\n",
      "4\n"
     ]
    }
   ],
   "source": [
    "for i in list:\n",
    "    print(i)"
   ]
  },
  {
   "cell_type": "code",
   "execution_count": 4,
   "id": "843bfb9d",
   "metadata": {},
   "outputs": [
    {
     "name": "stdout",
     "output_type": "stream",
     "text": [
      "20\n",
      "40\n",
      "60\n",
      "80\n"
     ]
    }
   ],
   "source": [
    "for i in list:\n",
    "    print(i*20)"
   ]
  },
  {
   "cell_type": "code",
   "execution_count": 5,
   "id": "9140e9bd",
   "metadata": {},
   "outputs": [],
   "source": [
    "name = [\"Elie\", \"Tim\", \"Matt\"]"
   ]
  },
  {
   "cell_type": "code",
   "execution_count": 9,
   "id": "f5ac284f",
   "metadata": {},
   "outputs": [
    {
     "data": {
      "text/plain": [
       "['E', 'T', 'M']"
      ]
     },
     "execution_count": 9,
     "metadata": {},
     "output_type": "execute_result"
    }
   ],
   "source": [
    "name2 =[i[0] for i in name]\n",
    "name2"
   ]
  },
  {
   "cell_type": "code",
   "execution_count": 10,
   "id": "630acefa",
   "metadata": {},
   "outputs": [],
   "source": [
    "numbers = [1, 2, 3, 4, 5, 6]"
   ]
  },
  {
   "cell_type": "code",
   "execution_count": 17,
   "id": "ce060603",
   "metadata": {},
   "outputs": [
    {
     "data": {
      "text/plain": [
       "[2, 4, 6]"
      ]
     },
     "execution_count": 17,
     "metadata": {},
     "output_type": "execute_result"
    }
   ],
   "source": [
    "list= [i for i in numbers if i % 2 == 0]\n",
    "list"
   ]
  },
  {
   "cell_type": "code",
   "execution_count": 18,
   "id": "c1f356cb",
   "metadata": {},
   "outputs": [],
   "source": [
    "list = [1, 2, 3, 4]"
   ]
  },
  {
   "cell_type": "code",
   "execution_count": 19,
   "id": "e6f0fe4e",
   "metadata": {},
   "outputs": [],
   "source": [
    "list2 = [3, 4, 5, 6]"
   ]
  },
  {
   "cell_type": "code",
   "execution_count": 31,
   "id": "a52c2f4c",
   "metadata": {},
   "outputs": [
    {
     "data": {
      "text/plain": [
       "[3, 4]"
      ]
     },
     "execution_count": 31,
     "metadata": {},
     "output_type": "execute_result"
    }
   ],
   "source": [
    "list3 = [i for i in list if i in list2]\n",
    "list3"
   ]
  },
  {
   "cell_type": "code",
   "execution_count": 41,
   "id": "667f9269",
   "metadata": {},
   "outputs": [
    {
     "data": {
      "text/plain": [
       "['eile', 'mit', 'ttam']"
      ]
     },
     "execution_count": 41,
     "metadata": {},
     "output_type": "execute_result"
    }
   ],
   "source": [
    "name3 = [\"Elie\", \"Tim\", \"Matt\"]\n",
    "\n",
    "nom = [i[::-1].lower() for i in name3]\n",
    "\n",
    "nom\n"
   ]
  },
  {
   "cell_type": "code",
   "execution_count": 43,
   "id": "a0bbed5e",
   "metadata": {},
   "outputs": [
    {
     "data": {
      "text/plain": [
       "['i', 'r', 't']"
      ]
     },
     "execution_count": 43,
     "metadata": {},
     "output_type": "execute_result"
    }
   ],
   "source": [
    "x =\"first\"\n",
    "y = \"third\"\n",
    "list4 = [i for i in x if i in y]\n",
    "list4"
   ]
  },
  {
   "cell_type": "code",
   "execution_count": 45,
   "id": "4d47cb90",
   "metadata": {},
   "outputs": [
    {
     "data": {
      "text/plain": [
       "[12, 24, 36, 48, 60, 72, 84, 96]"
      ]
     },
     "execution_count": 45,
     "metadata": {},
     "output_type": "execute_result"
    }
   ],
   "source": [
    "list = range(1,100)\n",
    "list6= [i for i in list if i % 12 == 0]\n",
    "list6\n"
   ]
  },
  {
   "cell_type": "code",
   "execution_count": null,
   "id": "1d2d5139",
   "metadata": {},
   "outputs": [
    {
     "data": {
      "text/plain": [
       "['m', 'z', 'n', 'g']"
      ]
     },
     "execution_count": 61,
     "metadata": {},
     "output_type": "execute_result"
    }
   ],
   "source": [
    "a =\"amazing\"\n",
    "\n",
    "list = [i for i in a if i not in \"aeoui\"]\n",
    "list"
   ]
  },
  {
   "cell_type": "code",
   "execution_count": 62,
   "id": "1548bc0d",
   "metadata": {},
   "outputs": [
    {
     "data": {
      "text/plain": [
       "[[], [], []]"
      ]
     },
     "execution_count": 62,
     "metadata": {},
     "output_type": "execute_result"
    }
   ],
   "source": [
    "list9 = [[] for i in range(3)]\n",
    "list9"
   ]
  },
  {
   "cell_type": "code",
   "execution_count": 69,
   "id": "80c1ab60",
   "metadata": {},
   "outputs": [
    {
     "data": {
      "text/plain": [
       "[['1,2,3', '1,2,3', '1,2,3', '1,2,3', '1,2,3', '1,2,3'],\n",
       " ['1,2,3', '1,2,3', '1,2,3', '1,2,3', '1,2,3'],\n",
       " ['1,2,3', '1,2,3', '1,2,3', '1,2,3']]"
      ]
     },
     "execution_count": 69,
     "metadata": {},
     "output_type": "execute_result"
    }
   ],
   "source": [
    "list9[0].append(\"1,2,3\")\n",
    "list9[1].append(\"1,2,3\")\n",
    "list9[2].append(\"1,2,3\")\n",
    "\n",
    "list9"
   ]
  },
  {
   "cell_type": "code",
   "execution_count": 71,
   "id": "1a54e593",
   "metadata": {},
   "outputs": [
    {
     "data": {
      "text/plain": [
       "[[0, 1, 2, 3, 4, 5, 6, 7, 8, 9],\n",
       " [0, 1, 2, 3, 4, 5, 6, 7, 8, 9],\n",
       " [0, 1, 2, 3, 4, 5, 6, 7, 8, 9],\n",
       " [0, 1, 2, 3, 4, 5, 6, 7, 8, 9],\n",
       " [0, 1, 2, 3, 4, 5, 6, 7, 8, 9],\n",
       " [0, 1, 2, 3, 4, 5, 6, 7, 8, 9],\n",
       " [0, 1, 2, 3, 4, 5, 6, 7, 8, 9],\n",
       " [0, 1, 2, 3, 4, 5, 6, 7, 8, 9],\n",
       " [0, 1, 2, 3, 4, 5, 6, 7, 8, 9],\n",
       " [0, 1, 2, 3, 4, 5, 6, 7, 8, 9]]"
      ]
     },
     "execution_count": 71,
     "metadata": {},
     "output_type": "execute_result"
    }
   ],
   "source": [
    "grid = [[i for i in range(10)] for _ in range(10)]\n",
    "grid"
   ]
  }
 ],
 "metadata": {
  "kernelspec": {
   "display_name": "Python 3",
   "language": "python",
   "name": "python3"
  },
  "language_info": {
   "codemirror_mode": {
    "name": "ipython",
    "version": 3
   },
   "file_extension": ".py",
   "mimetype": "text/x-python",
   "name": "python",
   "nbconvert_exporter": "python",
   "pygments_lexer": "ipython3",
   "version": "3.11.4"
  }
 },
 "nbformat": 4,
 "nbformat_minor": 5
}
