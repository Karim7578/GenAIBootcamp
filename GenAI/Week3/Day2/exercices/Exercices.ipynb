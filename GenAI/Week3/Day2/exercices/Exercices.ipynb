{
 "cells": [
  {
   "cell_type": "code",
   "execution_count": null,
   "id": "cd6fb860",
   "metadata": {},
   "outputs": [],
   "source": []
  },
  {
   "cell_type": "markdown",
   "id": "507a791f",
   "metadata": {},
   "source": [
    "Exercice 1 \n",
    "\n",
    "\n",
    "    A company’s financial reports stored in an Excel file  : structured data\n",
    "    Photographs uploaded to a social media platform : unstructured data\n",
    "    A collection of news articles on a website : unstructured data\n",
    "    Inventory data in a relational database : structured data\n",
    "    Recorded interviews from a market research study : unstructured data\n"
   ]
  },
  {
   "cell_type": "markdown",
   "id": "74db5221",
   "metadata": {},
   "source": [
    "Exercice 2\n",
    "\n",
    "\n",
    "    A series of blog posts about travel experiences :\n",
    "\n",
    "    To convert this unstructured data to structured, we can create a datasheet where each travel experience is classified in a column A called travel_XP, in a second one the duration and in a third a short resume for example.\n",
    "\n",
    "    Audio recordings of customer service calls.\n",
    "\n",
    "    To convert this unstructured data to structured, we can create a datasheet where each audio record is classified in a column A called Audio_record, in a second one the name of the customer helpdesk employee and in a third a short resume for example.\n",
    "\n",
    "    Handwritten notes from a brainstorming session.\n",
    "\n",
    "    To convert this unstructured data to structured, we can create a datasheet where each idea is classified in a column A called Idea, in a second one the name of the person who gets it and in a third a short resume for example\n",
    "\n",
    "\n",
    "    A video tutorial on cooking.\n",
    "\n",
    "    To convert this unstructured data to structured, we can create a datasheet where each steps of the recipe is classified in a column A called step, in a second one the kitchen tools needed and in a third the ingredients for example.\n"
   ]
  },
  {
   "cell_type": "code",
   "execution_count": null,
   "id": "e70b8940",
   "metadata": {},
   "outputs": [
    {
     "name": "stdout",
     "output_type": "stream",
     "text": [
      "   PassengerId  Survived  Pclass  \\\n",
      "0            1         0       3   \n",
      "1            2         1       1   \n",
      "2            3         1       3   \n",
      "3            4         1       1   \n",
      "4            5         0       3   \n",
      "\n",
      "                                                Name     Sex   Age  SibSp  \\\n",
      "0                            Braund, Mr. Owen Harris    male  22.0      1   \n",
      "1  Cumings, Mrs. John Bradley (Florence Briggs Th...  female  38.0      1   \n",
      "2                             Heikkinen, Miss. Laina  female  26.0      0   \n",
      "3       Futrelle, Mrs. Jacques Heath (Lily May Peel)  female  35.0      1   \n",
      "4                           Allen, Mr. William Henry    male  35.0      0   \n",
      "\n",
      "   Parch            Ticket     Fare Cabin Embarked  \n",
      "0      0         A/5 21171   7.2500   NaN        S  \n",
      "1      0          PC 17599  71.2833   C85        C  \n",
      "2      0  STON/O2. 3101282   7.9250   NaN        S  \n",
      "3      0            113803  53.1000  C123        S  \n",
      "4      0            373450   8.0500   NaN        S  \n",
      "<class 'pandas.core.frame.DataFrame'>\n",
      "RangeIndex: 891 entries, 0 to 890\n",
      "Data columns (total 12 columns):\n",
      " #   Column       Non-Null Count  Dtype  \n",
      "---  ------       --------------  -----  \n",
      " 0   PassengerId  891 non-null    int64  \n",
      " 1   Survived     891 non-null    int64  \n",
      " 2   Pclass       891 non-null    int64  \n",
      " 3   Name         891 non-null    object \n",
      " 4   Sex          891 non-null    object \n",
      " 5   Age          714 non-null    float64\n",
      " 6   SibSp        891 non-null    int64  \n",
      " 7   Parch        891 non-null    int64  \n",
      " 8   Ticket       891 non-null    object \n",
      " 9   Fare         891 non-null    float64\n",
      " 10  Cabin        204 non-null    object \n",
      " 11  Embarked     889 non-null    object \n",
      "dtypes: float64(2), int64(5), object(5)\n",
      "memory usage: 83.7+ KB\n"
     ]
    }
   ],
   "source": [
    "# Exercise 3\n",
    "\n",
    "import pandas as pd\n",
    "\n",
    "df = pd.read_csv('train.csv')\n",
    "print(df.head())\n",
    "df.describe()\n",
    "df.info()"
   ]
  },
  {
   "cell_type": "code",
   "execution_count": null,
   "id": "eed6daf3",
   "metadata": {},
   "outputs": [
    {
     "name": "stdout",
     "output_type": "stream",
     "text": [
      "   5.1  3.5  1.4  0.2  Iris-setosa\n",
      "0  4.9  3.0  1.4  0.2  Iris-setosa\n",
      "1  4.7  3.2  1.3  0.2  Iris-setosa\n",
      "2  4.6  3.1  1.5  0.2  Iris-setosa\n",
      "3  5.0  3.6  1.4  0.2  Iris-setosa\n",
      "4  5.4  3.9  1.7  0.4  Iris-setosa\n"
     ]
    }
   ],
   "source": [
    "#Exercice 4\n",
    "\n",
    "import pandas as pd\n",
    "\n",
    "df = pd.read_csv('Iris_dataset.csv')\n",
    "print(df.head())"
   ]
  },
  {
   "cell_type": "code",
   "execution_count": 6,
   "id": "1e43d1b8",
   "metadata": {},
   "outputs": [
    {
     "name": "stdout",
     "output_type": "stream",
     "text": [
      "    Name     Category      Usage       Type      Style\n",
      "0  Book1      Fiction  Reference  Hardcover     Modern\n",
      "1  Book2  Non-Fiction    Leisure  Paperback    Classic\n",
      "2  Book3      Science      Study     E-book  Technical\n"
     ]
    }
   ],
   "source": [
    "#Exercise 5\n",
    "\n",
    "import pandas as pd\n",
    "\n",
    "User_books = {\n",
    "    \"Name\": [\"Book1\", \"Book2\", \"Book3\"],  \n",
    "    \"Category\": [\"Fiction\", \"Non-Fiction\", \"Science\"],  \n",
    "    \"Usage\": [\"Reference\", \"Leisure\", \"Study\"],  \n",
    "    \"Type\": [\"Hardcover\", \"Paperback\", \"E-book\"],  \n",
    "    \"Style\": [\"Modern\", \"Classic\", \"Technical\"] \n",
    "}\n",
    "\n",
    "# Create DataFrame from dictionary\n",
    "User_books_data = pd.DataFrame(User_books)\n",
    "\n",
    "# Print first few rows\n",
    "print(User_books_data.head())\n",
    "\n",
    "#Export to Excel file\n",
    "User_books_data.to_excel('books.xlsx', sheet_name='New_Books')\n",
    "\n",
    "#Export to JSON\n",
    "\n",
    "User_books_data.to_json('filename.json')"
   ]
  },
  {
   "cell_type": "code",
   "execution_count": null,
   "id": "5d8cce24",
   "metadata": {},
   "outputs": [
    {
     "name": "stdout",
     "output_type": "stream",
     "text": [
      "   userId  id                                              title  \\\n",
      "0       1   1  sunt aut facere repellat provident occaecati e...   \n",
      "1       1   2                                       qui est esse   \n",
      "2       1   3  ea molestias quasi exercitationem repellat qui...   \n",
      "3       1   4                               eum et est occaecati   \n",
      "4       1   5                                 nesciunt quas odio   \n",
      "\n",
      "                                                body  \n",
      "0  quia et suscipit\\nsuscipit recusandae consequu...  \n",
      "1  est rerum tempore vitae\\nsequi sint nihil repr...  \n",
      "2  et iusto sed quo iure\\nvoluptatem occaecati om...  \n",
      "3  ullam et saepe reiciendis voluptatem adipisci\\...  \n",
      "4  repudiandae veniam quaerat sunt sed\\nalias aut...  \n"
     ]
    }
   ],
   "source": [
    "# Exercise 6\n",
    "\n",
    "import pandas as pd\n",
    "\n",
    "df = pd.read_json('posts.json')\n",
    "print(df.head())"
   ]
  }
 ],
 "metadata": {
  "kernelspec": {
   "display_name": "Python 3",
   "language": "python",
   "name": "python3"
  },
  "language_info": {
   "codemirror_mode": {
    "name": "ipython",
    "version": 3
   },
   "file_extension": ".py",
   "mimetype": "text/x-python",
   "name": "python",
   "nbconvert_exporter": "python",
   "pygments_lexer": "ipython3",
   "version": "3.11.4"
  }
 },
 "nbformat": 4,
 "nbformat_minor": 5
}
