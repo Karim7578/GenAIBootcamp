{
 "cells": [
  {
   "cell_type": "code",
   "execution_count": 1,
   "id": "869176a1",
   "metadata": {},
   "outputs": [
    {
     "name": "stdout",
     "output_type": "stream",
     "text": [
      "    Name     Category      Usage       Type      Style\n",
      "0  Book1      Fiction  Reference  Hardcover     Modern\n",
      "1  Book2  Non-Fiction    Leisure  Paperback    Classic\n",
      "2  Book3      Science      Study     E-book  Technical\n"
     ]
    }
   ],
   "source": [
    "import pandas as pd\n",
    "\n",
    "User_books = {\n",
    "    \"Name\": [\"Book1\", \"Book2\", \"Book3\"],  \n",
    "    \"Category\": [\"Fiction\", \"Non-Fiction\", \"Science\"],  \n",
    "    \"Usage\": [\"Reference\", \"Leisure\", \"Study\"],  \n",
    "    \"Type\": [\"Hardcover\", \"Paperback\", \"E-book\"],  \n",
    "    \"Style\": [\"Modern\", \"Classic\", \"Technical\"] \n",
    "}\n",
    "\n",
    "# Create DataFrame from dictionary\n",
    "User_books_data = pd.DataFrame(User_books)\n",
    "\n",
    "# Print first few rows\n",
    "print(User_books_data.head())\n",
    "\n",
    "# Save to Excel file\n",
    "User_books_data.to_excel('books.xlsx', sheet_name='Books', index=False)"
   ]
  },
  {
   "cell_type": "code",
   "execution_count": 3,
   "id": "6a3ca735",
   "metadata": {},
   "outputs": [],
   "source": [
    "User_books_data.to_csv('books.csv', index=False)"
   ]
  },
  {
   "cell_type": "code",
   "execution_count": 4,
   "id": "a98af478",
   "metadata": {},
   "outputs": [
    {
     "name": "stdout",
     "output_type": "stream",
     "text": [
      "Collecting faker\n",
      "  Downloading faker-37.4.0-py3-none-any.whl (1.9 MB)\n",
      "                                              0.0/1.9 MB ? eta -:--:--\n",
      "     ------------                             0.6/1.9 MB 12.2 MB/s eta 0:00:01\n",
      "     ------------------------                 1.2/1.9 MB 12.4 MB/s eta 0:00:01\n",
      "     -----------------------------------      1.7/1.9 MB 12.1 MB/s eta 0:00:01\n",
      "     ---------------------------------------  1.9/1.9 MB 11.2 MB/s eta 0:00:01\n",
      "     ---------------------------------------- 1.9/1.9 MB 10.3 MB/s eta 0:00:00\n",
      "Requirement already satisfied: tzdata in c:\\users\\zbook\\appdata\\local\\programs\\python\\python311\\lib\\site-packages (from faker) (2025.2)\n",
      "Installing collected packages: faker\n",
      "Successfully installed faker-37.4.0\n",
      "Note: you may need to restart the kernel to use updated packages.\n"
     ]
    },
    {
     "name": "stderr",
     "output_type": "stream",
     "text": [
      "  WARNING: The script faker.exe is installed in 'c:\\Users\\Zbook\\AppData\\Local\\Programs\\Python\\Python311\\Scripts' which is not on PATH.\n",
      "  Consider adding this directory to PATH or, if you prefer to suppress this warning, use --no-warn-script-location.\n",
      "\n",
      "[notice] A new release of pip is available: 23.1.2 -> 25.1.1\n",
      "[notice] To update, run: python.exe -m pip install --upgrade pip\n"
     ]
    }
   ],
   "source": [
    "pip install faker"
   ]
  },
  {
   "cell_type": "code",
   "execution_count": 5,
   "id": "0ab4c166",
   "metadata": {},
   "outputs": [
    {
     "name": "stdout",
     "output_type": "stream",
     "text": [
      "Requirement already satisfied: numpy in c:\\users\\zbook\\appdata\\local\\programs\\python\\python311\\lib\\site-packages (2.3.0)\n",
      "Note: you may need to restart the kernel to use updated packages.\n"
     ]
    },
    {
     "name": "stderr",
     "output_type": "stream",
     "text": [
      "\n",
      "[notice] A new release of pip is available: 23.1.2 -> 25.1.1\n",
      "[notice] To update, run: python.exe -m pip install --upgrade pip\n"
     ]
    }
   ],
   "source": [
    "pip install numpy"
   ]
  },
  {
   "cell_type": "code",
   "execution_count": 12,
   "id": "e25337d3",
   "metadata": {},
   "outputs": [],
   "source": [
    "#  Product Name, Sale Amount, Date of Sale, and Customer Age.\n"
   ]
  },
  {
   "cell_type": "code",
   "execution_count": 10,
   "id": "33a9ee1e",
   "metadata": {},
   "outputs": [],
   "source": [
    "Customer_type = {\n",
    "    \"Product_Name\": [\"Product_Name\"],  \n",
    "    \"Sale_Amount\": [\"Sale_Amount1\"],  \n",
    "    \"Date_of_Sale\": [\"Date_of_Sale\"],   \n",
    "    \"Customer_Age\": [\"Customer_Age\"] \n",
    "}"
   ]
  },
  {
   "cell_type": "code",
   "execution_count": 11,
   "id": "c30b5dfc",
   "metadata": {},
   "outputs": [
    {
     "name": "stdout",
     "output_type": "stream",
     "text": [
      "  Product  Sale Amount        Date  Customer Age\n",
      "0    past          182  2025-02-17            51\n",
      "1   spend          341  2025-06-16            46\n",
      "2      so          416  2025-03-15            63\n",
      "3    song          499  2025-04-11            47\n",
      "4   final          441  2025-03-18            30\n"
     ]
    }
   ],
   "source": [
    "import numpy as np\n",
    "from faker import Faker\n",
    "import pandas as pd\n",
    "\n",
    "fake = Faker()\n",
    "\n",
    "# Generating synthetic sales data\n",
    "sales_data = [(fake.word(), np.random.randint(10, 500), fake.date_this_year(), np.random.randint(18, 70)) for _ in range(500)]\n",
    "sales_df = pd.DataFrame(sales_data, columns=['Product', 'Sale Amount', 'Date', 'Customer Age'])\n",
    "\n",
    "# Display the first few rows of the DataFrame\n",
    "print(sales_df.head())"
   ]
  }
 ],
 "metadata": {
  "kernelspec": {
   "display_name": "Python 3",
   "language": "python",
   "name": "python3"
  },
  "language_info": {
   "codemirror_mode": {
    "name": "ipython",
    "version": 3
   },
   "file_extension": ".py",
   "mimetype": "text/x-python",
   "name": "python",
   "nbconvert_exporter": "python",
   "pygments_lexer": "ipython3",
   "version": "3.11.4"
  }
 },
 "nbformat": 4,
 "nbformat_minor": 5
}
