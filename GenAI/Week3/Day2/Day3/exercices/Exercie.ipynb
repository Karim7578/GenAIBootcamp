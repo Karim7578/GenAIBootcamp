{
 "cells": [
  {
   "cell_type": "markdown",
   "id": "f2b34174",
   "metadata": {},
   "source": [
    "Exercice 1 : Supprimer les doublons"
   ]
  },
  {
   "cell_type": "code",
   "execution_count": 1,
   "id": "74124f4c",
   "metadata": {},
   "outputs": [
    {
     "name": "stdout",
     "output_type": "stream",
     "text": [
      "Nombre de doublons avant : 0\n",
      "Nombre de doublons après : 0\n"
     ]
    }
   ],
   "source": [
    "import pandas as pd\n",
    "\n",
    "# Charger les données\n",
    "df = pd.read_csv('train.csv')\n",
    "\n",
    "# Vérifier les doublons\n",
    "print(\"Nombre de doublons avant :\", df.duplicated().sum())\n",
    "\n",
    "# Supprimer les doublons\n",
    "df = df.drop_duplicates()\n",
    "\n",
    "# Vérifier après suppression\n",
    "print(\"Nombre de doublons après :\", df.duplicated().sum())"
   ]
  },
  {
   "cell_type": "markdown",
   "id": "cc854065",
   "metadata": {},
   "source": [
    "Exercice 2 : Gérer les valeurs manquantes"
   ]
  },
  {
   "cell_type": "code",
   "execution_count": 2,
   "id": "89145091",
   "metadata": {},
   "outputs": [
    {
     "name": "stdout",
     "output_type": "stream",
     "text": [
      "Valeurs manquantes par colonne :\n",
      "PassengerId      0\n",
      "Survived         0\n",
      "Pclass           0\n",
      "Name             0\n",
      "Sex              0\n",
      "Age            177\n",
      "SibSp            0\n",
      "Parch            0\n",
      "Ticket           0\n",
      "Fare             0\n",
      "Cabin          687\n",
      "Embarked         2\n",
      "dtype: int64\n",
      "\n",
      "Après remplacement :\n",
      "PassengerId    0\n",
      "Survived       0\n",
      "Pclass         0\n",
      "Name           0\n",
      "Sex            0\n",
      "Age            0\n",
      "SibSp          0\n",
      "Parch          0\n",
      "Ticket         0\n",
      "Fare           0\n",
      "Cabin          0\n",
      "Embarked       0\n",
      "dtype: int64\n"
     ]
    }
   ],
   "source": [
    "# Voir les valeurs manquantes\n",
    "print(\"Valeurs manquantes par colonne :\")\n",
    "print(df.isnull().sum())\n",
    "\n",
    "# Remplacer simplement :\n",
    "df['Age'] = df['Age'].fillna(df['Age'].median())  # Âge médian\n",
    "df['Embarked'] = df['Embarked'].fillna('S')       # 'S' est le plus fréquent\n",
    "df['Cabin'] = df['Cabin'].fillna('Inconnu')      # Texte pour les cabines\n",
    "\n",
    "# Vérifier après remplacement\n",
    "print(\"\\nAprès remplacement :\")\n",
    "print(df.isnull().sum())"
   ]
  },
  {
   "cell_type": "markdown",
   "id": "dc0dcf6b",
   "metadata": {},
   "source": [
    "Exercice 3 : Créer de nouvelles colonnes"
   ]
  },
  {
   "cell_type": "code",
   "execution_count": 4,
   "id": "248b91b7",
   "metadata": {},
   "outputs": [
    {
     "name": "stdout",
     "output_type": "stream",
     "text": [
      "\n",
      "Nouvelles colonnes :\n",
      "   FamilySize Title\n",
      "0           2    Mr\n",
      "1           2   Mrs\n",
      "2           1  Miss\n",
      "3           2   Mrs\n",
      "4           1    Mr\n"
     ]
    }
   ],
   "source": [
    "\n",
    "\n",
    "# Taille de la famille (parents + enfants + soi-même)\n",
    "df['FamilySize'] = df['SibSp'] + df['Parch'] + 1\n",
    "\n",
    "# Extraire le titre (Mr, Mrs, etc.) depuis le nom\n",
    "df['Title'] = df['Name'].str.extract(' ([A-Za-z]+)\\.', expand=False)\n",
    "\n",
    "# Simplifier les titres\n",
    "df['Title'] = df['Title'].replace(['Mlle', 'Ms'], 'Miss')\n",
    "df['Title'] = df['Title'].replace('Mme', 'Mrs')\n",
    "\n",
    "print(\"\\nNouvelles colonnes :\")\n",
    "print(df[['FamilySize', 'Title']].head())"
   ]
  },
  {
   "cell_type": "markdown",
   "id": "1dbdf2f4",
   "metadata": {},
   "source": [
    "Exercice 4 : Gérer les valeurs extrêmes"
   ]
  },
  {
   "cell_type": "code",
   "execution_count": 5,
   "id": "6ca8f1bc",
   "metadata": {},
   "outputs": [
    {
     "name": "stdout",
     "output_type": "stream",
     "text": [
      "\n",
      "Âges après filtrage :\n",
      "count    825.000000\n",
      "mean      28.515152\n",
      "std       10.177256\n",
      "min        3.000000\n",
      "25%       22.000000\n",
      "50%       28.000000\n",
      "75%       34.000000\n",
      "max       54.000000\n",
      "Name: Age, dtype: float64\n"
     ]
    }
   ],
   "source": [
    "# Calculer les limites pour l'âge\n",
    "Q1 = df['Age'].quantile(0.25)\n",
    "Q3 = df['Age'].quantile(0.75)\n",
    "IQR = Q3 - Q1\n",
    "limite_basse = Q1 - 1.5 * IQR\n",
    "limite_haute = Q3 + 1.5 * IQR\n",
    "\n",
    "# Filtrer les âges extrêmes\n",
    "df = df[(df['Age'] >= limite_basse) & (df['Age'] <= limite_haute)]\n",
    "\n",
    "print(\"\\nÂges après filtrage :\")\n",
    "print(df['Age'].describe())"
   ]
  },
  {
   "cell_type": "markdown",
   "id": "0b92648c",
   "metadata": {},
   "source": [
    "Exercice 5 : Normaliser les données"
   ]
  },
  {
   "cell_type": "code",
   "execution_count": 6,
   "id": "0e283c7c",
   "metadata": {},
   "outputs": [
    {
     "name": "stdout",
     "output_type": "stream",
     "text": [
      "\n",
      "Âge normalisé :\n",
      "    Age  Age_normalized\n",
      "0  22.0        0.372549\n",
      "1  38.0        0.686275\n",
      "2  26.0        0.450980\n",
      "3  35.0        0.627451\n",
      "4  35.0        0.627451\n"
     ]
    }
   ],
   "source": [
    "\n",
    "from sklearn.preprocessing import MinMaxScaler\n",
    "\n",
    "# Normaliser l'âge entre 0 et 1\n",
    "scaler = MinMaxScaler()\n",
    "df['Age_normalized'] = scaler.fit_transform(df[['Age']])\n",
    "\n",
    "print(\"\\nÂge normalisé :\")\n",
    "print(df[['Age', 'Age_normalized']].head())"
   ]
  },
  {
   "cell_type": "markdown",
   "id": "067d19b5",
   "metadata": {},
   "source": [
    "Exercice 6 : Encoder les catégories"
   ]
  },
  {
   "cell_type": "code",
   "execution_count": 8,
   "id": "ee180eb7",
   "metadata": {},
   "outputs": [
    {
     "name": "stdout",
     "output_type": "stream",
     "text": [
      "\n",
      "Colonnes encodées :\n",
      "   Sex  Embarked\n",
      "0  NaN       NaN\n",
      "1  NaN       NaN\n",
      "2  NaN       NaN\n",
      "3  NaN       NaN\n",
      "4  NaN       NaN\n"
     ]
    }
   ],
   "source": [
    "# Convertir le sexe en 0/1\n",
    "df['Sex'] = df['Sex'].map({'female': 0, 'male': 1})\n",
    "\n",
    "# Encoder les ports d'embarquement (S=0, C=1, Q=2)\n",
    "df['Embarked'] = df['Embarked'].map({'S': 0, 'C': 1, 'Q': 2})\n",
    "\n",
    "print(\"\\nColonnes encodées :\")\n",
    "print(df[['Sex', 'Embarked']].head())"
   ]
  },
  {
   "cell_type": "markdown",
   "id": "e8992e13",
   "metadata": {},
   "source": [
    "Exercice 7 : Grouper les âges"
   ]
  },
  {
   "cell_type": "code",
   "execution_count": 9,
   "id": "1d14bd61",
   "metadata": {},
   "outputs": [
    {
     "name": "stdout",
     "output_type": "stream",
     "text": [
      "\n",
      "Répartition par âge :\n",
      "AgeGroup\n",
      "Jeune Adulte    447\n",
      "Adulte          241\n",
      "Jeune           115\n",
      "Senior           22\n",
      "Name: count, dtype: int64\n"
     ]
    }
   ],
   "source": [
    "# Créer des groupes d'âge\n",
    "bins = [0, 18, 30, 50, 100]\n",
    "labels = ['Jeune', 'Jeune Adulte', 'Adulte', 'Senior']\n",
    "df['AgeGroup'] = pd.cut(df['Age'], bins=bins, labels=labels)\n",
    "\n",
    "# Afficher la répartition\n",
    "print(\"\\nRépartition par âge :\")\n",
    "print(df['AgeGroup'].value_counts())\n",
    "\n"
   ]
  },
  {
   "cell_type": "markdown",
   "id": "4fab9b77",
   "metadata": {},
   "source": [
    "Résultat Final"
   ]
  },
  {
   "cell_type": "code",
   "execution_count": 10,
   "id": "5c3d9d69",
   "metadata": {},
   "outputs": [
    {
     "name": "stdout",
     "output_type": "stream",
     "text": [
      "\n",
      "DataFrame final :\n",
      "   PassengerId  Survived  Pclass  \\\n",
      "0            1         0       3   \n",
      "1            2         1       1   \n",
      "2            3         1       3   \n",
      "3            4         1       1   \n",
      "4            5         0       3   \n",
      "\n",
      "                                                Name  Sex   Age  SibSp  Parch  \\\n",
      "0                            Braund, Mr. Owen Harris  NaN  22.0      1      0   \n",
      "1  Cumings, Mrs. John Bradley (Florence Briggs Th...  NaN  38.0      1      0   \n",
      "2                             Heikkinen, Miss. Laina  NaN  26.0      0      0   \n",
      "3       Futrelle, Mrs. Jacques Heath (Lily May Peel)  NaN  35.0      1      0   \n",
      "4                           Allen, Mr. William Henry  NaN  35.0      0      0   \n",
      "\n",
      "             Ticket     Fare    Cabin  Embarked  FamilySize Title  \\\n",
      "0         A/5 21171   7.2500  Inconnu       NaN           2    Mr   \n",
      "1          PC 17599  71.2833      C85       NaN           2   Mrs   \n",
      "2  STON/O2. 3101282   7.9250  Inconnu       NaN           1  Miss   \n",
      "3            113803  53.1000     C123       NaN           2   Mrs   \n",
      "4            373450   8.0500  Inconnu       NaN           1    Mr   \n",
      "\n",
      "   Age_normalized      AgeGroup  \n",
      "0        0.372549  Jeune Adulte  \n",
      "1        0.686275        Adulte  \n",
      "2        0.450980  Jeune Adulte  \n",
      "3        0.627451        Adulte  \n",
      "4        0.627451        Adulte  \n"
     ]
    }
   ],
   "source": [
    "\n",
    "\n",
    "print(\"\\nDataFrame final :\")\n",
    "print(df.head())"
   ]
  }
 ],
 "metadata": {
  "kernelspec": {
   "display_name": "Python 3",
   "language": "python",
   "name": "python3"
  },
  "language_info": {
   "codemirror_mode": {
    "name": "ipython",
    "version": 3
   },
   "file_extension": ".py",
   "mimetype": "text/x-python",
   "name": "python",
   "nbconvert_exporter": "python",
   "pygments_lexer": "ipython3",
   "version": "3.11.4"
  }
 },
 "nbformat": 4,
 "nbformat_minor": 5
}
