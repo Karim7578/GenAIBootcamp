{
  "cells": [
    {
      "cell_type": "markdown",
      "id": "9a528de0",
      "metadata": {},
      "source": [
        " How Much Sleep Do Americans Really Get?\n",
        "\n",
        "    Load the dataset into Jupyter or Google Colab.\n",
        "    Display the first few rows.\n",
        "    Provide a brief dataset description.\n"
      ]
    },
    {
      "cell_type": "code",
      "execution_count": null,
      "id": "0a52857b",
      "metadata": {
        "id": "0a52857b",
        "outputId": "562d7925-8fc6-4422-e534-e2cfe8daee52"
      },
      "outputs": [],
      "source": [
        "import pandas as pd\n",
        "\n",
        "df = pd.read_csv(r'data_center\\Time Americans Spend Sleeping.csv')\n",
        "print(df.head())\n",
        "df.describe()\n",
        "df.info()"
      ]
    },
    {
      "cell_type": "markdown",
      "id": "b1247c2f",
      "metadata": {},
      "source": [
        "Global Trends in Mental Health Disorder.\n",
        "\n",
        "    Load the dataset into Jupyter or Google Colab.\n",
        "    Display the first few rows.\n",
        "    Provide a brief dataset description."
      ]
    },
    {
      "cell_type": "code",
      "execution_count": null,
      "id": "7df3a9c0",
      "metadata": {
        "id": "7df3a9c0",
        "outputId": "4ead8acf-bed6-49be-ba86-0919b3a11b1d"
      },
      "outputs": [
        {
          "name": "stdout",
          "output_type": "stream",
          "text": [
            "   index       Entity Code  Year Schizophrenia (%) Bipolar disorder (%)  \\\n",
            "0      0  Afghanistan  AFG  1990           0.16056             0.697779   \n",
            "1      1  Afghanistan  AFG  1991          0.160312             0.697961   \n",
            "2      2  Afghanistan  AFG  1992          0.160135             0.698107   \n",
            "3      3  Afghanistan  AFG  1993          0.160037             0.698257   \n",
            "4      4  Afghanistan  AFG  1994          0.160022             0.698469   \n",
            "\n",
            "  Eating disorders (%)  Anxiety disorders (%)  Drug use disorders (%)  \\\n",
            "0             0.101855               4.828830                1.677082   \n",
            "1             0.099313               4.829740                1.684746   \n",
            "2             0.096692               4.831108                1.694334   \n",
            "3             0.094336               4.830864                1.705320   \n",
            "4             0.092439               4.829423                1.716069   \n",
            "\n",
            "   Depression (%)  Alcohol use disorders (%)  \n",
            "0        4.071831                   0.672404  \n",
            "1        4.079531                   0.671768  \n",
            "2        4.088358                   0.670644  \n",
            "3        4.096190                   0.669738  \n",
            "4        4.099582                   0.669260  \n",
            "<class 'pandas.core.frame.DataFrame'>\n",
            "RangeIndex: 108553 entries, 0 to 108552\n",
            "Data columns (total 11 columns):\n",
            " #   Column                     Non-Null Count   Dtype  \n",
            "---  ------                     --------------   -----  \n",
            " 0   index                      108553 non-null  int64  \n",
            " 1   Entity                     108553 non-null  object \n",
            " 2   Code                       103141 non-null  object \n",
            " 3   Year                       108553 non-null  object \n",
            " 4   Schizophrenia (%)          25875 non-null   object \n",
            " 5   Bipolar disorder (%)       19406 non-null   object \n",
            " 6   Eating disorders (%)       100236 non-null  object \n",
            " 7   Anxiety disorders (%)      6468 non-null    float64\n",
            " 8   Drug use disorders (%)     6468 non-null    float64\n",
            " 9   Depression (%)             6468 non-null    float64\n",
            " 10  Alcohol use disorders (%)  6468 non-null    float64\n",
            "dtypes: float64(4), int64(1), object(6)\n",
            "memory usage: 9.1+ MB\n"
          ]
        },
        {
          "name": "stderr",
          "output_type": "stream",
          "text": [
            "C:\\Users\\Zbook\\AppData\\Local\\Temp\\ipykernel_24712\\3410809093.py:1: DtypeWarning: Columns (5,6) have mixed types. Specify dtype option on import or set low_memory=False.\n",
            "  df = pd.read_csv('Mental health Depression disorder Data.csv')\n"
          ]
        }
      ],
      "source": [
        "df = pd.read_csv('Mental health Depression disorder Data.csv')\n",
        "print(df.head())\n",
        "df.describe()\n",
        "df.info()"
      ]
    },
    {
      "cell_type": "markdown",
      "id": "697c3a96",
      "metadata": {},
      "source": [
        "How Much Sleep Do Americans Really Get?, Global Trends in Mental Health Disorder and Credit Card Approvals.\n",
        "\n",
        "    Load the dataset into Jupyter or Google Colab.\n",
        "    Display the first few rows.\n",
        "    Provide a brief dataset description."
      ]
    },
    {
      "cell_type": "code",
      "execution_count": null,
      "id": "fdef4e19",
      "metadata": {
        "id": "fdef4e19",
        "outputId": "5a4c840c-d8ac-4908-aad9-5aa7f9142dfd"
      },
      "outputs": [
        {
          "name": "stdout",
          "output_type": "stream",
          "text": [
            "   Gender    Age   Debt  Married  BankCustomer     Industry Ethnicity  \\\n",
            "0       1  30.83  0.000        1             1  Industrials     White   \n",
            "1       0  58.67  4.460        1             1    Materials     Black   \n",
            "2       0  24.50  0.500        1             1    Materials     Black   \n",
            "3       1  27.83  1.540        1             1  Industrials     White   \n",
            "4       1  20.17  5.625        1             1  Industrials     White   \n",
            "\n",
            "   YearsEmployed  PriorDefault  Employed  CreditScore  DriversLicense  \\\n",
            "0           1.25             1         1            1               0   \n",
            "1           3.04             1         1            6               0   \n",
            "2           1.50             1         0            0               0   \n",
            "3           3.75             1         1            5               1   \n",
            "4           1.71             1         0            0               0   \n",
            "\n",
            "        Citizen  ZipCode  Income  Approved  \n",
            "0       ByBirth      202       0         1  \n",
            "1       ByBirth       43     560         1  \n",
            "2       ByBirth      280     824         1  \n",
            "3       ByBirth      100       3         1  \n",
            "4  ByOtherMeans      120       0         1  \n",
            "<class 'pandas.core.frame.DataFrame'>\n",
            "RangeIndex: 690 entries, 0 to 689\n",
            "Data columns (total 16 columns):\n",
            " #   Column          Non-Null Count  Dtype  \n",
            "---  ------          --------------  -----  \n",
            " 0   Gender          690 non-null    int64  \n",
            " 1   Age             690 non-null    float64\n",
            " 2   Debt            690 non-null    float64\n",
            " 3   Married         690 non-null    int64  \n",
            " 4   BankCustomer    690 non-null    int64  \n",
            " 5   Industry        690 non-null    object \n",
            " 6   Ethnicity       690 non-null    object \n",
            " 7   YearsEmployed   690 non-null    float64\n",
            " 8   PriorDefault    690 non-null    int64  \n",
            " 9   Employed        690 non-null    int64  \n",
            " 10  CreditScore     690 non-null    int64  \n",
            " 11  DriversLicense  690 non-null    int64  \n",
            " 12  Citizen         690 non-null    object \n",
            " 13  ZipCode         690 non-null    int64  \n",
            " 14  Income          690 non-null    int64  \n",
            " 15  Approved        690 non-null    int64  \n",
            "dtypes: float64(3), int64(10), object(3)\n",
            "memory usage: 86.4+ KB\n"
          ]
        }
      ],
      "source": [
        "df = pd.read_csv(r'C:\\Users\\Zbook\\Desktop\\GenAI\\Fichier de travail\\clean_dataset.csv')\n",
        "print(df.head())\n",
        "df.describe()\n",
        "df.info()"
      ]
    },
    {
      "cell_type": "markdown",
      "id": "435925b1",
      "metadata": {},
      "source": [
        "Exercice 3 \n",
        "\n",
        "Data columns (total 9 columns):\t \n",
        " #   Column                    Non-Null Count  Dtype  \t \n",
        "---  ------                    --------------  -----  \t \n",
        " 0   index                     945 non-null    int64  \tquantitative\n",
        " 1   Year                      945 non-null    int64  \tquantitative\n",
        " 2   Period                    945 non-null    object \tqualitative\n",
        " 3   Avg hrs per day sleeping  945 non-null    float64\tquantitative\n",
        " 4   Standard Error            945 non-null    float64\tquantitative\n",
        " 5   Type of Days              945 non-null    object \tqualitative\n",
        " 6   Age Group                 945 non-null    object \tqualitative\n",
        " 7   Activity                  945 non-null    object \tqualitative\n",
        " 8   Sex                       945 non-null    object \tqualitative\n",
        "dtypes: float64(2), int64(2), object(5)\t \n",
        "memory usage: 66.6+ KB\t \n",
        "\t\n",
        "#   Column                     Non-Null Count   Dtype  \t \n",
        "---  ------                     --------------   -----  \t \n",
        " 0   index                      108553 non-null  int64  \tquantitative\n",
        " 1   Entity                     108553 non-null  object \tqualitative\n",
        " 2   Code                       103141 non-null  object \tqualitative\n",
        " 3   Year                       108553 non-null  object \tqualitative\n",
        " 4   Schizophrenia (%)          25875 non-null   object \tqualitative\n",
        " 5   Bipolar disorder (%)       19406 non-null   object \tqualitative\n",
        " 6   Eating disorders (%)       100236 non-null  object \tqualitative\n",
        " 7   Anxiety disorders (%)      6468 non-null    float64\tquantitative\n",
        " 8   Drug use disorders (%)     6468 non-null    float64\tquantitative\n",
        " 9   Depression (%)             6468 non-null    float64\tquantitative\n",
        " 10  Alcohol use disorders (%)  6468 non-null    float64\tquantitative\n",
        "\t\n",
        "\t\n",
        "Data columns (total 16 columns):\t \n",
        "Data columns (total 16 columns):\t \n",
        " #   Column          Non-Null Count  Dtype  \t \n",
        "---  ------          --------------  -----  \t \n",
        " 0   Gender          690 non-null    int64  \tquantitative\n",
        " 1   Age             690 non-null    float64\tquantitative\n",
        " 2   Debt            690 non-null    float64\tquantitative\n",
        " 3   Married         690 non-null    int64  \tquantitative\n",
        " 4   BankCustomer    690 non-null    int64  \tquantitative\n",
        " 5   Industry        690 non-null    object \tqualitative\n",
        " 6   Ethnicity       690 non-null    object \tqualitative\n",
        " 7   YearsEmployed   690 non-null    float64\tquantitative\n",
        " 8   PriorDefault    690 non-null    int64  \tquantitative\n",
        " 9   Employed        690 non-null    int64  \tquantitative\n",
        " 10  CreditScore     690 non-null    int64  \tquantitative\n",
        " 11  DriversLicense  690 non-null    int64  \tquantitative\n",
        " 12  Citizen         690 non-null    object \tqualitative\n",
        " 13  ZipCode         690 non-null    int64  \tquantitative\n",
        " 14  Income          690 non-null    int64  \tquantitative\n",
        " 15  Approved        690 non-null    int64  \tquantitative\n"
      ]
    }
  ],
  "metadata": {
    "colab": {
      "gpuType": "T4",
      "provenance": []
    },
    "kernelspec": {
      "display_name": "Python 3",
      "name": "python3"
    },
    "language_info": {
      "codemirror_mode": {
        "name": "ipython",
        "version": 3
      },
      "file_extension": ".py",
      "mimetype": "text/x-python",
      "name": "python",
      "nbconvert_exporter": "python",
      "pygments_lexer": "ipython3",
      "version": "3.11.4"
    }
  },
  "nbformat": 4,
  "nbformat_minor": 5
}
