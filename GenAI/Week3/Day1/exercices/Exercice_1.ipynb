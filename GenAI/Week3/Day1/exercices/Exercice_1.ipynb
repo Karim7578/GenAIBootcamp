{
  "nbformat": 4,
  "nbformat_minor": 0,
  "metadata": {
    "colab": {
      "provenance": []
    },
    "kernelspec": {
      "name": "python3",
      "display_name": "Python 3"
    },
    "language_info": {
      "name": "python"
    }
  },
  "cells": [
    {
      "cell_type": "code",
      "execution_count": null,
      "metadata": {
        "id": "1n7OuxHlSxjS"
      },
      "outputs": [],
      "source": [
        "Il s’agit de l’analyse de données fournis idéalement par une source fiable. Cette analyse permet d’analyser un marché, de définir les besoins consommateurs, de faire des prévisions et d’évaluer la viabilité d’un produit ou d’un marché par exemple.\n",
        "\n",
        "L’analyse de données est un outil de prise de décision et d’analyse de marché.\n",
        "C’est utilisé en politique, par exemple les sondages. Cela permet à un candidat de connaître sa position lors d’une élection.\n",
        "C’est utilisé dans le domaine de l’industrie, pour analyser les futurs besoins des consommateurs et ses habitudes de consommation, l’évolution de certain marché cible et le cycle de vie des produits.\n",
        "C’est aussi utilisé dans la finance afin de prédire l’évolution du marché et des actions.\n",
        "\n",
        "Voici des cas concrets d'utilisation  des données pour développer des nouveaux concepts.\n",
        "\n",
        "Computer vision\n",
        "De nombreux industriels utilisent la vision par ordinateur pour détecter des problèmes de qualité ou de sécurité (comme des accidents du travail). Mais cette forme d’IA, pour être efficace, doit bien souvent être en temps réel, souligne Jennifer Cooke.\n",
        "Les responsables de la chaîne d’approvisionnement ont en effet besoin d’informations quasi instantanément sur les problèmes. Le edge – et l’IA embarquée – permet ce temps réel grâce à sa rapidité de traitement des données.\n",
        "2. Robots et véhicules autonomes\n",
        "La robotique nécessite également un traitement presque temps réel des informations et des données, ce qui fait de l’informatique en périphérie un outil particulièrement adapté à ces cas d’usage.\n",
        "Les robots et les véhicules autonomes doivent en effet réagir à leur environnement. La latence doit être aussi limitée que possible. L’analyse des données des robots et des véhicules doit donc se faire à proximité des appareils, voire dans les appareils, rappelle Shubho Ghosh.\n",
        "En outre, le edge permet à ces appareils de continuer à fonctionner même si l’accès à l’internet est soudainement interrompu, ce qui est évidemment ce que souhaitent les industriels, ajoute Joseph Fitzgerald.\n",
        "3. Maintenance prédictive\n",
        "« De nombreux fabricants d’équipements industriels intègrent désormais des capteurs dans leurs machines [pour la maintenance prédictive] et mettent en place des plates-formes logicielles pour agréger les données qui proviennent non seulement d’un site particulier, mais aussi de tous les sites dans le monde entier », constate Jennifer Cooke.\n",
        "L’analyse de ces données est effectuée dans le cloud (ou à distance), mais l’informatique en périphérie peut également traiter une petite partie de ces données, souligne-t-elle. « Et il est souvent moins cher de le faire en edge ».\n",
        "« Moins cher » parce que le système traite moins de données. Par exemple, un utilisateur peut regarder la moyenne des relevés d’un appareil sur une période et utiliser les capacités du edge pour traiter ces données au lieu d’envoyer tous les relevés de tous ses capteurs dans un cloud.\n",
        "4. Processus flexibles et réactifs\n",
        "Parce qu’il est rapide, le edge computing peut rendre les processus plus souples.\n",
        "L’informatique en périphérie permet ainsi de modifier rapidement les processus pour répondre à des situations changeantes, avance Jospeh Fitzgerald. Par exemple, pour identifier un problème avec un dispositif d’étalonnage et procéder à des ajustements immédiats.\n",
        "Ces ajustements, plus rapides, permettent par ailleurs d’économiser de l’argent et d’améliorer l’efficacité.\n",
        "5. Sécurité renforcée\n",
        "La particularité que possède le edge computing à fonctionner sans accès à internet est indispensable pour certains secteurs industriels qui ont besoin d’un très haut niveau de sécurité.\n",
        "C’est par exemple le cas du domaine aérospatial et celui de la défense qui ont recours à des appareils sans connexion vers l’extérieur, en raison de la nature sensible des tâches qu’ils doivent assurer, illustre Jospeh Fitzgerald. Grâce à l’informatique en périphérie, ces appareils peuvent cependant continuer à traiter en local en toute sécurité les données dont ils ont besoin.\n"
      ]
    }
  ]
}