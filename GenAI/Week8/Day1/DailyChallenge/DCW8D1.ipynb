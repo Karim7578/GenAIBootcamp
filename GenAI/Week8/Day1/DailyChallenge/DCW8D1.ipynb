{
  "cells": [
    {
      "cell_type": "code",
      "execution_count": 11,
      "metadata": {
        "id": "install"
      },
      "outputs": [],
      "source": [
        "# Install once\n",
        "!pip install -q transformers scikit-learn pandas tqdm\n",
        "\n",
        "from transformers import BertTokenizer, XLMRobertaTokenizer\n",
        "from sklearn.model_selection import StratifiedKFold\n",
        "import torch\n",
        "from torch.utils.data import Dataset, DataLoader\n",
        "import os, zipfile, glob, pandas as pd"
      ]
    },
    {
      "cell_type": "code",
      "source": [
        "import logging\n",
        "logging.getLogger(\"transformers\").setLevel(logging.ERROR)"
      ],
      "metadata": {
        "id": "m1Co_D25mctr"
      },
      "execution_count": 12,
      "outputs": []
    },
    {
      "cell_type": "code",
      "execution_count": 13,
      "metadata": {
        "id": "imports"
      },
      "outputs": [],
      "source": [
        "# Tokenizers\n",
        "\n",
        "BERT_TOK = BertTokenizer.from_pretrained('bert-base-uncased')\n",
        "XLMR_TOK = XLMRobertaTokenizer.from_pretrained('xlm-roberta-base')"
      ]
    },
    {
      "cell_type": "markdown",
      "metadata": {
        "id": "dataset"
      },
      "source": [
        "## 2. Dataset (replace with your CSV)"
      ]
    },
    {
      "cell_type": "code",
      "execution_count": 14,
      "metadata": {
        "id": "load_csv",
        "colab": {
          "base_uri": "https://localhost:8080/"
        },
        "outputId": "31e1f7e1-1dbd-4183-8660-e330bd37e829"
      },
      "outputs": [
        {
          "output_type": "stream",
          "name": "stdout",
          "text": [
            "root dir → data/Basics of BERT and XLM-RoBERTa - PyTorch\n",
            "contenu : ['sample_submission.csv', 'train.csv.zip', 'test.csv.zip', 'test.csv', 'train.csv']\n",
            "décompressé : data/Basics of BERT and XLM-RoBERTa - PyTorch/train.csv.zip\n",
            "décompressé : data/Basics of BERT and XLM-RoBERTa - PyTorch/test.csv.zip\n",
            "\n",
            "Train preview :\n",
            "            id                                            premise  \\\n",
            "0  5130fd2cb5  and these comments were considered in formulat...   \n",
            "1  5b72532a0b  These are issues that we wrestle with in pract...   \n",
            "2  3931fbe82a  Des petites choses comme celles-là font une di...   \n",
            "3  5622f0c60b  you know they can't really defend themselves l...   \n",
            "4  86aaa48b45  ในการเล่นบทบาทสมมุติก็เช่นกัน โอกาสที่จะได้แสด...   \n",
            "\n",
            "                                          hypothesis lang_abv language  label  \n",
            "0  The rules developed in the interim were put to...       en  English      0  \n",
            "1  Practice groups are not permitted to work on t...       en  English      2  \n",
            "2              J'essayais d'accomplir quelque chose.       fr   French      0  \n",
            "3  They can't defend themselves because of their ...       en  English      0  \n",
            "4    เด็กสามารถเห็นได้ว่าชาติพันธุ์แตกต่างกันอย่างไร       th     Thai      1  \n",
            "\n",
            "Label distribution :\n",
            " label\n",
            "0    4176\n",
            "2    4064\n",
            "1    3880\n",
            "Name: count, dtype: int64\n",
            "\n",
            "Test set shape : (5195, 5)\n"
          ]
        }
      ],
      "source": [
        "OUTER_ZIP = \"Basics of BERT and XLM-RoBERTa - PyTorch - 2.zip\"\n",
        "with zipfile.ZipFile(OUTER_ZIP) as z:\n",
        "    z.extractall(\"data\")\n",
        "\n",
        "root_candidates = glob.glob(\"data/*BERT*XLM*\")\n",
        "if not root_candidates:\n",
        "    raise FileNotFoundError(\"Aucun dossier correspondant trouvé après extraction.\")\n",
        "root = root_candidates[0]\n",
        "print(\"root dir →\", root)\n",
        "print(\"contenu :\", os.listdir(root))\n",
        "\n",
        "for inner_zip in glob.glob(os.path.join(root, \"*.zip\")):\n",
        "    with zipfile.ZipFile(inner_zip) as z:\n",
        "        z.extractall(root)\n",
        "    print(\"décompressé :\", inner_zip)\n",
        "\n",
        "# 3) Chargement des CSV\n",
        "\n",
        "TRAIN_CSV = os.path.join(root, \"train.csv\")\n",
        "TEST_CSV  = os.path.join(root, \"test.csv\")\n",
        "\n",
        "train_df = pd.read_csv(TRAIN_CSV)\n",
        "print(\"\\nTrain preview :\\n\", train_df.head())\n",
        "print(\"\\nLabel distribution :\\n\", train_df['label'].value_counts())\n",
        "\n",
        "test_df = pd.read_csv(TEST_CSV) if os.path.exists(TEST_CSV) else None\n",
        "print(\"\\nTest set shape :\", test_df.shape if test_df is not None else \"Pas de test.csv\")"
      ]
    },
    {
      "cell_type": "code",
      "source": [
        "print(train_df.columns)"
      ],
      "metadata": {
        "colab": {
          "base_uri": "https://localhost:8080/"
        },
        "id": "n4tHZ1xPS_--",
        "outputId": "320d7b18-dd1a-4e53-9ac6-f38fc41e4868"
      },
      "execution_count": 15,
      "outputs": [
        {
          "output_type": "stream",
          "name": "stdout",
          "text": [
            "Index(['id', 'premise', 'hypothesis', 'lang_abv', 'language', 'label'], dtype='object')\n"
          ]
        }
      ]
    },
    {
      "cell_type": "markdown",
      "metadata": {
        "id": "folds"
      },
      "source": [
        "## 3. Stratified 5-fold"
      ]
    },
    {
      "cell_type": "code",
      "execution_count": 16,
      "metadata": {
        "id": "create_folds",
        "colab": {
          "base_uri": "https://localhost:8080/"
        },
        "outputId": "e6e126de-6c8f-42f8-f04a-74ae945f2e97"
      },
      "outputs": [
        {
          "output_type": "stream",
          "name": "stdout",
          "text": [
            "Created 5 folds\n"
          ]
        }
      ],
      "source": [
        "X1 = train_df['premise'].values\n",
        "X2 = train_df['hypothesis'].values\n",
        "y  = train_df['label'].values\n",
        "\n",
        "# -------------------------------------------------\n",
        "# 2) Dataset adapté aux paires de phrases\n",
        "# -------------------------------------------------\n",
        "class NLIDataset(Dataset):\n",
        "    def __init__(self, premises, hypotheses, labels, tokenizer, max_len=256):\n",
        "        self.p, self.h, self.labels, self.tok = premises, hypotheses, labels, tokenizer\n",
        "        self.max_len = max_len\n",
        "\n",
        "    def __len__(self):\n",
        "        return len(self.labels)\n",
        "\n",
        "    def __getitem__(self, idx):\n",
        "        enc = self.tok.encode_plus(\n",
        "            self.p[idx],               # première phrase\n",
        "            self.h[idx],               # deuxième phrase\n",
        "            max_length=self.max_len,\n",
        "            padding='max_length',\n",
        "            truncation=True,\n",
        "            return_tensors='pt'\n",
        "        )\n",
        "        return {\n",
        "            'input_ids': enc['input_ids'].squeeze(0),\n",
        "            'attention_mask': enc['attention_mask'].squeeze(0),\n",
        "            'labels': torch.tensor(self.labels[idx], dtype=torch.long)\n",
        "        }\n",
        "\n",
        "# -------------------------------------------------\n",
        "# 3) 5-fold stratifié\n",
        "# -------------------------------------------------\n",
        "skf = StratifiedKFold(n_splits=5, shuffle=True, random_state=42)\n",
        "folds = list(skf.split(X1, y))\n",
        "print(f\"Created {len(folds)} folds\")\n"
      ]
    },
    {
      "cell_type": "markdown",
      "metadata": {
        "id": "tokenize"
      },
      "source": [
        "## 4. Tokenisation + Dataset PyTorch"
      ]
    },
    {
      "cell_type": "code",
      "execution_count": 17,
      "metadata": {
        "id": "dataset_class",
        "colab": {
          "base_uri": "https://localhost:8080/"
        },
        "outputId": "6cb8890a-236e-4291-d3e2-9d8ac7efb67c"
      },
      "outputs": [
        {
          "output_type": "stream",
          "name": "stdout",
          "text": [
            "{'input_ids': tensor([[  101,  2019,  3720,  ...,     0,     0,     0],\n",
            "        [  101, 15039, 12267,  ...,     0,     0,     0],\n",
            "        [  101,  2122,  3513,  ...,     0,     0,     0],\n",
            "        ...,\n",
            "        [  101,  2295, 14491,  ...,     0,     0,     0],\n",
            "        [  101,  2019,  3452,  ...,     0,     0,     0],\n",
            "        [  101,  2027,  2024,  ...,     0,     0,     0]]), 'attention_mask': tensor([[1, 1, 1,  ..., 0, 0, 0],\n",
            "        [1, 1, 1,  ..., 0, 0, 0],\n",
            "        [1, 1, 1,  ..., 0, 0, 0],\n",
            "        ...,\n",
            "        [1, 1, 1,  ..., 0, 0, 0],\n",
            "        [1, 1, 1,  ..., 0, 0, 0],\n",
            "        [1, 1, 1,  ..., 0, 0, 0]]), 'labels': tensor([0, 1, 2, 0, 2, 0, 0, 2])}\n"
          ]
        }
      ],
      "source": [
        "train_idx, val_idx = folds[0]\n",
        "train_ds = NLIDataset(X1[train_idx], X2[train_idx], y[train_idx], BERT_TOK, max_len=128)\n",
        "val_ds   = NLIDataset(X1[val_idx],   X2[val_idx],   y[val_idx],   BERT_TOK, max_len=128)\n",
        "\n",
        "train_loader = DataLoader(train_ds, batch_size=8, shuffle=True)\n",
        "val_loader   = DataLoader(val_ds,   batch_size=8)\n",
        "\n",
        "print(next(iter(train_loader)))"
      ]
    },
    {
      "cell_type": "markdown",
      "metadata": {
        "id": "train"
      },
      "source": [
        "## 5.Fine-tune\n"
      ]
    },
    {
      "cell_type": "markdown",
      "source": [
        "Modèle BERT pour classification (3 classes NLI)\n"
      ],
      "metadata": {
        "id": "4zmSdGEJj45m"
      }
    },
    {
      "cell_type": "code",
      "source": [
        "from transformers import BertForSequenceClassification\n",
        "\n",
        "device = torch.device('cuda' if torch.cuda.is_available() else 'cpu')\n",
        "\n",
        "model = BertForSequenceClassification.from_pretrained(\n",
        "    'bert-base-multilingual-cased',\n",
        "    num_labels=3                       # entailment, neutral, contradiction\n",
        ").to(device)\n"
      ],
      "metadata": {
        "id": "HuKdZGPuj4p_"
      },
      "execution_count": 18,
      "outputs": []
    },
    {
      "cell_type": "markdown",
      "source": [
        " Optimiseur + fonction de perte\n"
      ],
      "metadata": {
        "id": "LDRsbAnKkH7l"
      }
    },
    {
      "cell_type": "code",
      "source": [
        "from torch.optim import AdamW\n",
        "from torch.nn import CrossEntropyLoss\n",
        "\n",
        "optimizer = AdamW(model.parameters(), lr=2e-5)\n",
        "criterion = CrossEntropyLoss()"
      ],
      "metadata": {
        "id": "RE2wFUXkkHu9"
      },
      "execution_count": 19,
      "outputs": []
    },
    {
      "cell_type": "markdown",
      "source": [
        "Boucle d'entraînement + validation"
      ],
      "metadata": {
        "id": "N1pkykrqkSHm"
      }
    },
    {
      "cell_type": "code",
      "source": [
        "epochs = 3\n",
        "train_losses, val_losses, val_accs = [], [], []\n",
        "\n",
        "for epoch in range(epochs):\n",
        "    # --- phase train ---\n",
        "    model.train()\n",
        "    epoch_train_loss = 0\n",
        "    for batch in train_loader:\n",
        "        optimizer.zero_grad()\n",
        "        input_ids = batch['input_ids'].to(device)\n",
        "        att_mask  = batch['attention_mask'].to(device)\n",
        "        labels    = batch['labels'].to(device)\n",
        "\n",
        "        outputs = model(input_ids, attention_mask=att_mask, labels=labels)\n",
        "        loss = outputs.loss\n",
        "        loss.backward()\n",
        "        optimizer.step()\n",
        "        epoch_train_loss += loss.item()\n",
        "    train_losses.append(epoch_train_loss / len(train_loader))\n",
        "\n",
        "    # --- phase validation ---\n",
        "    model.eval()\n",
        "    epoch_val_loss, correct, total = 0, 0, 0\n",
        "    with torch.no_grad():\n",
        "        for batch in val_loader:\n",
        "            input_ids = batch['input_ids'].to(device)\n",
        "            att_mask  = batch['attention_mask'].to(device)\n",
        "            labels    = batch['labels'].to(device)\n",
        "\n",
        "            outputs = model(input_ids, attention_mask=att_mask, labels=labels)\n",
        "            loss = outputs.loss\n",
        "            epoch_val_loss += loss.item()\n",
        "\n",
        "            preds = torch.argmax(outputs.logits, dim=1)\n",
        "            correct += (preds == labels).sum().item()\n",
        "            total   += labels.size(0)\n",
        "    val_losses.append(epoch_val_loss / len(val_loader))\n",
        "    val_accs.append(correct / total)\n",
        "\n",
        "    print(f\"Epoch {epoch + 1} | \"\n",
        "          f\"Train loss {train_losses[-1]:.4f} | \"\n",
        "          f\"Val loss {val_losses[-1]:.4f} | \"\n",
        "          f\"Val acc {val_accs[-1]:.4f}\")\n"
      ],
      "metadata": {
        "colab": {
          "base_uri": "https://localhost:8080/"
        },
        "id": "KVo-N79CkR3m",
        "outputId": "11e52925-e38e-45d0-b47a-0bd7bf9dd17a"
      },
      "execution_count": 20,
      "outputs": [
        {
          "output_type": "stream",
          "name": "stdout",
          "text": [
            "Epoch 1 | Train loss 1.0998 | Val loss 1.1092 | Val acc 0.3350\n",
            "Epoch 2 | Train loss 1.1037 | Val loss 1.1002 | Val acc 0.3350\n",
            "Epoch 3 | Train loss 1.1011 | Val loss 1.1011 | Val acc 0.3449\n"
          ]
        }
      ]
    },
    {
      "cell_type": "markdown",
      "source": [
        "# Étape 7 : visualisation rapide"
      ],
      "metadata": {
        "id": "AEGdvLOfka61"
      }
    },
    {
      "cell_type": "code",
      "source": [
        "import matplotlib.pyplot as plt\n",
        "\n",
        "plt.figure(figsize=(10, 4))\n",
        "plt.subplot(1, 2, 1)\n",
        "plt.plot(train_losses, label='Train loss')\n",
        "plt.plot(val_losses,   label='Val loss')\n",
        "plt.legend(); plt.title(\"Loss\")\n",
        "\n",
        "plt.subplot(1, 2, 2)\n",
        "plt.plot(val_accs, label='Val accuracy', color='green')\n",
        "plt.legend(); plt.title(\"Accuracy\")\n",
        "plt.show()"
      ],
      "metadata": {
        "colab": {
          "base_uri": "https://localhost:8080/",
          "height": 325
        },
        "id": "0V1_4w5akawM",
        "outputId": "5d3f3ae5-de79-429b-8614-85983ba68c9f"
      },
      "execution_count": 21,
      "outputs": [
        {
          "output_type": "display_data",
          "data": {
            "text/plain": [
              "<Figure size 1000x400 with 2 Axes>"
            ],
            "image/png": "[encoded data removed]"
          },
          "metadata": {}
        }
      ]
    },
    {
      "cell_type": "markdown",
      "source": [
        "inférence sur le jeu de test\n"
      ],
      "metadata": {
        "id": "dEdYwTpdkjkR"
      }
    },
    {
      "cell_type": "code",
      "source": [
        "if test_df is not None:\n",
        "    test_p = test_df['premise'].values\n",
        "    test_h = test_df['hypothesis'].values\n",
        "    test_ds = NLIDataset(test_p, test_h, [0]*len(test_p), BERT_TOK, max_len=128)  # labels fictifs\n",
        "    test_loader = DataLoader(test_ds, batch_size=8)\n",
        "\n",
        "    model.eval()\n",
        "    preds = []\n",
        "    with torch.no_grad():\n",
        "        for batch in test_loader:\n",
        "            input_ids = batch['input_ids'].to(device)\n",
        "            att_mask  = batch['attention_mask'].to(device)\n",
        "            logits = model(input_ids, attention_mask=att_mask).logits\n",
        "            preds.extend(torch.argmax(logits, dim=1).cpu().numpy())\n",
        "\n",
        "    sub = pd.DataFrame({'id': test_df['id'], 'prediction': preds})\n",
        "    sub.to_csv('submission.csv', index=False)\n",
        "    print(\"submission.csv ready!\")"
      ],
      "metadata": {
        "colab": {
          "base_uri": "https://localhost:8080/"
        },
        "id": "LnZ-o2NsY0gC",
        "outputId": "cd686f9d-0b01-4cce-8ec6-07abcfca03f3"
      },
      "execution_count": 23,
      "outputs": [
        {
          "output_type": "stream",
          "name": "stdout",
          "text": [
            "submission.csv ready!\n"
          ]
        }
      ]
    }
  ],
  "metadata": {
    "kernelspec": {
      "display_name": "Python 3",
      "name": "python3"
    },
    "language_info": {
      "name": "python",
      "version": "3.10"
    },
    "colab": {
      "provenance": [],
      "gpuType": "T4"
    },
    "accelerator": "GPU"
  },
  "nbformat": 4,
  "nbformat_minor": 0
}