{
  "nbformat": 4,
  "nbformat_minor": 0,
  "metadata": {
    "colab": {
      "provenance": []
    },
    "kernelspec": {
      "name": "python3",
      "display_name": "Python 3"
    },
    "language_info": {
      "name": "python"
    }
  },
  "cells": [
    {
      "cell_type": "markdown",
      "source": [
        "📦 Cellule 1 – Setup & imports"
      ],
      "metadata": {
        "id": "vDrv27Hkgj5R"
      }
    },
    {
      "cell_type": "code",
      "execution_count": 4,
      "metadata": {
        "colab": {
          "base_uri": "https://localhost:8080/"
        },
        "id": "QBN1a115dVaK",
        "outputId": "a10724fc-f8c3-4233-974e-1609d5220ab8"
      },
      "outputs": [
        {
          "output_type": "stream",
          "name": "stderr",
          "text": [
            "[nltk_data] Downloading package punkt_tab to /root/nltk_data...\n",
            "[nltk_data]   Package punkt_tab is already up-to-date!\n",
            "[nltk_data] Downloading package stopwords to /root/nltk_data...\n",
            "[nltk_data]   Package stopwords is already up-to-date!\n"
          ]
        }
      ],
      "source": [
        "# ===========================================\n",
        "# 1) Installation rapide des dépendances\n",
        "# ===========================================\n",
        "import sys, subprocess, os, re, io, zipfile, requests, unicodedata\n",
        "import numpy as np\n",
        "import pandas as pd\n",
        "import networkx as nx\n",
        "import nltk\n",
        "from nltk.tokenize import sent_tokenize\n",
        "from nltk.corpus import stopwords\n",
        "from sklearn.metrics.pairwise import cosine_similarity\n",
        "\n",
        "nltk.download('punkt_tab')\n",
        "nltk.download('stopwords')\n",
        "\n",
        "stop_words = set(stopwords.words('english'))\n"
      ]
    },
    {
      "cell_type": "markdown",
      "source": [
        "📁 Cellule 2 – Chargement du CSV"
      ],
      "metadata": {
        "id": "pbsxzFRtfEGw"
      }
    },
    {
      "cell_type": "code",
      "source": [
        "df = pd.read_csv('tennis_articles.csv', encoding='latin-1')\n",
        "df = df.drop(columns=['article_title'], errors='ignore')\n",
        "print(f\"{len(df)} articles chargés\")\n",
        "df.head()"
      ],
      "metadata": {
        "colab": {
          "base_uri": "https://localhost:8080/",
          "height": 224
        },
        "id": "nBDP4Qa2fD-Y",
        "outputId": "364e2d36-83b3-4d63-fd20-49d4989af67f"
      },
      "execution_count": 5,
      "outputs": [
        {
          "output_type": "stream",
          "name": "stdout",
          "text": [
            "8 articles chargés\n"
          ]
        },
        {
          "output_type": "execute_result",
          "data": {
            "text/plain": [
              "   article_id                                       article_text  \\\n",
              "0           1  Maria Sharapova has basically no friends as te...   \n",
              "1           2  BASEL, Switzerland (AP)  Roger Federer advanc...   \n",
              "2           3  Roger Federer has revealed that organisers of ...   \n",
              "3           4  Kei Nishikori will try to end his long losing ...   \n",
              "4           5  Federer, 37, first broke through on tour over ...   \n",
              "\n",
              "                                              source  \n",
              "0  https://www.tennisworldusa.org/tennis/news/Mar...  \n",
              "1  http://www.tennis.com/pro-game/2018/10/copil-s...  \n",
              "2  https://scroll.in/field/899938/tennis-roger-fe...  \n",
              "3  http://www.tennis.com/pro-game/2018/10/nishiko...  \n",
              "4  https://www.express.co.uk/sport/tennis/1036101...  "
            ],
            "text/html": [
              "\n",
              "  <div id=\"df-14fe3cdc-a655-4acc-aa62-318cac1a21dd\" class=\"colab-df-container\">\n",
              "    <div>\n",
              "<style scoped>\n",
              "    .dataframe tbody tr th:only-of-type {\n",
              "        vertical-align: middle;\n",
              "    }\n",
              "\n",
              "    .dataframe tbody tr th {\n",
              "        vertical-align: top;\n",
              "    }\n",
              "\n",
              "    .dataframe thead th {\n",
              "        text-align: right;\n",
              "    }\n",
              "</style>\n",
              "<table border=\"1\" class=\"dataframe\">\n",
              "  <thead>\n",
              "    <tr style=\"text-align: right;\">\n",
              "      <th></th>\n",
              "      <th>article_id</th>\n",
              "      <th>article_text</th>\n",
              "      <th>source</th>\n",
              "    </tr>\n",
              "  </thead>\n",
              "  <tbody>\n",
              "    <tr>\n",
              "      <th>0</th>\n",
              "      <td>1</td>\n",
              "      <td>Maria Sharapova has basically no friends as te...</td>\n",
              "      <td>https://www.tennisworldusa.org/tennis/news/Mar...</td>\n",
              "    </tr>\n",
              "    <tr>\n",
              "      <th>1</th>\n",
              "      <td>2</td>\n",
              "      <td>BASEL, Switzerland (AP)  Roger Federer advanc...</td>\n",
              "      <td>http://www.tennis.com/pro-game/2018/10/copil-s...</td>\n",
              "    </tr>\n",
              "    <tr>\n",
              "      <th>2</th>\n",
              "      <td>3</td>\n",
              "      <td>Roger Federer has revealed that organisers of ...</td>\n",
              "      <td>https://scroll.in/field/899938/tennis-roger-fe...</td>\n",
              "    </tr>\n",
              "    <tr>\n",
              "      <th>3</th>\n",
              "      <td>4</td>\n",
              "      <td>Kei Nishikori will try to end his long losing ...</td>\n",
              "      <td>http://www.tennis.com/pro-game/2018/10/nishiko...</td>\n",
              "    </tr>\n",
              "    <tr>\n",
              "      <th>4</th>\n",
              "      <td>5</td>\n",
              "      <td>Federer, 37, first broke through on tour over ...</td>\n",
              "      <td>https://www.express.co.uk/sport/tennis/1036101...</td>\n",
              "    </tr>\n",
              "  </tbody>\n",
              "</table>\n",
              "</div>\n",
              "    <div class=\"colab-df-buttons\">\n",
              "\n",
              "  <div class=\"colab-df-container\">\n",
              "    <button class=\"colab-df-convert\" onclick=\"convertToInteractive('df-14fe3cdc-a655-4acc-aa62-318cac1a21dd')\"\n",
              "            title=\"Convert this dataframe to an interactive table.\"\n",
              "            style=\"display:none;\">\n",
              "\n",
              "  <svg xmlns=\"http://www.w3.org/2000/svg\" height=\"24px\" viewBox=\"0 -960 960 960\">\n",
              "    <path d=\"M120-120v-720h720v720H120Zm60-500h600v-160H180v160Zm220 220h160v-160H400v160Zm0 220h160v-160H400v160ZM180-400h160v-160H180v160Zm440 0h160v-160H620v160ZM180-180h160v-160H180v160Zm440 0h160v-160H620v160Z\"/>\n",
              "  </svg>\n",
              "    </button>\n",
              "\n",
              "  <style>\n",
              "    .colab-df-container {\n",
              "      display:flex;\n",
              "      gap: 12px;\n",
              "    }\n",
              "\n",
              "    .colab-df-convert {\n",
              "      background-color: #E8F0FE;\n",
              "      border: none;\n",
              "      border-radius: 50%;\n",
              "      cursor: pointer;\n",
              "      display: none;\n",
              "      fill: #1967D2;\n",
              "      height: 32px;\n",
              "      padding: 0 0 0 0;\n",
              "      width: 32px;\n",
              "    }\n",
              "\n",
              "    .colab-df-convert:hover {\n",
              "      background-color: #E2EBFA;\n",
              "      box-shadow: 0px 1px 2px rgba(60, 64, 67, 0.3), 0px 1px 3px 1px rgba(60, 64, 67, 0.15);\n",
              "      fill: #174EA6;\n",
              "    }\n",
              "\n",
              "    .colab-df-buttons div {\n",
              "      margin-bottom: 4px;\n",
              "    }\n",
              "\n",
              "    [theme=dark] .colab-df-convert {\n",
              "      background-color: #3B4455;\n",
              "      fill: #D2E3FC;\n",
              "    }\n",
              "\n",
              "    [theme=dark] .colab-df-convert:hover {\n",
              "      background-color: #434B5C;\n",
              "      box-shadow: 0px 1px 3px 1px rgba(0, 0, 0, 0.15);\n",
              "      filter: drop-shadow(0px 1px 2px rgba(0, 0, 0, 0.3));\n",
              "      fill: #FFFFFF;\n",
              "    }\n",
              "  </style>\n",
              "\n",
              "    <script>\n",
              "      const buttonEl =\n",
              "        document.querySelector('#df-14fe3cdc-a655-4acc-aa62-318cac1a21dd button.colab-df-convert');\n",
              "      buttonEl.style.display =\n",
              "        google.colab.kernel.accessAllowed ? 'block' : 'none';\n",
              "\n",
              "      async function convertToInteractive(key) {\n",
              "        const element = document.querySelector('#df-14fe3cdc-a655-4acc-aa62-318cac1a21dd');\n",
              "        const dataTable =\n",
              "          await google.colab.kernel.invokeFunction('convertToInteractive',\n",
              "                                                    [key], {});\n",
              "        if (!dataTable) return;\n",
              "\n",
              "        const docLinkHtml = 'Like what you see? Visit the ' +\n",
              "          '<a target=\"_blank\" href=https://colab.research.google.com/notebooks/data_table.ipynb>data table notebook</a>'\n",
              "          + ' to learn more about interactive tables.';\n",
              "        element.innerHTML = '';\n",
              "        dataTable['output_type'] = 'display_data';\n",
              "        await google.colab.output.renderOutput(dataTable, element);\n",
              "        const docLink = document.createElement('div');\n",
              "        docLink.innerHTML = docLinkHtml;\n",
              "        element.appendChild(docLink);\n",
              "      }\n",
              "    </script>\n",
              "  </div>\n",
              "\n",
              "\n",
              "    <div id=\"df-b1e2097c-aa55-4f2f-8c89-6d677a3be3e7\">\n",
              "      <button class=\"colab-df-quickchart\" onclick=\"quickchart('df-b1e2097c-aa55-4f2f-8c89-6d677a3be3e7')\"\n",
              "                title=\"Suggest charts\"\n",
              "                style=\"display:none;\">\n",
              "\n",
              "<svg xmlns=\"http://www.w3.org/2000/svg\" height=\"24px\"viewBox=\"0 0 24 24\"\n",
              "     width=\"24px\">\n",
              "    <g>\n",
              "        <path d=\"M19 3H5c-1.1 0-2 .9-2 2v14c0 1.1.9 2 2 2h14c1.1 0 2-.9 2-2V5c0-1.1-.9-2-2-2zM9 17H7v-7h2v7zm4 0h-2V7h2v10zm4 0h-2v-4h2v4z\"/>\n",
              "    </g>\n",
              "</svg>\n",
              "      </button>\n",
              "\n",
              "<style>\n",
              "  .colab-df-quickchart {\n",
              "      --bg-color: #E8F0FE;\n",
              "      --fill-color: #1967D2;\n",
              "      --hover-bg-color: #E2EBFA;\n",
              "      --hover-fill-color: #174EA6;\n",
              "      --disabled-fill-color: #AAA;\n",
              "      --disabled-bg-color: #DDD;\n",
              "  }\n",
              "\n",
              "  [theme=dark] .colab-df-quickchart {\n",
              "      --bg-color: #3B4455;\n",
              "      --fill-color: #D2E3FC;\n",
              "      --hover-bg-color: #434B5C;\n",
              "      --hover-fill-color: #FFFFFF;\n",
              "      --disabled-bg-color: #3B4455;\n",
              "      --disabled-fill-color: #666;\n",
              "  }\n",
              "\n",
              "  .colab-df-quickchart {\n",
              "    background-color: var(--bg-color);\n",
              "    border: none;\n",
              "    border-radius: 50%;\n",
              "    cursor: pointer;\n",
              "    display: none;\n",
              "    fill: var(--fill-color);\n",
              "    height: 32px;\n",
              "    padding: 0;\n",
              "    width: 32px;\n",
              "  }\n",
              "\n",
              "  .colab-df-quickchart:hover {\n",
              "    background-color: var(--hover-bg-color);\n",
              "    box-shadow: 0 1px 2px rgba(60, 64, 67, 0.3), 0 1px 3px 1px rgba(60, 64, 67, 0.15);\n",
              "    fill: var(--button-hover-fill-color);\n",
              "  }\n",
              "\n",
              "  .colab-df-quickchart-complete:disabled,\n",
              "  .colab-df-quickchart-complete:disabled:hover {\n",
              "    background-color: var(--disabled-bg-color);\n",
              "    fill: var(--disabled-fill-color);\n",
              "    box-shadow: none;\n",
              "  }\n",
              "\n",
              "  .colab-df-spinner {\n",
              "    border: 2px solid var(--fill-color);\n",
              "    border-color: transparent;\n",
              "    border-bottom-color: var(--fill-color);\n",
              "    animation:\n",
              "      spin 1s steps(1) infinite;\n",
              "  }\n",
              "\n",
              "  @keyframes spin {\n",
              "    0% {\n",
              "      border-color: transparent;\n",
              "      border-bottom-color: var(--fill-color);\n",
              "      border-left-color: var(--fill-color);\n",
              "    }\n",
              "    20% {\n",
              "      border-color: transparent;\n",
              "      border-left-color: var(--fill-color);\n",
              "      border-top-color: var(--fill-color);\n",
              "    }\n",
              "    30% {\n",
              "      border-color: transparent;\n",
              "      border-left-color: var(--fill-color);\n",
              "      border-top-color: var(--fill-color);\n",
              "      border-right-color: var(--fill-color);\n",
              "    }\n",
              "    40% {\n",
              "      border-color: transparent;\n",
              "      border-right-color: var(--fill-color);\n",
              "      border-top-color: var(--fill-color);\n",
              "    }\n",
              "    60% {\n",
              "      border-color: transparent;\n",
              "      border-right-color: var(--fill-color);\n",
              "    }\n",
              "    80% {\n",
              "      border-color: transparent;\n",
              "      border-right-color: var(--fill-color);\n",
              "      border-bottom-color: var(--fill-color);\n",
              "    }\n",
              "    90% {\n",
              "      border-color: transparent;\n",
              "      border-bottom-color: var(--fill-color);\n",
              "    }\n",
              "  }\n",
              "</style>\n",
              "\n",
              "      <script>\n",
              "        async function quickchart(key) {\n",
              "          const quickchartButtonEl =\n",
              "            document.querySelector('#' + key + ' button');\n",
              "          quickchartButtonEl.disabled = true;  // To prevent multiple clicks.\n",
              "          quickchartButtonEl.classList.add('colab-df-spinner');\n",
              "          try {\n",
              "            const charts = await google.colab.kernel.invokeFunction(\n",
              "                'suggestCharts', [key], {});\n",
              "          } catch (error) {\n",
              "            console.error('Error during call to suggestCharts:', error);\n",
              "          }\n",
              "          quickchartButtonEl.classList.remove('colab-df-spinner');\n",
              "          quickchartButtonEl.classList.add('colab-df-quickchart-complete');\n",
              "        }\n",
              "        (() => {\n",
              "          let quickchartButtonEl =\n",
              "            document.querySelector('#df-b1e2097c-aa55-4f2f-8c89-6d677a3be3e7 button');\n",
              "          quickchartButtonEl.style.display =\n",
              "            google.colab.kernel.accessAllowed ? 'block' : 'none';\n",
              "        })();\n",
              "      </script>\n",
              "    </div>\n",
              "\n",
              "    </div>\n",
              "  </div>\n"
            ],
            "application/vnd.google.colaboratory.intrinsic+json": {
              "type": "dataframe",
              "variable_name": "df",
              "summary": "{\n  \"name\": \"df\",\n  \"rows\": 8,\n  \"fields\": [\n    {\n      \"column\": \"article_id\",\n      \"properties\": {\n        \"dtype\": \"number\",\n        \"std\": 2,\n        \"min\": 1,\n        \"max\": 8,\n        \"num_unique_values\": 8,\n        \"samples\": [\n          2,\n          6,\n          1\n        ],\n        \"semantic_type\": \"\",\n        \"description\": \"\"\n      }\n    },\n    {\n      \"column\": \"article_text\",\n      \"properties\": {\n        \"dtype\": \"string\",\n        \"num_unique_values\": 8,\n        \"samples\": [\n          \"BASEL, Switzerland (AP) \\u0097 Roger Federer advanced to the 14th Swiss Indoors final of his career by beating seventh-seeded Daniil Medvedev 6-1, 6-4 on Saturday. Seeking a ninth title at his hometown event, and a 99th overall, Federer will play 93th-ranked Marius Copil on Sunday. Federer dominated the 20th-ranked Medvedev and had his first match-point chance to break serve again at 5-1. He then dropped his serve to love, and let another match point slip in Medvedev's next service game by netting a backhand. He clinched on his fourth chance when Medvedev netted from the baseline. Copil upset expectations of a Federer final against Alexander Zverev in a 6-3, 6-7 (6), 6-4 win over the fifth-ranked German in the earlier semifinal. The Romanian aims for a first title after arriving at Basel without a career win over a top-10 opponent. Copil has two after also beating No. 6 Marin Cilic in the second round. Copil fired 26 aces past Zverev and never dropped serve, clinching after 2 1/2 hours with a forehand volley winner to break Zverev for the second time in the semifinal. He came through two rounds of qualifying last weekend to reach the Basel main draw, including beating Zverev's older brother, Mischa. Federer had an easier time than in his only previous match against Medvedev, a three-setter at Shanghai two weeks ago.\",\n          \"Nadal has not played tennis since he was forced to retire from the US Open semi-finals against Juan Martin Del Porto with a knee injury. The world No 1 has been forced to miss Spain\\u0092s Davis Cup clash with France and the Asian hard court season. But with the ATP World Tour Finals due to begin next month, Nadal is ready to prove his fitness before the season-ending event at the 02 Arena. Nadal flew to Paris on Friday and footage from the Paris Masters official Twitter account shows the Spaniard smiling as he strides onto court for practice. The Paris Masters draw has been made and Nadal will start his campaign on Tuesday or Wednesday against either Fernando Verdasco or Jeremy Chardy. Nadal could then play defending champion Jack Sock in the third round before a potential quarter-final with either Borna Coric or Dominic Thiem. Nadal\\u0092s appearance in Paris is a big boost to the tournament organisers who could see Roger Federer withdraw. Federer is in action at the Swiss Indoors in Basel and if he reaches the final, he could pull out of Paris in a bid to stay fresh for London. But as it stands, Federer is in the draw and is scheduled to face either former world No 3 Milos Raonic or Jo-Wilfried Tsonga in the second round. Federer\\u0092s projected route to the Paris final could also lead to matches against Kevin Anderson and Novak Djokovic. Djokovic could play Marco Cecchinato in the second round. British No 1 Kyle Edmund is the 12th seed in Paris and will get underway in round two against either Karen Khachanov or Filip Krajinovic.\",\n          \"Maria Sharapova has basically no friends as tennis players on the WTA Tour. The Russian player has no problems in openly speaking about it and in a recent interview she said: 'I don't really hide any feelings too much. I think everyone knows this is my job here. When I'm on the courts or when I'm on the court playing, I'm a competitor and I want to beat every single person whether they're in the locker room or across the net. So I'm not the one to strike up a conversation about the weather and know that in the next few minutes I have to go and try to win a tennis match. I'm a pretty competitive girl. I say my hellos, but I'm not sending any players flowers as well. Uhm, I'm not really friendly or close to many players. I have not a lot of friends away from the courts.' When she said she is not really close to a lot of players, is that something strategic that she is doing? Is it different on the men's tour than the women's tour? 'No, not at all. I think just because you're in the same sport doesn't mean that you have to be friends with everyone just because you're categorized, you're a tennis player, so you're going to get along with tennis players. I think every person has different interests. I have friends that have completely different jobs and interests, and I've met them in very different parts of my life. I think everyone just thinks because we're tennis players we should be the greatest of friends. But ultimately tennis is just a very small part of what we do. There are so many other things that we're interested in, that we do.' ALSO READ: Maria Sharapova reveals how tennis keeps her motivated.\"\n        ],\n        \"semantic_type\": \"\",\n        \"description\": \"\"\n      }\n    },\n    {\n      \"column\": \"source\",\n      \"properties\": {\n        \"dtype\": \"string\",\n        \"num_unique_values\": 8,\n        \"samples\": [\n          \"http://www.tennis.com/pro-game/2018/10/copil-stuns-5th-ranked-zverev-to-reach-swiss-indoors-final/77721/\",\n          \"https://www.express.co.uk/sport/tennis/1037119/Rafael-Nadal-World-No-1-Paris-Masters-Federer-Djokovic\",\n          \"https://www.tennisworldusa.org/tennis/news/Maria_Sharapova/62220/i-do-not-have-friends-in-tennis-says-maria-sharapova/\"\n        ],\n        \"semantic_type\": \"\",\n        \"description\": \"\"\n      }\n    }\n  ]\n}"
            }
          },
          "metadata": {},
          "execution_count": 5
        }
      ]
    },
    {
      "cell_type": "markdown",
      "source": [
        "🔪 Cellule 3 – Préparation : tokenisation des phrases"
      ],
      "metadata": {
        "id": "UGx0VcY5fVN9"
      }
    },
    {
      "cell_type": "code",
      "source": [
        "sentences = []\n",
        "for text in df['article_text'].dropna():\n",
        "    sentences.extend(sent_tokenize(text))\n",
        "print(\"Phrases extraites :\", len(sentences))"
      ],
      "metadata": {
        "colab": {
          "base_uri": "https://localhost:8080/"
        },
        "id": "y9GFTuRrfVEm",
        "outputId": "a4389e56-8393-40ec-f251-d4e156f0361f"
      },
      "execution_count": 6,
      "outputs": [
        {
          "output_type": "stream",
          "name": "stdout",
          "text": [
            "Phrases extraites : 130\n"
          ]
        }
      ]
    },
    {
      "cell_type": "markdown",
      "source": [
        "⬇️ Cellule 4 – Téléchargement et chargement de GloVe 100d"
      ],
      "metadata": {
        "id": "iMfi8h9wfwSo"
      }
    },
    {
      "cell_type": "code",
      "source": [
        "GLOVE_DIR = '/content/glove'\n",
        "os.makedirs(GLOVE_DIR, exist_ok=True)\n",
        "\n",
        "glove_zip_path = os.path.join(GLOVE_DIR, \"glove.6B.zip\")\n",
        "glove_txt_path = os.path.join(GLOVE_DIR, \"glove.6B.100d.txt\")\n",
        "\n",
        "if not os.path.isfile(glove_txt_path):\n",
        "    print(\"Téléchargement de GloVe 6B 100d...\")\n",
        "    url = \"http://nlp.stanford.edu/data/glove.6B.zip\"\n",
        "    r = requests.get(url, stream=True)\n",
        "    with zipfile.ZipFile(io.BytesIO(r.content)) as z:\n",
        "        z.extractall(GLOVE_DIR)\n",
        "    print(\"✅ GloVe décompressé.\")\n",
        "\n",
        "# Chargement du dictionnaire mot → vecteur\n",
        "glove_vectors = {}\n",
        "with open(glove_txt_path, encoding=\"utf8\") as f:\n",
        "    for line in f:\n",
        "        parts = line.split()\n",
        "        if len(parts) != 101:\n",
        "            continue\n",
        "        word = parts[0]\n",
        "        vec = np.array(parts[1:], dtype='float32')\n",
        "        glove_vectors[word] = vec\n",
        "print(f\"{len(glove_vectors):,} mots chargés\")"
      ],
      "metadata": {
        "colab": {
          "base_uri": "https://localhost:8080/"
        },
        "id": "GGfKTY_GfwFi",
        "outputId": "b17c9fc5-c752-49b6-be69-33abcda9c08b"
      },
      "execution_count": 7,
      "outputs": [
        {
          "output_type": "stream",
          "name": "stdout",
          "text": [
            "Téléchargement de GloVe 6B 100d...\n",
            "✅ GloVe décompressé.\n",
            "400,000 mots chargés\n"
          ]
        }
      ]
    },
    {
      "cell_type": "markdown",
      "source": [
        "🧹 Cellule 5 – Nettoyage & normalisation"
      ],
      "metadata": {
        "id": "JKGBIEqGf3TZ"
      }
    },
    {
      "cell_type": "code",
      "source": [
        "def clean_sentence(sentence):\n",
        "    # Normalisation Unicode (corrige Hed → He'd)\n",
        "    sentence = unicodedata.normalize(\"NFKD\", sentence)\n",
        "    sentence = sentence.lower().strip()\n",
        "    # Garde apostrophes et lettres\n",
        "    sentence = re.sub(r\"[^\\w\\s']\", \" \", sentence)\n",
        "    tokens = [w for w in sentence.split()\n",
        "              if w not in stop_words and len(w) > 2]\n",
        "    return tokens\n",
        "\n",
        "cleaned_sentences = [clean_sentence(s) for s in sentences]\n",
        "# on retire les phrases vides\n",
        "cleaned_sentences = [tok for tok in cleaned_sentences if tok]"
      ],
      "metadata": {
        "id": "erROrHpWf3JG"
      },
      "execution_count": 8,
      "outputs": []
    },
    {
      "cell_type": "markdown",
      "source": [
        "🔢 Cellule 6 – Vectorisation des phrases"
      ],
      "metadata": {
        "id": "VMiKsgVCf-AA"
      }
    },
    {
      "cell_type": "code",
      "source": [
        "EMB_DIM = 100\n",
        "def sentence_vector(tokens):\n",
        "    vecs = [glove_vectors[w] for w in tokens if w in glove_vectors]\n",
        "    if not vecs:\n",
        "        return np.zeros(EMB_DIM, dtype='float32')\n",
        "    return np.mean(vecs, axis=0)\n",
        "\n",
        "sentence_vectors = np.array([sentence_vector(tok) for tok in cleaned_sentences])"
      ],
      "metadata": {
        "id": "6yii578ef92q"
      },
      "execution_count": 9,
      "outputs": []
    },
    {
      "cell_type": "markdown",
      "source": [
        "🕸️ Cellule 7 – Construction du graphe de similarité"
      ],
      "metadata": {
        "id": "ECVEv4_KgDka"
      }
    },
    {
      "cell_type": "code",
      "source": [
        "SIM_THRESHOLD = 0.25\n",
        "n = len(sentence_vectors)\n",
        "sim_mat = cosine_similarity(sentence_vectors)\n",
        "\n",
        "graph = nx.Graph()\n",
        "for i in range(n):\n",
        "    for j in range(i+1, n):\n",
        "        if sim_mat[i, j] > SIM_THRESHOLD:\n",
        "            graph.add_edge(i, j, weight=sim_mat[i, j])\n",
        "\n",
        "print(f\"Graphe créé : {graph.number_of_nodes()} nœuds, {graph.number_of_edges()} arêtes\")"
      ],
      "metadata": {
        "colab": {
          "base_uri": "https://localhost:8080/"
        },
        "id": "jboc-7UjgDVH",
        "outputId": "d8dfc4bd-7f0e-40dc-cc4f-481314989bc8"
      },
      "execution_count": 10,
      "outputs": [
        {
          "output_type": "stream",
          "name": "stdout",
          "text": [
            "Graphe créé : 129 nœuds, 8247 arêtes\n"
          ]
        }
      ]
    },
    {
      "cell_type": "markdown",
      "source": [
        "🔹 Cellule 8 – PageRank + pénalité longueur"
      ],
      "metadata": {
        "id": "_BbJJqNmQNHa"
      }
    },
    {
      "cell_type": "code",
      "source": [
        "\n",
        "# PageRank avec pénalité exponentielle\n",
        "#    pour réduire l’avantage des phrases très longues\n",
        "\n",
        "MAX_WORDS = 40\n",
        "penalty = {i: np.exp(-len(tok)/MAX_WORDS)\n",
        "           for i, tok in enumerate(cleaned_sentences)}\n",
        "\n",
        "raw_scores = nx.pagerank(graph, weight='weight')\n",
        "scores = {i: raw_scores.get(i, 0) * penalty[i] for i in range(n)}"
      ],
      "metadata": {
        "id": "GoITf06XQNtP"
      },
      "execution_count": 11,
      "outputs": []
    },
    {
      "cell_type": "markdown",
      "source": [
        "✂️ Cellule 9 – Génération du *résumé*"
      ],
      "metadata": {
        "id": "7Msru_K6gR62"
      }
    },
    {
      "cell_type": "code",
      "source": [
        "N = 10\n",
        "top_idx = sorted(scores, key=scores.get, reverse=True)[:N]\n",
        "summary = ' '.join([sentences[i] for i in sorted(top_idx)])\n",
        "print(\"=== Résumé automatique (10 phrases) ===\\n\")\n",
        "print(summary)"
      ],
      "metadata": {
        "colab": {
          "base_uri": "https://localhost:8080/"
        },
        "id": "XzljuBEqgRxf",
        "outputId": "a4bc3a23-6dc8-4e62-b18a-0133bdf31518"
      },
      "execution_count": 12,
      "outputs": [
        {
          "output_type": "stream",
          "name": "stdout",
          "text": [
            "=== Résumé automatique (10 phrases) ===\n",
            "\n",
            "But ultimately tennis is just a very small part of what we do. Copil has two after also beating No. They only left me three days to decide, Federer said. He has lost eight straight finals since. It seems pretty friendly right now, said Davenport. It's just getting used to it. This is where the first rounds can be tricky. It's a big deal because...you never forget your first. Not because hed been out on a bender or anything  those days were in the past. I was always happy to work hard, he said.\n"
          ]
        }
      ]
    },
    {
      "cell_type": "markdown",
      "source": [
        "📊 Cellule 10 – Analyse rapide des résultats"
      ],
      "metadata": {
        "id": "6Le2p7vKgYxA"
      }
    },
    {
      "cell_type": "code",
      "source": [
        "vals = list(scores.values())\n",
        "print(\"Top-5 scores :\", sorted(vals, reverse=True)[:5])\n",
        "print(\"Écart-type   :\", round(np.std(vals), 4))"
      ],
      "metadata": {
        "colab": {
          "base_uri": "https://localhost:8080/"
        },
        "id": "L20AW84igY6P",
        "outputId": "e9dd00f3-cef6-4b5e-bbb7-8b328f13cdeb"
      },
      "execution_count": 13,
      "outputs": [
        {
          "output_type": "stream",
          "name": "stdout",
          "text": [
            "Top-5 scores : [np.float64(0.00721986265212178), np.float64(0.007139190997039178), np.float64(0.00710844949774012), np.float64(0.007058373721557581), np.float64(0.0070333833215309935)]\n",
            "Écart-type   : 0.001\n"
          ]
        }
      ]
    },
    {
      "cell_type": "markdown",
      "source": [
        "Le pipeline est fonctionnel ; la faible variance des scores et la longueur du résumé sont les deux points à corriger immédiatement via un seuil de similarité plus élevé et un N plus petit.\n",
        "\n",
        "Pistes d'amélioration :\n",
        "\n",
        "*Rendre le graphe plus clairsemé : *\n",
        "\n",
        "\n",
        "SIM_THRESHOLD = 0.30  # ou 0.35\n",
        "\n",
        "→ diminuer le nombre d’arêtes → élargir l’écart entre les scores.\n",
        "\n",
        "*Réduire la taille du résumé*\n",
        "\n",
        "\n",
        "N = 4  # ou 5 maximum\n",
        "\n",
        "*Ajouter un score de « première occurrence »\n",
        "Les premières phrases d’un article ont souvent plus de valeur.*\n",
        "\n",
        "\n",
        "position_bonus = {i: np.exp(-i/50) for i in range(n)}\n",
        "scores = {i: raw_scores.get(i,0) * penalty[i] * position_bonus[i] for i in range(n)}\n",
        "\n",
        " *Passer à SBERT (optionnel mais très efficace)\n",
        "Les embeddings contextuels donnent des similarités plus espacées dès le départ.*\n",
        "\n",
        "\n",
        "!pip install -q sentence-transformers\n",
        "from sentence_transformers import SentenceTransformer\n",
        "sbert = SentenceTransformer('all-MiniLM-L6-v2')\n",
        "sentence_vectors = sbert.encode(sentences, show_progress_bar=True)"
      ],
      "metadata": {
        "id": "3B1FX83e-lW4"
      }
    }
  ]
}