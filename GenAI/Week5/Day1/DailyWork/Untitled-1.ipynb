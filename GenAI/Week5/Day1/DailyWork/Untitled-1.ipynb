{
 "cells": [
  {
   "cell_type": "code",
   "execution_count": 4,
   "id": "ba31053f",
   "metadata": {},
   "outputs": [
    {
     "ename": "SyntaxError",
     "evalue": "invalid syntax (4091831043.py, line 3)",
     "output_type": "error",
     "traceback": [
      "  \u001b[36mCell\u001b[39m\u001b[36m \u001b[39m\u001b[32mIn[4]\u001b[39m\u001b[32m, line 3\u001b[39m\n\u001b[31m    \u001b[39m\u001b[31mpip install scikit-learn\u001b[39m\n        ^\n\u001b[31mSyntaxError\u001b[39m\u001b[31m:\u001b[39m invalid syntax\n"
     ]
    }
   ],
   "source": [
    "# make sure you got the library installed, we use \"!\" to install it directly in the notebook. If you install it in a terminal, take off the \"!\".\n",
    "\n",
    "pip install scikit-learn\n",
    "\n",
    "import numpy as np\n",
    "from sklearn.linear_model import LinearRegression\n",
    "import matplotlib.pyplot as plt\n",
    "\n",
    "# Create some data\n",
    "np.random.seed(0)\n",
    "X = np.random.rand(100, 1) * 10  # Independent variable (hours studied)\n",
    "y = 2 * X + 1 + np.random.randn(100, 1) * 2  # Dependent variable (test scores)\n",
    "\n",
    "# Create a linear regression model\n",
    "model = LinearRegression()\n",
    "\n",
    "# Fit the model\n",
    "model.fit(X, y)\n",
    "\n",
    "# Make predictions\n",
    "X_new = np.array([[0], [10]])\n",
    "y_predict = model.predict(X_new)\n",
    "\n",
    "# Plotting the results\n",
    "plt.scatter(X, y, color='blue')  # plot the data points\n",
    "plt.plot(X_new, y_predict, color='red', linewidth=2)  # plot the regression line\n",
    "plt.xlabel('Independent Variable (X)')\n",
    "plt.ylabel('Dependent Variable (y)')\n",
    "plt.title('Linear Regression Example')\n",
    "plt.show()"
   ]
  }
 ],
 "metadata": {
  "kernelspec": {
   "display_name": "Python 3",
   "language": "python",
   "name": "python3"
  },
  "language_info": {
   "codemirror_mode": {
    "name": "ipython",
    "version": 3
   },
   "file_extension": ".py",
   "mimetype": "text/x-python",
   "name": "python",
   "nbconvert_exporter": "python",
   "pygments_lexer": "ipython3",
   "version": "3.11.4"
  }
 },
 "nbformat": 4,
 "nbformat_minor": 5
}
