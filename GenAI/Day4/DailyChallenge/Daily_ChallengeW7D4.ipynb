{
  "nbformat": 4,
  "nbformat_minor": 0,
  "metadata": {
    "colab": {
      "provenance": []
    },
    "kernelspec": {
      "name": "python3",
      "display_name": "Python 3"
    },
    "language_info": {
      "name": "python"
    }
  },
  "cells": [
    {
      "cell_type": "markdown",
      "source": [
        "Partie 1 : Installation des dépendances"
      ],
      "metadata": {
        "id": "qolbLTMGN_eY"
      }
    },
    {
      "cell_type": "code",
      "execution_count": 21,
      "metadata": {
        "colab": {
          "base_uri": "https://localhost:8080/"
        },
        "id": "mWKZ8ao4N-Bb",
        "outputId": "4c2f2dcd-8f89-4572-a5e4-2a50baf4302e"
      },
      "outputs": [
        {
          "output_type": "stream",
          "name": "stdout",
          "text": [
            "Requirement already satisfied: pinecone==6.0.1 in /usr/local/lib/python3.11/dist-packages (6.0.1)\n",
            "Requirement already satisfied: pinecone-notebooks in /usr/local/lib/python3.11/dist-packages (0.1.1)\n",
            "Requirement already satisfied: certifi>=2019.11.17 in /usr/local/lib/python3.11/dist-packages (from pinecone==6.0.1) (2025.7.14)\n",
            "Requirement already satisfied: pinecone-plugin-interface<0.0.8,>=0.0.7 in /usr/local/lib/python3.11/dist-packages (from pinecone==6.0.1) (0.0.7)\n",
            "Requirement already satisfied: python-dateutil>=2.5.3 in /usr/local/lib/python3.11/dist-packages (from pinecone==6.0.1) (2.9.0.post0)\n",
            "Requirement already satisfied: typing-extensions>=3.7.4 in /usr/local/lib/python3.11/dist-packages (from pinecone==6.0.1) (4.14.1)\n",
            "Requirement already satisfied: urllib3>=1.26.0 in /usr/local/lib/python3.11/dist-packages (from pinecone==6.0.1) (2.4.0)\n",
            "Requirement already satisfied: six>=1.5 in /usr/local/lib/python3.11/dist-packages (from python-dateutil>=2.5.3->pinecone==6.0.1) (1.17.0)\n",
            "Requirement already satisfied: pandas in /usr/local/lib/python3.11/dist-packages (2.2.2)\n",
            "Requirement already satisfied: torch in /usr/local/lib/python3.11/dist-packages (2.6.0+cu124)\n",
            "Requirement already satisfied: transformers in /usr/local/lib/python3.11/dist-packages (4.53.2)\n",
            "Requirement already satisfied: sentence-transformers in /usr/local/lib/python3.11/dist-packages (4.1.0)\n",
            "Requirement already satisfied: numpy>=1.23.2 in /usr/local/lib/python3.11/dist-packages (from pandas) (2.0.2)\n",
            "Requirement already satisfied: python-dateutil>=2.8.2 in /usr/local/lib/python3.11/dist-packages (from pandas) (2.9.0.post0)\n",
            "Requirement already satisfied: pytz>=2020.1 in /usr/local/lib/python3.11/dist-packages (from pandas) (2025.2)\n",
            "Requirement already satisfied: tzdata>=2022.7 in /usr/local/lib/python3.11/dist-packages (from pandas) (2025.2)\n",
            "Requirement already satisfied: filelock in /usr/local/lib/python3.11/dist-packages (from torch) (3.18.0)\n",
            "Requirement already satisfied: typing-extensions>=4.10.0 in /usr/local/lib/python3.11/dist-packages (from torch) (4.14.1)\n",
            "Requirement already satisfied: networkx in /usr/local/lib/python3.11/dist-packages (from torch) (3.5)\n",
            "Requirement already satisfied: jinja2 in /usr/local/lib/python3.11/dist-packages (from torch) (3.1.6)\n",
            "Requirement already satisfied: fsspec in /usr/local/lib/python3.11/dist-packages (from torch) (2025.3.2)\n",
            "Requirement already satisfied: nvidia-cuda-nvrtc-cu12==12.4.127 in /usr/local/lib/python3.11/dist-packages (from torch) (12.4.127)\n",
            "Requirement already satisfied: nvidia-cuda-runtime-cu12==12.4.127 in /usr/local/lib/python3.11/dist-packages (from torch) (12.4.127)\n",
            "Requirement already satisfied: nvidia-cuda-cupti-cu12==12.4.127 in /usr/local/lib/python3.11/dist-packages (from torch) (12.4.127)\n",
            "Requirement already satisfied: nvidia-cudnn-cu12==9.1.0.70 in /usr/local/lib/python3.11/dist-packages (from torch) (9.1.0.70)\n",
            "Requirement already satisfied: nvidia-cublas-cu12==12.4.5.8 in /usr/local/lib/python3.11/dist-packages (from torch) (12.4.5.8)\n",
            "Requirement already satisfied: nvidia-cufft-cu12==11.2.1.3 in /usr/local/lib/python3.11/dist-packages (from torch) (11.2.1.3)\n",
            "Requirement already satisfied: nvidia-curand-cu12==10.3.5.147 in /usr/local/lib/python3.11/dist-packages (from torch) (10.3.5.147)\n",
            "Requirement already satisfied: nvidia-cusolver-cu12==11.6.1.9 in /usr/local/lib/python3.11/dist-packages (from torch) (11.6.1.9)\n",
            "Requirement already satisfied: nvidia-cusparse-cu12==12.3.1.170 in /usr/local/lib/python3.11/dist-packages (from torch) (12.3.1.170)\n",
            "Requirement already satisfied: nvidia-cusparselt-cu12==0.6.2 in /usr/local/lib/python3.11/dist-packages (from torch) (0.6.2)\n",
            "Requirement already satisfied: nvidia-nccl-cu12==2.21.5 in /usr/local/lib/python3.11/dist-packages (from torch) (2.21.5)\n",
            "Requirement already satisfied: nvidia-nvtx-cu12==12.4.127 in /usr/local/lib/python3.11/dist-packages (from torch) (12.4.127)\n",
            "Requirement already satisfied: nvidia-nvjitlink-cu12==12.4.127 in /usr/local/lib/python3.11/dist-packages (from torch) (12.4.127)\n",
            "Requirement already satisfied: triton==3.2.0 in /usr/local/lib/python3.11/dist-packages (from torch) (3.2.0)\n",
            "Requirement already satisfied: sympy==1.13.1 in /usr/local/lib/python3.11/dist-packages (from torch) (1.13.1)\n",
            "Requirement already satisfied: mpmath<1.4,>=1.1.0 in /usr/local/lib/python3.11/dist-packages (from sympy==1.13.1->torch) (1.3.0)\n",
            "Requirement already satisfied: huggingface-hub<1.0,>=0.30.0 in /usr/local/lib/python3.11/dist-packages (from transformers) (0.33.4)\n",
            "Requirement already satisfied: packaging>=20.0 in /usr/local/lib/python3.11/dist-packages (from transformers) (25.0)\n",
            "Requirement already satisfied: pyyaml>=5.1 in /usr/local/lib/python3.11/dist-packages (from transformers) (6.0.2)\n",
            "Requirement already satisfied: regex!=2019.12.17 in /usr/local/lib/python3.11/dist-packages (from transformers) (2024.11.6)\n",
            "Requirement already satisfied: requests in /usr/local/lib/python3.11/dist-packages (from transformers) (2.32.3)\n",
            "Requirement already satisfied: tokenizers<0.22,>=0.21 in /usr/local/lib/python3.11/dist-packages (from transformers) (0.21.2)\n",
            "Requirement already satisfied: safetensors>=0.4.3 in /usr/local/lib/python3.11/dist-packages (from transformers) (0.5.3)\n",
            "Requirement already satisfied: tqdm>=4.27 in /usr/local/lib/python3.11/dist-packages (from transformers) (4.67.1)\n",
            "Requirement already satisfied: scikit-learn in /usr/local/lib/python3.11/dist-packages (from sentence-transformers) (1.6.1)\n",
            "Requirement already satisfied: scipy in /usr/local/lib/python3.11/dist-packages (from sentence-transformers) (1.15.3)\n",
            "Requirement already satisfied: Pillow in /usr/local/lib/python3.11/dist-packages (from sentence-transformers) (11.2.1)\n",
            "Requirement already satisfied: hf-xet<2.0.0,>=1.1.2 in /usr/local/lib/python3.11/dist-packages (from huggingface-hub<1.0,>=0.30.0->transformers) (1.1.5)\n",
            "Requirement already satisfied: six>=1.5 in /usr/local/lib/python3.11/dist-packages (from python-dateutil>=2.8.2->pandas) (1.17.0)\n",
            "Requirement already satisfied: MarkupSafe>=2.0 in /usr/local/lib/python3.11/dist-packages (from jinja2->torch) (3.0.2)\n",
            "Requirement already satisfied: charset-normalizer<4,>=2 in /usr/local/lib/python3.11/dist-packages (from requests->transformers) (3.4.2)\n",
            "Requirement already satisfied: idna<4,>=2.5 in /usr/local/lib/python3.11/dist-packages (from requests->transformers) (3.10)\n",
            "Requirement already satisfied: urllib3<3,>=1.21.1 in /usr/local/lib/python3.11/dist-packages (from requests->transformers) (2.4.0)\n",
            "Requirement already satisfied: certifi>=2017.4.17 in /usr/local/lib/python3.11/dist-packages (from requests->transformers) (2025.7.14)\n",
            "Requirement already satisfied: joblib>=1.2.0 in /usr/local/lib/python3.11/dist-packages (from scikit-learn->sentence-transformers) (1.5.1)\n",
            "Requirement already satisfied: threadpoolctl>=3.1.0 in /usr/local/lib/python3.11/dist-packages (from scikit-learn->sentence-transformers) (3.6.0)\n"
          ]
        }
      ],
      "source": [
        "# 1. Install Pinecone libraries\n",
        "!pip install pinecone==6.0.1 pinecone-notebooks\n",
        "\n",
        "# Install additional libraries needed\n",
        "!pip install pandas torch transformers sentence-transformers"
      ]
    },
    {
      "cell_type": "markdown",
      "source": [
        "Part 1: Load Documents & Execute Reranking Model"
      ],
      "metadata": {
        "id": "jL1Nj8SeOIJu"
      }
    },
    {
      "cell_type": "markdown",
      "source": [
        "# 2. Authenticate with Pinecone"
      ],
      "metadata": {
        "id": "z8sIpmBk2P_l"
      }
    },
    {
      "cell_type": "code",
      "source": [
        "import os\n",
        "\n",
        "# Authentification\n",
        "if not os.environ.get(\"PINECONE_API_KEY\"):\n",
        "    from pinecone_notebooks.colab import Authenticate\n",
        "    Authenticate()\n",
        "\n"
      ],
      "metadata": {
        "id": "RvQxUVObOIhz"
      },
      "execution_count": 22,
      "outputs": []
    },
    {
      "cell_type": "markdown",
      "source": [
        "# 3. Instantiate the Pinecone client"
      ],
      "metadata": {
        "id": "XrZjJTeUOPcV"
      }
    },
    {
      "cell_type": "code",
      "source": [
        "from pinecone import Pinecone\n",
        "\n",
        "# Initialisation du client Pinecone\n",
        "api_key = os.environ[\"PINECONE_API_KEY\"]\n",
        "environment = os.environ.get(\"PINECONE_ENVIRONMENT\", \"us-west1-gcp\")  # Valeur par défaut\n",
        "pc = Pinecone(api_key=api_key)"
      ],
      "metadata": {
        "id": "peusJO5UOPul"
      },
      "execution_count": 23,
      "outputs": []
    },
    {
      "cell_type": "markdown",
      "source": [
        "# 4. Define your query & documents"
      ],
      "metadata": {
        "id": "z_a3caE4V-1k"
      }
    },
    {
      "cell_type": "code",
      "source": [
        "def show_reranked(query, reranked_data):\n",
        "    \"\"\"Affiche les résultats du reranking\"\"\"\n",
        "    print(f\"Query: {query}\")\n",
        "    print(\"Reranked results:\")\n",
        "    for i, result in enumerate(reranked_data):\n",
        "        print(f\"{i+1}. Score: {result.score:.4f}\")\n",
        "        print(f\"   Document: {result.document}\")\n",
        "        print()\n",
        "\n",
        "# Définition de la requête et des documents\n",
        "query = \"Tell me about Apple's products\"\n",
        "documents = [\n",
        "    \"Apple is a popular fruit that comes in many varieties.\",\n",
        "    \"Apple Inc. released the new iPhone with advanced features.\",\n",
        "    \"Green apples are tart and delicious for baking.\",\n",
        "    \"Apple's MacBooks are top sellers in the laptop market.\",\n",
        "    \"I had a red apple for breakfast this morning.\"\n",
        "]\n",
        "\n",
        "# Exécution du reranking\n",
        "try:\n",
        "    reranked = pc.inference.rerank(\n",
        "        model=\"bge-reranker-v2-m3\",\n",
        "        query=query,\n",
        "        documents=documents\n",
        "    )\n",
        "\n",
        "    if reranked is not None and hasattr(reranked, 'data'):\n",
        "        show_reranked(query, reranked.data)\n",
        "    else:\n",
        "        print(\"Erreur : reranked est None ou n'a pas d'attribut 'data'\")\n",
        "\n",
        "except Exception as e:\n",
        "    print(f\"Erreur lors du reranking: {e}\")"
      ],
      "metadata": {
        "id": "wlEx9Cr9V_v9",
        "colab": {
          "base_uri": "https://localhost:8080/"
        },
        "outputId": "60f4d9bd-a62d-411a-d061-d8e423b52a6b"
      },
      "execution_count": 24,
      "outputs": [
        {
          "output_type": "stream",
          "name": "stdout",
          "text": [
            "Query: Tell me about Apple's products\n",
            "Reranked results:\n",
            "1. Score: 0.2770\n",
            "   Document: text=\"Apple's MacBooks are top sellers in the laptop market.\"\n",
            "\n",
            "2. Score: 0.0839\n",
            "   Document: text='Apple is a popular fruit that comes in many varieties.'\n",
            "\n",
            "3. Score: 0.0077\n",
            "   Document: text='Apple Inc. released the new iPhone with advanced features.'\n",
            "\n",
            "4. Score: 0.0010\n",
            "   Document: text='Green apples are tart and delicious for baking.'\n",
            "\n",
            "5. Score: 0.0000\n",
            "   Document: text='I had a red apple for breakfast this morning.'\n",
            "\n"
          ]
        }
      ]
    },
    {
      "cell_type": "code",
      "source": [
        "import os\n",
        "import pinecone\n",
        "import time\n",
        "\n",
        "# Méthode d'authentification la plus fiable\n",
        "try:\n",
        "    # Option 1 : Authentification via les secrets Colab (recommandé)\n",
        "    from google.colab import userdata\n",
        "    api_key = userdata.get('PINECONE_API_KEY')\n",
        "except:\n",
        "    # Option 2 : Authentification via la méthode des notebooks Pinecone\n",
        "    if not os.environ.get(\"PINECONE_API_KEY\"):\n",
        "        from pinecone_notebooks.colab import Authenticate\n",
        "        Authenticate()\n",
        "    api_key = os.environ.get(\"PINECONE_API_KEY\")\n",
        "\n",
        "# Initialisation Pinecone\n",
        "pc = pinecone.Pinecone(api_key=api_key)\n",
        "\n",
        "# Configuration de l'index\n",
        "index_name = \"pinecone-reranker\"\n",
        "spec = {\n",
        "    \"serverless\": {\n",
        "        \"cloud\": \"aws\",\n",
        "        \"region\": \"us-east-1\"  # ou \"eu-west-1\" pour l'Europe\n",
        "    }\n",
        "}\n",
        "\n",
        "# Gestion optimisée de l'index\n",
        "try:\n",
        "    existing_indexes = pc.list_indexes().names()\n",
        "\n",
        "    if index_name in existing_indexes:\n",
        "        print(f\"L'index {index_name} existe déjà - suppression...\")\n",
        "        pc.delete_index(index_name)\n",
        "        print(\"Index supprimé. Recréation...\")\n",
        "\n",
        "    pc.create_index(\n",
        "        name=index_name,\n",
        "        dimension=384,\n",
        "        metric=\"cosine\",\n",
        "        spec=spec\n",
        "    )\n",
        "    print(\"Index créé avec succès. Initialisation en cours...\")\n",
        "\n",
        "    # Vérification optimisée\n",
        "    index = pc.Index(index_name)\n",
        "    start_time = time.time()\n",
        "    timeout = 120  # 2 minutes maximum\n",
        "\n",
        "    while True:\n",
        "        try:\n",
        "            stats = index.describe_index_stats()\n",
        "            if stats.get('total_vector_count', 0) >= 0:  # Juste pour vérifier la connexion\n",
        "                print(f\"Index prêt en {time.time()-start_time:.2f}s\")\n",
        "                print(\"Statistiques:\", stats)\n",
        "                break\n",
        "        except Exception as e:\n",
        "            if time.time() - start_time > timeout:\n",
        "                raise TimeoutError(f\"Initialisation dépassant {timeout} secondes\")\n",
        "            time.sleep(5)\n",
        "\n",
        "except Exception as e:\n",
        "    print(\"Erreur critique:\", str(e))\n",
        "    print(\"Vérifiez:\")\n",
        "    print(\"1. Votre clé API dans Colab Secrets (icône 🔒)\")\n",
        "    print(\"2. Votre quota sur app.pinecone.io\")\n",
        "    print(\"3. La région de votre index\")"
      ],
      "metadata": {
        "colab": {
          "base_uri": "https://localhost:8080/"
        },
        "id": "4OCVPhWtlJSn",
        "outputId": "dceeddfa-8828-489d-bff4-2bf9f9dc9675"
      },
      "execution_count": 25,
      "outputs": [
        {
          "output_type": "stream",
          "name": "stdout",
          "text": [
            "L'index pinecone-reranker existe déjà - suppression...\n",
            "Index supprimé. Recréation...\n",
            "Index créé avec succès. Initialisation en cours...\n",
            "Index prêt en 0.89s\n",
            "Statistiques: {'dimension': 384,\n",
            " 'index_fullness': 0.0,\n",
            " 'metric': 'cosine',\n",
            " 'namespaces': {},\n",
            " 'total_vector_count': 0,\n",
            " 'vector_type': 'dense'}\n"
          ]
        }
      ]
    },
    {
      "cell_type": "code",
      "source": [
        "import requests\n",
        "import pandas as pd\n",
        "import json\n",
        "from tqdm import tqdm\n",
        "\n",
        "# Configuration\n",
        "DATA_URL = \"https://raw.githubusercontent.com/pinecone-io/examples/refs/heads/master/docs/data/sample_notes_data.jsonl\"\n",
        "CHUNK_SIZE = 100  # Taille des lots pour l'insertion\n",
        "\n",
        "def download_and_prepare_data(url):\n",
        "    \"\"\"Télécharge et prépare les données pour Pinecone\"\"\"\n",
        "    try:\n",
        "        # Téléchargement avec vérification\n",
        "        response = requests.get(url, timeout=10)\n",
        "        response.raise_for_status()\n",
        "\n",
        "        # Conversion correcte en DataFrame\n",
        "        data = [json.loads(line) for line in response.text.splitlines()]\n",
        "        df = pd.DataFrame(data)\n",
        "\n",
        "        # Vérification des colonnes requises\n",
        "        required_columns = {'id', 'values', 'metadata'}\n",
        "        if not required_columns.issubset(df.columns):\n",
        "            missing = required_columns - set(df.columns)\n",
        "            raise ValueError(f\"Colonnes manquantes: {missing}\")\n",
        "\n",
        "        # Conversion des types\n",
        "        df['id'] = df['id'].astype(str)\n",
        "        df['values'] = df['values'].apply(lambda x: list(map(float, x)))\n",
        "\n",
        "        return df\n",
        "\n",
        "    except requests.exceptions.RequestException as e:\n",
        "        print(f\"Erreur de réseau: {str(e)}\")\n",
        "    except json.JSONDecodeError as e:\n",
        "        print(f\"Erreur de décodage JSON: {str(e)}\")\n",
        "    except Exception as e:\n",
        "        print(f\"Erreur inattendue: {str(e)}\")\n",
        "    return None\n",
        "\n",
        "def insert_to_pinecone(index, dataframe, batch_size=100):\n",
        "    \"\"\"Insertion optimisée des données dans Pinecone\"\"\"\n",
        "    try:\n",
        "        # Préparation des vecteurs\n",
        "        vectors = [\n",
        "            (str(row['id']),\n",
        "             [float(x) for x in row['values']],  # Conversion explicite\n",
        "             dict(row['metadata']) if pd.notna(row['metadata']) else {}\n",
        "            )\n",
        "            for _, row in dataframe.iterrows()\n",
        "        ]\n",
        "\n",
        "        # Insertion par lots avec progression\n",
        "        for i in tqdm(range(0, len(vectors), batch_size),\n",
        "                     desc=\"Insertion des vecteurs\",\n",
        "                     unit=\"vec\"):\n",
        "            batch = vectors[i:i + batch_size]\n",
        "            index.upsert(vectors=batch)\n",
        "\n",
        "        print(f\"\\n✅ {len(dataframe)} vecteurs insérés avec succès\")\n",
        "        return True\n",
        "\n",
        "    except Exception as e:\n",
        "        print(f\"❌ Erreur lors de l'insertion: {str(e)}\")\n",
        "        return False\n",
        "\n",
        "# Exécution\n",
        "print(\"📥 Téléchargement des données...\")\n",
        "df = download_and_prepare_data(DATA_URL)\n",
        "\n",
        "if df is not None:\n",
        "    print(\"\\n🔍 Aperçu des données:\")\n",
        "    print(df[['id', 'values']].head())\n",
        "\n",
        "    print(\"\\n🚀 Début de l'insertion dans Pinecone...\")\n",
        "    if insert_to_pinecone(index, df, CHUNK_SIZE):\n",
        "        stats = index.describe_index_stats()\n",
        "        print(\"\\n📊 Statistiques finales:\")\n",
        "        print(f\"• Vecteurs: {stats['total_vector_count']}\")\n",
        "        print(f\"• Dimensions: {stats['dimension']}\")\n",
        "        print(f\"• Espace: {len(stats['namespaces'])} namespaces\")"
      ],
      "metadata": {
        "colab": {
          "base_uri": "https://localhost:8080/"
        },
        "id": "uXQXAomIBpLr",
        "outputId": "ac4b4978-5af5-4160-fcc4-532ea815de5c"
      },
      "execution_count": 26,
      "outputs": [
        {
          "output_type": "stream",
          "name": "stdout",
          "text": [
            "📥 Téléchargement des données...\n",
            "\n",
            "🔍 Aperçu des données:\n",
            "     id                                             values\n",
            "0  P011  [-0.2027486265, 0.2769146562, -0.1509393603, 0...\n",
            "1  P001  [0.1842793673, 0.4459365904, -0.0770567134, 0....\n",
            "2  P002  [-0.2040648609, -0.1739618927, -0.2897160649, ...\n",
            "3  P003  [0.1889383644, 0.2924542725, -0.2335938066, -0...\n",
            "4  P004  [-0.1217106804, 0.1674752235, -0.2318888158, 0...\n",
            "\n",
            "🚀 Début de l'insertion dans Pinecone...\n"
          ]
        },
        {
          "output_type": "stream",
          "name": "stderr",
          "text": [
            "Insertion des vecteurs: 100%|██████████| 1/1 [00:01<00:00,  1.42s/vec]\n"
          ]
        },
        {
          "output_type": "stream",
          "name": "stdout",
          "text": [
            "\n",
            "✅ 100 vecteurs insérés avec succès\n",
            "\n",
            "📊 Statistiques finales:\n",
            "• Vecteurs: 0\n",
            "• Dimensions: 384\n",
            "• Espace: 0 namespaces\n"
          ]
        }
      ]
    },
    {
      "cell_type": "code",
      "source": [
        "from sentence_transformers import SentenceTransformer\n",
        "\n",
        "def get_embedding(text):\n",
        "    \"\"\"Génère des embeddings de texte\"\"\"\n",
        "    model = SentenceTransformer(\"all-MiniLM-L6-v2\")\n",
        "    return model.encode(text).tolist()\n",
        "\n",
        "def show_results(q, matches):\n",
        "    \"\"\"Affiche les résultats de recherche\"\"\"\n",
        "    print(f\"Question: {q}\")\n",
        "    for i, m in enumerate(matches):\n",
        "        print(f\"{i+1}. ID: {m.id}, Score: {m.score:.4f}\")\n",
        "        print(f\"   Metadata: {m.metadata}\\n\")\n",
        "\n",
        "# Exemple de recherche\n",
        "question = \"what if my patient has leg pain\"\n",
        "emb = get_embedding(question)\n",
        "results = index.query(vector=emb, top_k=5, include_metadata=True)\n",
        "matches = sorted(results.matches, key=lambda m: m.score, reverse=True)\n",
        "\n",
        "show_results(question, matches)"
      ],
      "metadata": {
        "colab": {
          "base_uri": "https://localhost:8080/"
        },
        "id": "AxO9j14xBrM0",
        "outputId": "4463f3f8-670c-474e-cf39-e7e2ab0a8486"
      },
      "execution_count": 27,
      "outputs": [
        {
          "output_type": "stream",
          "name": "stdout",
          "text": [
            "Question: what if my patient has leg pain\n"
          ]
        }
      ]
    },
    {
      "cell_type": "code",
      "source": [
        "import os\n",
        "from pinecone import Pinecone\n",
        "\n",
        "# Authentification avec la méthode pinecone_notebooks\n",
        "if not os.environ.get(\"PINECONE_API_KEY\"):\n",
        "    from pinecone_notebooks.colab import Authenticate\n",
        "    Authenticate()  # Cette méthode va configurer la variable d'environnement\n",
        "\n",
        "# Initialisation du client Pinecone\n",
        "pc = Pinecone(api_key=os.environ[\"PINECONE_API_KEY\"])\n",
        "\n",
        "def show_reranked(query, results, top_n=5):\n",
        "    print(f\"Query: {query}\\n\")\n",
        "    for i, res in enumerate(results[:top_n]):\n",
        "        print(f\"{i+1}. Score: {res.score:.4f}\")\n",
        "        print(f\"   Texte: {res.document['text']}\\n\")\n",
        "\n",
        "# Documents cliniques à reranker\n",
        "clinical_docs = [\n",
        "    {\"text\": \"Protocol for managing chest pain in emergency\"},\n",
        "    {\"text\": \"Guidelines for leg pain diagnosis\"},\n",
        "    {\"text\": \"Treatment options for chronic back pain\"},\n",
        "    {\"text\": \"Differential diagnosis for leg swelling\"},\n",
        "    {\"text\": \"First aid for sports injuries\"}\n",
        "]\n",
        "\n",
        "# Requête clinique\n",
        "clinical_query = \"what if my patient has leg pain\"\n",
        "\n",
        "try:\n",
        "    # Appel correct sans top_k\n",
        "    reranked = pc.inference.rerank(\n",
        "        model=\"bge-reranker-v2-m3\",\n",
        "        query=clinical_query,\n",
        "        documents=clinical_docs\n",
        "    )\n",
        "\n",
        "    # Afficher les top 5 résultats\n",
        "    show_reranked(clinical_query, reranked.data)\n",
        "\n",
        "except Exception as e:\n",
        "    print(f\"Erreur: {str(e)}\")"
      ],
      "metadata": {
        "colab": {
          "base_uri": "https://localhost:8080/"
        },
        "id": "5Taqcz_9Bs91",
        "outputId": "89d8325d-3b33-4f21-cafe-deabf8508183"
      },
      "execution_count": 28,
      "outputs": [
        {
          "output_type": "stream",
          "name": "stdout",
          "text": [
            "Query: what if my patient has leg pain\n",
            "\n",
            "1. Score: 0.1542\n",
            "   Texte: Guidelines for leg pain diagnosis\n",
            "\n",
            "2. Score: 0.0029\n",
            "   Texte: First aid for sports injuries\n",
            "\n",
            "3. Score: 0.0012\n",
            "   Texte: Treatment options for chronic back pain\n",
            "\n",
            "4. Score: 0.0010\n",
            "   Texte: Differential diagnosis for leg swelling\n",
            "\n",
            "5. Score: 0.0001\n",
            "   Texte: Protocol for managing chest pain in emergency\n",
            "\n"
          ]
        }
      ]
    },
    {
      "cell_type": "code",
      "source": [
        "def setup_pinecone_connection():\n",
        "    \"\"\"Configure la connexion Pinecone de manière interactive\"\"\"\n",
        "    api_key = input(\"Entrez votre clé API Pinecone: \")\n",
        "    try:\n",
        "        pc = Pinecone(api_key=api_key)\n",
        "        print(\"✅ Client Pinecone initialisé avec succès\")\n",
        "        return pc\n",
        "    except Exception as e:\n",
        "        print(f\"❌ Erreur d'initialisation Pinecone: {e}\")\n",
        "        return None\n",
        "\n",
        "def show_reranked_clinical(query, reranked_data):\n",
        "    \"\"\"Affiche les résultats cliniques rerankés\"\"\"\n",
        "    print(f\"Clinical Query: {query}\")\n",
        "    if reranked_data: # Add a check for None or empty data\n",
        "        for i, result in enumerate(reranked_data):\n",
        "            print(f\"{i+1}. Score: {result.score:.4f}\")\n",
        "            print(f\"   Document: {result.document}\\n\")\n",
        "    else:\n",
        "        print(\"No reranked results to display.\")\n",
        "\n",
        "\n",
        "def complete_workflow_example():\n",
        "    \"\"\"Exemple complet du workflow\"\"\"\n",
        "    print(\"=== Workflow complet de reranking avec Pinecone ===\")\n",
        "\n",
        "    # Test avec les documents Apple (using existing variables from previous cells)\n",
        "    print(\"\\n1. Test avec les documents Apple:\")\n",
        "    # Ensure 'query' and 'documents' are defined in a previous cell or within this function\n",
        "    # For this example, we assume they are defined globally in a previous cell\n",
        "    try:\n",
        "        reranked_apple = pc.inference.rerank(\n",
        "            model=\"bge-reranker-v2-m3\",\n",
        "            query=query,\n",
        "            documents=documents\n",
        "        )\n",
        "        show_reranked(query, reranked_apple.data) # Use .data\n",
        "    except Exception as e:\n",
        "        print(f\"Erreur lors du reranking des documents Apple: {e}\")\n",
        "\n",
        "\n",
        "    # Test avec les notes médicales (using existing variables from previous cells)\n",
        "    print(\"\\n2. Résultats de recherche sémantique:\")\n",
        "    # Ensure 'question' and 'matches' are defined in a previous cell or within this function\n",
        "    # For this example, we assume they are defined globally in a previous cell\n",
        "    try:\n",
        "        show_results(question, matches)\n",
        "    except Exception as e:\n",
        "        print(f\"Erreur lors de l'affichage des résultats de recherche sémantique: {e}\")\n",
        "\n",
        "    print(\"\\n3. Résultats après reranking:\")\n",
        "    # Ensure 'reranked' is defined in a previous cell or within this function\n",
        "    # For this example, we assume it is defined globally in cell 5Taqcz_9Bs91\n",
        "    rerank_query = \"patient with post-operative leg pain and swelling\" # Define rerank_query\n",
        "    try:\n",
        "        # Assuming 'reranked' from cell 5Taqcz_9Bs91 is the result of a rerank call\n",
        "        # If not, you would need to perform the reranking here\n",
        "        # Example if you need to re-run reranking:\n",
        "        # clinical_docs_for_reranking = [{\"text\": m.metadata.get('symptoms', '') + \" \" + m.metadata.get('advice', '')} for m in matches]\n",
        "        # reranked_clinical = pc.inference.rerank(\n",
        "        #     model=\"bge-reranker-v2-m3\",\n",
        "        #     query=rerank_query,\n",
        "        #     documents=[doc['text'] for doc in clinical_docs_for_reranking]\n",
        "        # )\n",
        "        # show_reranked_clinical(rerank_query, reranked_clinical.data)\n",
        "\n",
        "        # Using the 'reranked' variable from cell 5Taqcz_9Bs91, which already performed reranking on clinical_docs\n",
        "        show_reranked_clinical(rerank_query, reranked.data) # Use .data\n",
        "\n",
        "    except Exception as e:\n",
        "        print(f\"Erreur lors de l'affichage des résultats rerankés: {e}\")\n",
        "\n",
        "\n",
        "# Pour exécuter le workflow complet\n",
        "if __name__ == \"__main__\":\n",
        "    # Note: This will use global variables defined in previous cells (pc, query, documents, question, matches, reranked)\n",
        "    # Ensure these cells have been run before executing this cell.\n",
        "    complete_workflow_example()"
      ],
      "metadata": {
        "colab": {
          "base_uri": "https://localhost:8080/"
        },
        "id": "Q1XHx65FBvhN",
        "outputId": "2c0058b0-4a13-4aaf-a8f4-8c6d66883a6b"
      },
      "execution_count": 29,
      "outputs": [
        {
          "output_type": "stream",
          "name": "stdout",
          "text": [
            "=== Workflow complet de reranking avec Pinecone ===\n",
            "\n",
            "1. Test avec les documents Apple:\n",
            "Query: Tell me about Apple's products\n",
            "\n",
            "1. Score: 0.2770\n",
            "   Texte: Apple's MacBooks are top sellers in the laptop market.\n",
            "\n",
            "2. Score: 0.0839\n",
            "   Texte: Apple is a popular fruit that comes in many varieties.\n",
            "\n",
            "3. Score: 0.0077\n",
            "   Texte: Apple Inc. released the new iPhone with advanced features.\n",
            "\n",
            "4. Score: 0.0010\n",
            "   Texte: Green apples are tart and delicious for baking.\n",
            "\n",
            "5. Score: 0.0000\n",
            "   Texte: I had a red apple for breakfast this morning.\n",
            "\n",
            "\n",
            "2. Résultats de recherche sémantique:\n",
            "Question: what if my patient has leg pain\n",
            "\n",
            "3. Résultats après reranking:\n",
            "Clinical Query: patient with post-operative leg pain and swelling\n",
            "1. Score: 0.1542\n",
            "   Document: text='Guidelines for leg pain diagnosis'\n",
            "\n",
            "2. Score: 0.0029\n",
            "   Document: text='First aid for sports injuries'\n",
            "\n",
            "3. Score: 0.0012\n",
            "   Document: text='Treatment options for chronic back pain'\n",
            "\n",
            "4. Score: 0.0010\n",
            "   Document: text='Differential diagnosis for leg swelling'\n",
            "\n",
            "5. Score: 0.0001\n",
            "   Document: text='Protocol for managing chest pain in emergency'\n",
            "\n"
          ]
        }
      ]
    }
  ]
}