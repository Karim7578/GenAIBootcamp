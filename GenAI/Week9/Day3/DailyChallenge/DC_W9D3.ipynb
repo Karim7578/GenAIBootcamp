{
  "nbformat": 4,
  "nbformat_minor": 0,
  "metadata": {
    "colab": {
      "provenance": []
    },
    "kernelspec": {
      "name": "python3",
      "display_name": "Python 3"
    },
    "language_info": {
      "name": "python"
    }
  },
  "cells": [
    {
      "cell_type": "markdown",
      "source": [
        "🚨 Smart 911 Medical-Dispatch Agent – Design Document"
      ],
      "metadata": {
        "id": "_AzdG8crri43"
      }
    },
    {
      "cell_type": "markdown",
      "source": [
        "1. Environment Definition\n",
        "Perceivable Inputs\n",
        "\n",
        "    Caller utterance transcript (text or ASR)\n",
        "    Caller phone number → identity, home address, prior medical history (from EMS CRM)\n",
        "    Real-time GPS coordinate or reverse-geocoded address\n",
        "    Environmental sound cues (breathing noise, crowd, sirens) via audio stream\n",
        "    Current system load (available ambulances, hospital diversion status)"
      ],
      "metadata": {
        "id": "C2dVJb0yrc6c"
      }
    },
    {
      "cell_type": "markdown",
      "source": [
        "2. Tool List & Interfaces"
      ],
      "metadata": {
        "id": "MvgLffh0rvZF"
      }
    },
    {
      "cell_type": "markdown",
      "source": [
        "| Tool / API                          | Consumes                                                     | Returns                                        |\n",
        "| ----------------------------------- | ------------------------------------------------------------ | ---------------------------------------------- |\n",
        "| **Infermedica Symptom Checker**     | Parsed symptoms (ICD-10 codes, free-text), age, sex          | Ranked differential diagnoses + severity flags |\n",
        "| **Ambulance Scheduling System**     | Location, urgency, special needs (e.g., bariatric stretcher) | ETA of nearest unit + unit ID                  |\n",
        "| **Medical Triage LLM (fine-tuned)** | Full transcript, caller tone, Infermedica output             | Urgency score 0-100, risk keywords             |\n",
        "| **GIS / Traffic Service**           | Origin & destination coordinates                             | Real-time travel time, alternate routes        |\n"
      ],
      "metadata": {
        "id": "xoghxdmrryNs"
      }
    },
    {
      "cell_type": "markdown",
      "source": [
        "3. State Schema (JSON)"
      ],
      "metadata": {
        "id": "iSkawIL9r01P"
      }
    },
    {
      "cell_type": "code",
      "source": [
        "{\n",
        "  \"call_id\": \"uuid\",\n",
        "  \"caller\": {\n",
        "    \"phone\": \"+1-xxx-xxx-xxxx\",\n",
        "    \"identity\": { \"first_name\": \"...\", \"dob\": \"...\", \"allergies\": [...] },\n",
        "    \"location\": { \"lat\": 0.0, \"lon\": 0.0, \"address\": \"...\" }\n",
        "  },\n",
        "  \"symptoms\": [\n",
        "    { \"raw\": \"chest pain\", \"icd\": \"R06.02\", \"severity\": 8 }\n",
        "  ],\n",
        "  \"urgency_score\": 92,\n",
        "  \"actions_taken\": [\n",
        "    { \"type\": \"dispatch\", \"unit_id\": \"A-12\", \"eta\": 210 },\n",
        "    { \"type\": \"advice\", \"text\": \"Keep patient seated, chew aspirin if available\" }\n",
        "  ],\n",
        "  \"decision_log\": [\n",
        "    { \"step\": \"triage_llm\", \"timestamp\": \"...\", \"output\": {...} }\n",
        "  ]\n",
        "}"
      ],
      "metadata": {
        "id": "LMMvReCir0Fu"
      },
      "execution_count": null,
      "outputs": []
    },
    {
      "cell_type": "markdown",
      "source": [
        "4. Decision-Making Flowchart (Pseudocode)"
      ],
      "metadata": {
        "id": "mmBoNG1tr0uU"
      }
    },
    {
      "cell_type": "markdown",
      "source": [
        "1. transcribe(caller_audio) → transcript\n",
        "2. extract_entities(transcript) → symptoms, keywords\n",
        "3. urgency = triage_llm(transcript, symptoms, caller.history)\n",
        "4. if urgency ≥ 80:\n",
        "       dispatch = schedule_ambulance(location, high_priority)\n",
        "       advise(caller, \"Ambulance dispatched, ETA \" + dispatch.eta)\n",
        "   elif urgency ≥ 50:\n",
        "       nearest_uc = find_urgent_care(location)\n",
        "       advise(caller, \"Drive to \" + nearest_uc.name + \" (~\" + nearest_uc.drive_time + \" min)\")\n",
        "   else:\n",
        "       advise(caller, \"Monitor symptoms, call back if worsening\")\n",
        "5. log_everything()"
      ],
      "metadata": {
        "id": "NEcmbBgWr_Q7"
      }
    },
    {
      "cell_type": "markdown",
      "source": [
        "5. Agent Classification"
      ],
      "metadata": {
        "id": "pJCNIo8DsBl6"
      }
    },
    {
      "cell_type": "markdown",
      "source": [
        "Chosen Architecture: Hybrid (Deliberative + Reactive)\n",
        "\n",
        "    Uses memory to accumulate caller history & symptom evolution across the call.\n",
        "    Maintains a rolling plan (dispatch vs. advice) but can override immediately if new critical cues appear (e.g., “patient is unconscious now” triggers reactive dispatch).\n",
        "    Justification: Purely reactive would miss multi-turn context; purely deliberative would introduce latency unacceptable for cardiac arrest calls."
      ],
      "metadata": {
        "id": "oV7_xDTLsEND"
      }
    },
    {
      "cell_type": "markdown",
      "source": [
        "6. Comparison to Reactive-Only Agent"
      ],
      "metadata": {
        "id": "3gsC_ZPpsIzd"
      }
    },
    {
      "cell_type": "markdown",
      "source": [
        "| Aspect              | Hybrid (current)                                           | Pure Reactive                                    |\n",
        "| ------------------- | ---------------------------------------------------------- | ------------------------------------------------ |\n",
        "| **Memory**          | Keeps state across turns, enabling follow-up questions     | Stateless; each turn treated as new              |\n",
        "| **Planning**        | Builds & updates a dispatch plan; can backtrack            | No plan; immediate pattern → action              |\n",
        "| **Tool Invocation** | Batch queries (symptoms → triage → GIS) to reduce API cost | One tool per trigger; more API calls             |\n",
        "| **Speed**           | Slight latency for deliberation                            | Fastest single-turn decisions                    |\n",
        "| **Reliability**     | Cross-checks multiple models before dispatch               | Single point of failure if trigger rule is wrong |\n",
        "| **Intelligence**    | Handles complex, multi-symptom cases                       | Fails on edge cases needing context              |\n"
      ],
      "metadata": {
        "id": "fNzgZSdNs5ZX"
      }
    },
    {
      "cell_type": "markdown",
      "source": [
        "7. Reflection Answers"
      ],
      "metadata": {
        "id": "RY7ChQ7zsnZw"
      }
    },
    {
      "cell_type": "markdown",
      "source": [
        " What fails if state is not maintained?\n",
        "    Without state, the agent cannot remember that chest pain evolved into unconsciousness two turns later, leading to under-triage and potentially fatal delays.\n",
        "    Why are external tools essential?\n",
        "    High-accuracy triage and up-to-date ambulance availability cannot be embedded in a single model; external APIs provide real-world data (traffic, hospital capacity) that the agent itself cannot simulate."
      ],
      "metadata": {
        "id": "JTjkCiJdsoUg"
      }
    },
    {
      "cell_type": "markdown",
      "source": [
        "8. (Optional) GitHub Link"
      ],
      "metadata": {
        "id": "qDGyfYv3syd0"
      }
    },
    {
      "cell_type": "markdown",
      "source": [
        "github.com/yourhandle/911-dispatch-agent-design"
      ],
      "metadata": {
        "id": "bHYM1Ks8szCl"
      }
    }
  ]
}