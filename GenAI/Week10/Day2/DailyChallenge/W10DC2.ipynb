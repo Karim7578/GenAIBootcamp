{
  "nbformat": 4,
  "nbformat_minor": 0,
  "metadata": {
    "colab": {
      "provenance": []
    },
    "kernelspec": {
      "name": "python3",
      "display_name": "Python 3"
    },
    "language_info": {
      "name": "python"
    }
  },
  "cells": [
    {
      "cell_type": "code",
      "execution_count": 1,
      "metadata": {
        "colab": {
          "base_uri": "https://localhost:8080/"
        },
        "id": "WQSXVmY_J1Nj",
        "outputId": "c88d3170-e882-4442-d349-93e9cb12f462"
      },
      "outputs": [
        {
          "output_type": "stream",
          "name": "stdout",
          "text": [
            "Overwriting app.py\n"
          ]
        }
      ],
      "source": [
        "%%writefile app.py\n",
        "from datetime import datetime\n",
        "import gradio as gr\n",
        "\n",
        "def get_greeting(name: str, language: str) -> str:\n",
        "    hour = datetime.now().hour\n",
        "    if 5 <= hour < 12:\n",
        "        greeting_en, greeting_fr = \"Good morning\", \"Bonjour\"\n",
        "    elif 12 <= hour < 18:\n",
        "        greeting_en, greeting_fr = \"Good afternoon\", \"Bon après-midi\"\n",
        "    else:\n",
        "        greeting_en, greeting_fr = \"Good evening\", \"Bonsoir\"\n",
        "    greeting = greeting_en if language == \"English\" else greeting_fr\n",
        "    return f\"{greeting}, {name}!\"\n",
        "\n",
        "iface = gr.Interface(\n",
        "    fn=get_greeting,\n",
        "    inputs=[\n",
        "        gr.Textbox(label=\"Your name\", placeholder=\"Alice\"),\n",
        "        gr.Dropdown([\"English\", \"French\"], label=\"Language\", value=\"English\")\n",
        "    ],\n",
        "    outputs=gr.Textbox(label=\"Greeting\"),\n",
        "    title=\"Welcome to Our Community!\",\n",
        "    description=\"Get a personalized greeting in English or French.\",\n",
        "    examples=[[\"Alice\", \"English\"], [\"Jean\", \"French\"]],\n",
        ")\n",
        "\n",
        "if __name__ == \"__main__\":\n",
        "    iface.launch(share=True)"
      ]
    },
    {
      "cell_type": "code",
      "source": [
        "# 2) Install the two required packages\n",
        "!pip install -q gradio"
      ],
      "metadata": {
        "id": "8ZtCXiL9J81N"
      },
      "execution_count": 2,
      "outputs": []
    },
    {
      "cell_type": "code",
      "source": [
        "!python app.py\n"
      ],
      "metadata": {
        "colab": {
          "base_uri": "https://localhost:8080/"
        },
        "id": "c1-S7tQIKuHx",
        "outputId": "dcfa5818-4c23-403a-d6e0-fb3f4c2df3be"
      },
      "execution_count": 3,
      "outputs": [
        {
          "output_type": "stream",
          "name": "stdout",
          "text": [
            "* Running on local URL:  http://127.0.0.1:7860\n",
            "* Running on public URL: https://88810061a8648ac75b.gradio.live\n",
            "\n",
            "This share link expires in 1 week. For free permanent hosting and GPU upgrades, run `gradio deploy` from the terminal in the working directory to deploy to Hugging Face Spaces (https://huggingface.co/spaces)\n",
            "Keyboard interruption in main thread... closing server.\n",
            "Traceback (most recent call last):\n",
            "  File \"/usr/local/lib/python3.11/dist-packages/gradio/blocks.py\", line 3125, in block_thread\n",
            "    time.sleep(0.1)\n",
            "KeyboardInterrupt\n",
            "\n",
            "During handling of the above exception, another exception occurred:\n",
            "\n",
            "Traceback (most recent call last):\n",
            "  File \"/content/app.py\", line 28, in <module>\n",
            "    iface.launch(share=True)\n",
            "  File \"/usr/local/lib/python3.11/dist-packages/gradio/blocks.py\", line 3031, in launch\n",
            "    self.block_thread()\n",
            "  File \"/usr/local/lib/python3.11/dist-packages/gradio/blocks.py\", line 3129, in block_thread\n",
            "    self.server.close()\n",
            "  File \"/usr/local/lib/python3.11/dist-packages/gradio/http_server.py\", line 69, in close\n",
            "    self.thread.join(timeout=5)\n",
            "  File \"/usr/lib/python3.11/threading.py\", line 1123, in join\n",
            "    self._wait_for_tstate_lock(timeout=max(timeout, 0))\n",
            "  File \"/usr/lib/python3.11/threading.py\", line 1139, in _wait_for_tstate_lock\n",
            "    if lock.acquire(block, timeout):\n",
            "       ^^^^^^^^^^^^^^^^^^^^^^^^^^^^\n",
            "KeyboardInterrupt\n",
            "Killing tunnel 127.0.0.1:7860 <> https://88810061a8648ac75b.gradio.live\n",
            "^C\n"
          ]
        }
      ]
    },
    {
      "cell_type": "code",
      "source": [],
      "metadata": {
        "id": "QJykhFFFZZg8"
      },
      "execution_count": 3,
      "outputs": []
    }
  ]
}