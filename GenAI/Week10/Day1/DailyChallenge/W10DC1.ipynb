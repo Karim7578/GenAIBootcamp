{
  "nbformat": 4,
  "nbformat_minor": 0,
  "metadata": {
    "colab": {
      "provenance": []
    },
    "kernelspec": {
      "name": "python3",
      "display_name": "Python 3"
    },
    "language_info": {
      "name": "python"
    }
  },
  "cells": [
    {
      "cell_type": "markdown",
      "source": [
        "**Step 1: Craft a Prompt That Controls Output Tone, Format, and Length**"
      ],
      "metadata": {
        "id": "dEdVMRYSVyZH"
      }
    },
    {
      "cell_type": "markdown",
      "source": [
        "*   Always use our secure, approved VPN to reach company systems from\n",
        "anywhere\n",
        "*   Skip open Wi-Fi and any personal device that doesn’t have endpoint protection\n",
        "*  Keep all sensitive info and chats safe"
      ],
      "metadata": {
        "id": "14BoyDgcVyWX"
      }
    },
    {
      "cell_type": "markdown",
      "source": [
        "**Step 2: Evaluate the Output**"
      ],
      "metadata": {
        "id": "-ko3NLxjVyTw"
      }
    },
    {
      "cell_type": "markdown",
      "source": [
        "Relevance : Fully aligned; covers VPN mandate, avoidance of unsecured connections/unprotected devices, and protection of sensitive data.\n",
        "\n",
        "Clarity : Uses everyday language (“skip open Wi-Fi,” “reach company systems”) accessible to non-technical staff.\n",
        "\n",
        "Structure : Three concise bullet points, each with a single clear directive.\n",
        "\n",
        "Tone : Friendly, supportive, and suitable for internal communication.\n",
        "Length : 27 words, well under 75.\n",
        "\n",
        "Factual Accuracy :  No details added or omitted; all key security requirements from the original are preserved.\n"
      ],
      "metadata": {
        "id": "AIdWSsh3VyQ_"
      }
    },
    {
      "cell_type": "markdown",
      "source": [
        "**Step 3: Detect and Mitigate Hallucinations**"
      ],
      "metadata": {
        "id": "7LxDgpzWVyOG"
      }
    },
    {
      "cell_type": "markdown",
      "source": [
        "* Always use the approved secure VPN to reach internal systems\n",
        "\n",
        "* Never rely on unsecured links or personal devices without endpoint protection to handle proprietary data or sensitive communications\n",
        "\n",
        "\n",
        "Relevance : 100 % aligned; every key idea (approved VPN, ban on unsecured connections, ban on unprotected personal devices, protection of proprietary data & sensitive communications) is preserved.\n",
        "\n",
        "Clarity : Uses plain words like “links” and “handle” to make the policy understandable for non-technical staff.\n",
        "\n",
        "Structure : Two bullet points.\n",
        "\n",
        "Tone : Friendly yet firm; suitable for internal communication.\n",
        "\n",
        "Length :29 words, well below 75.\n",
        "\n",
        "Factual Accuracy : No additions or omissions; all security details from the original are retained.\n"
      ],
      "metadata": {
        "id": "exERSbtnVyE5"
      }
    },
    {
      "cell_type": "markdown",
      "source": [
        "**Step 4: Paraphrasing Deep Dive**"
      ],
      "metadata": {
        "id": "Q4nU1ojBX-Uh"
      }
    },
    {
      "cell_type": "markdown",
      "source": [
        "*   Use only the safe work VPN\n",
        "*   Skip open Wi-Fi\n",
        "*   Don’t use your own phone or laptop if it has no virus guard\n",
        "*   Keep secret files and chats safe\n",
        "\n",
        "\n",
        "\n",
        "Relevance : All key points from the original are covered: mandatory VPN, avoidance of unsecured connections, ban on personal devices without protection, and safeguarding sensitive data.\n",
        "\n",
        "Clarity : Uses plain, everyday words (“safe work VPN,” “virus guard”) that a junior intern can grasp instantly.\n",
        "\n",
        "Structure : Exactly four short bullet points.\n",
        "\n",
        "Tone :  Supportive and friendly (“Keep secret files and chats safe”).\n",
        "\n",
        "Length :  27 words, far under 75.\n",
        "Factual Accuracy :  No new details were added, and no critical security requirements were removed.\n"
      ],
      "metadata": {
        "id": "3kU9_mvSX-qS"
      }
    },
    {
      "cell_type": "markdown",
      "source": [
        "**Step 5: Quote Extraction Variant**"
      ],
      "metadata": {
        "id": "6tcxb9OpX-nK"
      }
    },
    {
      "cell_type": "markdown",
      "source": [
        "\"all remote access to internal systems is established via the approved secure VPN\"\n",
        "\n",
        "Relevance : Yes; the single extracted sentence is the core requirement from the source text.\n",
        "\n",
        "Clarity : The quote is unaltered, so clarity is that of the original.\n",
        "\n",
        "Structure : Presented as one direct quotation, not bullet points, which aligns with the “extract one direct quote” instruction rather than the earlier bullet-point tasks.\n",
        "\n",
        "Tone : Neutral, as it is a verbatim excerpt.\n",
        "\n",
        "Length : 13 words, far below 75.\n",
        "\n",
        "Factual Accuracy : No changes; the quote is exact and nothing was added or removed\n"
      ],
      "metadata": {
        "id": "ixVCgLVaX-jZ"
      }
    }
  ]
}